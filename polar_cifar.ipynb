{
 "cells": [
  {
   "cell_type": "code",
   "execution_count": 1,
   "metadata": {},
   "outputs": [
    {
     "name": "stdout",
     "output_type": "stream",
     "text": [
      "Couldn't import dot_parser, loading of dot files will not be possible.\n"
     ]
    }
   ],
   "source": [
    "from tensorflow.keras import datasets, layers, models\n",
    "\n",
    "import cv2 as cv\n",
    "import numpy as np\n",
    "import tensorflow as tf\n",
    "import tensorflow_addons as tfa\n",
    "import matplotlib.pyplot as plt"
   ]
  },
  {
   "cell_type": "code",
   "execution_count": 2,
   "metadata": {},
   "outputs": [],
   "source": [
    "(train_images, train_labels), (test_images, test_labels) = datasets.cifar10.load_data()\n",
    "# Normalize pixel values to be between 0 and 1\n",
    "train_images, test_images = (train_images / 255.0).astype(np.float32), test_images.astype(np.float32) / 255.0"
   ]
  },
  {
   "cell_type": "code",
   "execution_count": 29,
   "metadata": {},
   "outputs": [],
   "source": [
    "def padImage(image, pixels=5):\n",
    "    bottom = image[-pixels:]\n",
    "    top = image[:pixels]\n",
    "\n",
    "    img = np.insert(image, 0, bottom, 0)\n",
    "    img = np.insert(img, len(img), top, 0)\n",
    "    return img"
   ]
  },
  {
   "cell_type": "code",
   "execution_count": 32,
   "metadata": {},
   "outputs": [],
   "source": [
    "# 23 is the ceiling of (16 * sqrt(2))\n",
    "pixelsToPad = 6\n",
    "\n",
    "X_train_polar = [cv.linearPolar(x, tuple(np.array(x.shape[:2])/2), 23, cv.WARP_FILL_OUTLIERS) for x in train_images]\n",
    "X_train_polar = [padImage(x, pixels=pixelsToPad) for x in X_train_polar]\n",
    "X_train_polar = np.array(X_train_polar)\n",
    "\n",
    "X_test_polar = [cv.linearPolar(x, tuple(np.array(x.shape[:2])/2), 23, cv.WARP_FILL_OUTLIERS) for x in test_images]\n",
    "X_test_polar = [padImage(x, pixels=pixelsToPad) for x in X_test_polar]\n",
    "X_test_polar = np.array(X_test_polar)\n",
    "\n",
    "# Rotate test set\n",
    "X_test_r_polar = [tfa.image.rotate(x, np.random.uniform(-np.pi/2., np.pi/2.)).numpy() for x in test_images]\n",
    "X_test_r_polar = [cv.linearPolar(x, tuple(np.array(x.shape[:2])/2), 23, cv.WARP_FILL_OUTLIERS) for x in X_test_r_polar]\n",
    "X_test_r_polar = [padImage(x, pixels=pixelsToPad) for x in X_test_r_polar]\n",
    "X_test_r_polar = np.array(X_test_r_polar)"
   ]
  },
  {
   "cell_type": "code",
   "execution_count": 33,
   "metadata": {},
   "outputs": [],
   "source": [
    "model = models.Sequential()\n",
    "model.add(layers.Input(shape=X_train_polar.shape[1:]))\n",
    "model.add(layers.Conv2D(32, (3, 3), activation='relu'))\n",
    "model.add(layers.MaxPooling2D())\n",
    "model.add(layers.Conv2D(64, (3, 3), activation='relu'))\n",
    "model.add(layers.MaxPooling2D())\n",
    "model.add(layers.Conv2D(128, (3, 3), activation='relu'))\n",
    "\n",
    "model.add(layers.GlobalMaxPooling2D())\n",
    "model.add(layers.Dense(64, activation='relu'))\n",
    "model.add(layers.Dense(10, activation='softmax'))"
   ]
  },
  {
   "cell_type": "code",
   "execution_count": 34,
   "metadata": {},
   "outputs": [
    {
     "name": "stdout",
     "output_type": "stream",
     "text": [
      "Model: \"sequential_1\"\n",
      "_________________________________________________________________\n",
      "Layer (type)                 Output Shape              Param #   \n",
      "=================================================================\n",
      "conv2d_1 (Conv2D)            (None, 42, 30, 32)        896       \n",
      "_________________________________________________________________\n",
      "max_pooling2d_1 (MaxPooling2 (None, 21, 15, 32)        0         \n",
      "_________________________________________________________________\n",
      "conv2d_2 (Conv2D)            (None, 19, 13, 64)        18496     \n",
      "_________________________________________________________________\n",
      "max_pooling2d_2 (MaxPooling2 (None, 9, 6, 64)          0         \n",
      "_________________________________________________________________\n",
      "conv2d_3 (Conv2D)            (None, 7, 4, 128)         73856     \n",
      "_________________________________________________________________\n",
      "global_max_pooling2d (Global (None, 128)               0         \n",
      "_________________________________________________________________\n",
      "dense (Dense)                (None, 64)                8256      \n",
      "_________________________________________________________________\n",
      "dense_1 (Dense)              (None, 10)                650       \n",
      "=================================================================\n",
      "Total params: 102,154\n",
      "Trainable params: 102,154\n",
      "Non-trainable params: 0\n",
      "_________________________________________________________________\n"
     ]
    }
   ],
   "source": [
    "model.summary()"
   ]
  },
  {
   "cell_type": "code",
   "execution_count": 40,
   "metadata": {},
   "outputs": [
    {
     "name": "stdout",
     "output_type": "stream",
     "text": [
      "Epoch 1/3\n",
      "1563/1563 [==============================] - 35s 22ms/step - loss: 1.0244 - accuracy: 0.6365\n",
      "Epoch 2/3\n",
      "1563/1563 [==============================] - 35s 22ms/step - loss: 0.9660 - accuracy: 0.6562\n",
      "Epoch 3/3\n",
      "1563/1563 [==============================] - 65s 41ms/step - loss: 0.9040 - accuracy: 0.6803\n"
     ]
    },
    {
     "data": {
      "text/plain": [
       "<tensorflow.python.keras.callbacks.History at 0x148db68b820>"
      ]
     },
     "execution_count": 40,
     "metadata": {},
     "output_type": "execute_result"
    }
   ],
   "source": [
    "model.compile(loss='sparse_categorical_crossentropy', optimizer='adam', metrics=['accuracy'])\n",
    "model.fit(X_train_polar, train_labels, batch_size=32, epochs=3)"
   ]
  },
  {
   "cell_type": "code",
   "execution_count": 42,
   "metadata": {},
   "outputs": [
    {
     "name": "stdout",
     "output_type": "stream",
     "text": [
      "313/313 - 4s - loss: 1.0595 - accuracy: 0.6215\n"
     ]
    },
    {
     "data": {
      "text/plain": [
       "[1.0595182180404663, 0.6215000152587891]"
      ]
     },
     "execution_count": 42,
     "metadata": {},
     "output_type": "execute_result"
    }
   ],
   "source": [
    "model.evaluate(X_test_polar, test_labels, verbose=2)\n",
    "\n",
    "# Plain accuracy\n",
    "#accuracy = np.mean(model.predict(X_test_polar).argmax(axis=1) == test_labels)*100\n",
    "# \"Rotated\" accuracy\n",
    "#accuracy_rotated = np.mean(model.predict(X_test_r_polar).argmax(axis=1) == test_labels)*100\n",
    "\n",
    "#print(accuracy, accuracy_rotated)"
   ]
  },
  {
   "cell_type": "code",
   "execution_count": 43,
   "metadata": {},
   "outputs": [
    {
     "name": "stdout",
     "output_type": "stream",
     "text": [
      "313/313 - 3s - loss: 1.7254 - accuracy: 0.4255\n"
     ]
    },
    {
     "data": {
      "text/plain": [
       "[1.72537362575531, 0.4255000054836273]"
      ]
     },
     "execution_count": 43,
     "metadata": {},
     "output_type": "execute_result"
    }
   ],
   "source": [
    "model.evaluate(X_test_r_polar, test_labels, verbose=2)"
   ]
  }
 ],
 "metadata": {
  "kernelspec": {
   "display_name": "Python 3",
   "language": "python",
   "name": "python3"
  },
  "language_info": {
   "codemirror_mode": {
    "name": "ipython",
    "version": 3
   },
   "file_extension": ".py",
   "mimetype": "text/x-python",
   "name": "python",
   "nbconvert_exporter": "python",
   "pygments_lexer": "ipython3",
   "version": "3.8.5"
  }
 },
 "nbformat": 4,
 "nbformat_minor": 4
}
