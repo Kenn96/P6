{
 "cells": [
  {
   "cell_type": "markdown",
   "metadata": {},
   "source": [
    "# Siamese CNN - regularizing classification with verification loss\n",
    "- ## bulk of siamese cnn code: https://www.pyimagesearch.com/2020/11/23/building-image-pairs-for-siamese-networks-with-python/\n",
    "- ## inspiration to make feature maps invaraint wrt. rotation by regularizing with their similarity loss comes from paper: https://www.mdpi.com/2072-4292/13/4/569 (specifically from Figure 2)\n",
    "- ## also from paper here: https://jivp-eurasipjournals.springeropen.com/track/pdf/10.1186/s13640-018-0398-z.pdf (figure 1)\n",
    "\n",
    "\n",
    "## Results are similar to a simple CNN trained on normal images, and then tested on rotated images, thus not satisfactory"
   ]
  },
  {
   "cell_type": "code",
   "execution_count": 199,
   "metadata": {},
   "outputs": [],
   "source": [
    "from tensorflow.keras import datasets, layers, models, backend as K\n",
    "\n",
    "import numpy as np\n",
    "import tensorflow as tf\n",
    "import matplotlib.pyplot as plt\n",
    "import tensorflow_addons as tfa"
   ]
  },
  {
   "cell_type": "code",
   "execution_count": 6,
   "metadata": {},
   "outputs": [],
   "source": [
    "(x, y), (x_t, y_t) = datasets.mnist.load_data()\n",
    "x = x / 255.0\n",
    "x_t = x_t / 255.0\n",
    "\n",
    "x = np.expand_dims(x, axis=-1)\n",
    "x_t = np.expand_dims(x_t, axis=-1)"
   ]
  },
  {
   "cell_type": "markdown",
   "metadata": {},
   "source": [
    "## Making positive and negative pairs for the siamese verification training\n",
    "### Also here random rotations are applied"
   ]
  },
  {
   "cell_type": "code",
   "execution_count": 205,
   "metadata": {},
   "outputs": [],
   "source": [
    "def make_pairs(images, labels):\n",
    "    \"\"\"Pairs of positive and negative pairs.\"\"\"\n",
    "    pairImages = []\n",
    "    pairLabels = []\n",
    "    \n",
    "    numClasses = len(np.unique(labels))\n",
    "    idx = [np.where(labels == i)[0] for i in range(0, numClasses)]\n",
    "    \n",
    "    for idxA in range(len(images)):\n",
    "        currentImage = images[idxA]\n",
    "        label = labels[idxA]\n",
    "        \n",
    "        # Randomly pick an image of the same label\n",
    "        idxB = np.random.choice(idx[label])\n",
    "        \n",
    "        # APPLY random rotation to positive pair b image\n",
    "        posImage = tfa.image.rotate(images[idxB], np.random.uniform(-np.pi/2., np.pi/2.))\n",
    "        \n",
    "        # Add the positive pair\n",
    "        pairImages.append([currentImage, posImage])\n",
    "        pairLabels.append(np.array([label, label, 1])) # 1, as they are similar (true)\n",
    "       \n",
    "        # Randomly select negative image (different label)\n",
    "        negIdx = np.where(labels != label)[0]\n",
    "        negImgId = np.random.choice(negIdx)\n",
    "        negImage = images[negImgId]\n",
    "        \n",
    "        # Add the negative pair\n",
    "        pairImages.append([currentImage, negImage])\n",
    "        pairLabels.append(np.array([label, labels[negImgId], 0]))  # 0, as they are different (false)\n",
    "        \n",
    "    return np.asarray(pairImages), np.asarray(pairLabels)        "
   ]
  },
  {
   "cell_type": "code",
   "execution_count": 273,
   "metadata": {},
   "outputs": [],
   "source": [
    "pair_train, label_train = make_pairs(x, y)\n",
    "pair_test, label_test = make_pairs(x_t, y_t)"
   ]
  },
  {
   "cell_type": "markdown",
   "metadata": {},
   "source": [
    "## Core of the Siamese CNN network"
   ]
  },
  {
   "cell_type": "code",
   "execution_count": 108,
   "metadata": {},
   "outputs": [],
   "source": [
    "def build_siamese_model(inputShape, classes=10):\n",
    "    # Specify input shape for feature extractore network\n",
    "    inputs = layers.Input(inputShape)\n",
    "    \n",
    "    # CONV => RELU => POOL => DROPOUT layers\n",
    "    x = layers.Conv2D(64, (3,3), padding='same', activation='relu')(inputs)\n",
    "    x = layers.MaxPool2D(pool_size=(2,2))(x)\n",
    "    x = layers.Dropout(.3)(x)\n",
    "    \n",
    "    # CONV => RELU => POOL => DROPOUT layers\n",
    "    x = layers.Conv2D(64, (3,3), padding='same', activation='relu')(x)\n",
    "    x = layers.MaxPool2D(pool_size=(2,2))(x)\n",
    "    x = layers.Dropout(.3)(x)\n",
    "    \n",
    "    # GLOBAL MAX POOL => DENSE\n",
    "    pooledOutput = layers.GlobalMaxPool2D()(x)\n",
    "    outputs = layers.Dense(classes)(pooledOutput)\n",
    "    \n",
    "    # Build model\n",
    "    model = models.Model(inputs, outputs)\n",
    "    \n",
    "    return model"
   ]
  },
  {
   "cell_type": "markdown",
   "metadata": {},
   "source": [
    "## Computing similarity/verification loss between the images of the pairs by Euclidean dist"
   ]
  },
  {
   "cell_type": "code",
   "execution_count": 29,
   "metadata": {},
   "outputs": [],
   "source": [
    "def euclidean_distance(vectors):\n",
    "    # Unpack vectors\n",
    "    (feats_a, feats_b) = vectors\n",
    "    \n",
    "    # Compute sum of squared distance between vectors\n",
    "    sum_squared = K.sum(K.square(feats_a - feats_b), axis=1, keepdims =True)\n",
    "    \n",
    "    # Return euclidean dist. between the vectors\n",
    "    return K.sqrt(K.maximum(sum_squared, K.epsilon())) "
   ]
  },
  {
   "cell_type": "markdown",
   "metadata": {},
   "source": [
    "# Constructing the final siamese model and tranining\n",
    "- ## Trying to mix the losses in 2 ways, first function train_step_naive just adds them together, the other 'train_step_regularize' tries to combine only little of the verification loss"
   ]
  },
  {
   "cell_type": "code",
   "execution_count": 303,
   "metadata": {},
   "outputs": [
    {
     "name": "stdout",
     "output_type": "stream",
     "text": [
      "Finished epoch 0\n",
      "Finished epoch 1\n",
      "Finished epoch 2\n"
     ]
    }
   ],
   "source": [
    "# Set up CNN network\n",
    "IMG_SHAPE = (28, 28, 1)\n",
    "\n",
    "naive_model = build_siamese_model(IMG_SHAPE)\n",
    "reg_model = build_siamese_model(IMG_SHAPE)\n",
    "\n",
    "batch_size = 64\n",
    "# Construct data generator\n",
    "train_data = ((pair_train[i:i+batch_size], label_train[i:i+batch_size]) for i in range(0, x.shape[0]-batch_size, batch_size))\n",
    "\n",
    "NUM_EPOCHS = 3\n",
    "beta = .1 # 10% of verification loss\n",
    "\n",
    "optimizer = tf.keras.optimizers.Adam(0.001)\n",
    "loss_fn = tf.keras.losses.SparseCategoricalCrossentropy(from_logits=True)\n",
    "loss_verification_fn = tf.keras.losses.BinaryCrossentropy(from_logits=True)\n",
    "\n",
    "# Function to mix lossess from classification and from verification/siamese similarity\n",
    "# Below here is just simple addition of all losses\n",
    "@tf.function\n",
    "def train_step_naive(model, inputs, labels): # Naive addition of losses\n",
    "    with tf.GradientTape() as tape:\n",
    "        # Compute classification features\n",
    "        feats_a = model(inputs[:, 0], training=True)\n",
    "        feats_b = model(inputs[:, 1], training=True)\n",
    "        \n",
    "        # Verification distance features\n",
    "        distance = euclidean_distance([feats_a, feats_b])\n",
    "        \n",
    "        #regularization_loss = tf.math.add_n(model.losses)  - model has no regularization internally\n",
    "        \n",
    "        # Compute classification loss\n",
    "        pred_a_loss = loss_fn(labels[:, 0], feats_a)\n",
    "        pred_b_loss = loss_fn(labels[:, 1], feats_b)\n",
    "        \n",
    "        # Compute verification loss\n",
    "        pred_verification = loss_verification_fn(labels[:, 2], distance)\n",
    "        \n",
    "        # Mix classification lossess with verification loss\n",
    "        total_loss = (pred_a_loss + pred_b_loss) + pred_verification\n",
    "\n",
    "    gradients = tape.gradient(total_loss, model.trainable_variables)\n",
    "    optimizer.apply_gradients(zip(gradients, model.trainable_variables))\n",
    "    \n",
    "# Function to mix losses by attempting to 'regularize'\n",
    "@tf.function\n",
    "def train_step_regularize(model, inputs, labels): # Trying to mix verification loss by regularizer\n",
    "    with tf.GradientTape() as tape: \n",
    "        # Compute classification features\n",
    "        feats_a = model(inputs[:, 0], training=True)\n",
    "        feats_b = model(inputs[:, 1], training=True)\n",
    "        \n",
    "        # Verification distance features\n",
    "        distance = euclidean_distance([feats_a, feats_b])\n",
    "        \n",
    "        # Compute classification loss\n",
    "        pred_a_loss = loss_fn(labels[:, 0], feats_a)\n",
    "        pred_b_loss = loss_fn(labels[:, 1], feats_b)\n",
    "        \n",
    "        # Compute verification loss\n",
    "        pred_verification = loss_verification_fn(labels[:, 2], distance)\n",
    "        \n",
    "        regularizers = tf.keras.regularizers.L2(1)(pred_verification)\n",
    "        \n",
    "        # Mix classification lossess with verification loss\n",
    "        total_loss = pred_a_loss + beta * pred_verification\n",
    "\n",
    "    gradients = tape.gradient(total_loss, model.trainable_variables)\n",
    "    optimizer.apply_gradients(zip(gradients, model.trainable_variables))\n",
    "\n",
    "    \n",
    "# Train a model with each attempt of mixing the losses\n",
    "for epoch in range(NUM_EPOCHS):\n",
    "    for inputs, labels in train_data:\n",
    "        train_step_naive(naive_model, inputs, labels)\n",
    "        train_step_regularize(reg_model, inputs, labels)\n",
    "    print(\"Finished epoch\", epoch)"
   ]
  },
  {
   "cell_type": "markdown",
   "metadata": {},
   "source": [
    "## Sanity check of rotation"
   ]
  },
  {
   "cell_type": "code",
   "execution_count": 297,
   "metadata": {},
   "outputs": [
    {
     "data": {
      "image/png": "[encoded data removed]",
      "text/plain": [
       "<Figure size 720x360 with 10 Axes>"
      ]
     },
     "metadata": {
      "needs_background": "light"
     },
     "output_type": "display_data"
    }
   ],
   "source": [
    "plt.figure(figsize=(10, 5))\n",
    "\n",
    "for i in range(5):\n",
    "    random_id = np.random.randint(0, 9999)\n",
    "    \n",
    "    plt.subplot(2, 5, i+1)\n",
    "    plt.xticks([])\n",
    "    plt.grid(False)\n",
    "    plt.imshow(pair_test[::2, 0][random_id], cmap=plt.cm.binary_r) # positive pair (every 2nd), original\n",
    "    plt.xlabel(f\"original -> {y_t[random_id]}\")\n",
    "    \n",
    "    plt.subplot(2, 5, i+6)\n",
    "    plt.xticks([])\n",
    "    plt.grid(False)\n",
    "    plt.imshow(pair_test[::2, 1][random_id], cmap=plt.cm.binary_r) # positive pair (every 2nd), rotated\n",
    "    plt.xlabel(f\"rotated -> {y_t[random_id]}\")\n",
    "plt.show()"
   ]
  },
  {
   "cell_type": "markdown",
   "metadata": {},
   "source": [
    "## Accuraccy for naive mixing of losses"
   ]
  },
  {
   "cell_type": "code",
   "execution_count": 304,
   "metadata": {},
   "outputs": [
    {
     "name": "stdout",
     "output_type": "stream",
     "text": [
      "94.71000000000001 54.22\n"
     ]
    }
   ],
   "source": [
    "accuracy = np.mean(naive_model.predict(pair_test[::2, 0]).argmax(axis=1) == y_t)*100\n",
    "accuracy_r = np.mean(naive_model.predict(pair_test[::2, 1]).argmax(axis=1) == y_t)*100\n",
    "print(accuracy, accuracy_r)"
   ]
  },
  {
   "cell_type": "markdown",
   "metadata": {},
   "source": [
    "## Accuraccy for naive 'regularizing' of losses"
   ]
  },
  {
   "cell_type": "code",
   "execution_count": 306,
   "metadata": {},
   "outputs": [
    {
     "name": "stdout",
     "output_type": "stream",
     "text": [
      "94.26 42.26\n"
     ]
    }
   ],
   "source": [
    "accuracy = np.mean(reg_model.predict(pair_test[::2, 0]).argmax(axis=1) == y_t)*100\n",
    "accuracy_r = np.mean(reg_model.predict(pair_test[::2, 1]).argmax(axis=1) == y_t)*100\n",
    "print(accuracy, accuracy_r)"
   ]
  }
 ],
 "metadata": {
  "kernelspec": {
   "display_name": "p6_lab",
   "language": "python",
   "name": "p6_lab"
  },
  "language_info": {
   "codemirror_mode": {
    "name": "ipython",
    "version": 3
   },
   "file_extension": ".py",
   "mimetype": "text/x-python",
   "name": "python",
   "nbconvert_exporter": "python",
   "pygments_lexer": "ipython3",
   "version": "3.8.7"
  }
 },
 "nbformat": 4,
 "nbformat_minor": 4
}
