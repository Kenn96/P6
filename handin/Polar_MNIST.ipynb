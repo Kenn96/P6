{
 "cells": [
  {
   "cell_type": "markdown",
   "metadata": {},
   "source": [
    "# Polar model / Trained on non-rotated MNIST / Tested on rotated MNIST"
   ]
  },
  {
   "cell_type": "code",
   "execution_count": 1,
   "metadata": {},
   "outputs": [],
   "source": [
    "from tensorflow.keras import datasets, layers, models\n",
    "\n",
    "import cv2 as cv\n",
    "import numpy as np\n",
    "import tensorflow as tf\n",
    "import tensorflow_addons as tfa\n",
    "import os\n",
    "import matplotlib.pyplot as plt\n",
    "import time"
   ]
  },
  {
   "cell_type": "code",
   "execution_count": 2,
   "metadata": {},
   "outputs": [],
   "source": [
    "# To run on GPU, can be omitted for CPU only\n",
    "physical_devices = tf.config.list_physical_devices('GPU') \n",
    "tf.config.experimental.set_memory_growth(physical_devices[0], True)"
   ]
  },
  {
   "cell_type": "code",
   "execution_count": 3,
   "metadata": {},
   "outputs": [],
   "source": [
    "# Function to get vertical cylinder effect - mentioned in paper\n",
    "def padImage(image, pixels=5):\n",
    "    bottom = image[-pixels:]\n",
    "    top = image[:pixels]\n",
    "\n",
    "    img = np.insert(image, 0, bottom, 0)\n",
    "    img = np.insert(img, len(img), top, 0)\n",
    "    return img"
   ]
  },
  {
   "cell_type": "code",
   "execution_count": 4,
   "metadata": {},
   "outputs": [],
   "source": [
    "(train_images, train_labels), (test_images, test_labels) = datasets.mnist.load_data()\n",
    "# Normalize pixel values to be between 0 and 1\n",
    "train_images, test_images = (train_images / 255.0).astype(np.float32), test_images.astype(np.float32) / 255.0\n",
    "\n",
    "train_images = np.reshape(train_images, (-1, 28, 28))\n",
    "test_images = np.reshape(test_images, (-1, 28, 28))"
   ]
  },
  {
   "cell_type": "markdown",
   "metadata": {},
   "source": [
    "## Prepare Dataset"
   ]
  },
  {
   "cell_type": "code",
   "execution_count": 5,
   "metadata": {},
   "outputs": [],
   "source": [
    "### THE PAD HAS TO BE DONE IN THE\n",
    "### POLAR SPACE\n",
    "\n",
    "# 20 is the ceiling of (14 * sqrt(2)), to get length of diagonal of image, ensures we get all pixels in the image\n",
    "# - mentioned in paper\n",
    "X_train_polar = [cv.linearPolar(x, tuple(np.array(x.shape)/2), 20, cv.WARP_FILL_OUTLIERS) for x in train_images]\n",
    "X_train_polar = [padImage(x, pixels=5) for x in X_train_polar]\n",
    "X_train_polar = np.array(X_train_polar)[...,None]\n",
    "\n",
    "X_test_polar = [cv.linearPolar(x, tuple(np.array(x.shape)/2), 20, cv.WARP_FILL_OUTLIERS) for x in test_images]\n",
    "X_test_polar = [padImage(x, pixels=5) for x in X_test_polar]\n",
    "X_test_polar = np.array(X_test_polar)[...,None]\n",
    "\n",
    "# Rotate test set\n",
    "X_test_r_polar = [tfa.image.rotate(x, np.random.uniform(-np.pi/2., np.pi/2.)).numpy() for x in test_images]\n",
    "X_test_r_polar = [cv.linearPolar(x, tuple(np.array(x.shape)/2), 20, cv.WARP_FILL_OUTLIERS) for x in X_test_r_polar]\n",
    "X_test_r_polar = [padImage(x, pixels=5) for x in X_test_r_polar]\n",
    "X_test_r_polar = np.array(X_test_r_polar)[...,None]"
   ]
  },
  {
   "cell_type": "code",
   "execution_count": 6,
   "metadata": {},
   "outputs": [
    {
     "data": {
      "text/plain": [
       "(10000, 38, 28, 1)"
      ]
     },
     "execution_count": 6,
     "metadata": {},
     "output_type": "execute_result"
    }
   ],
   "source": [
    "X_test_r_polar.shape"
   ]
  },
  {
   "cell_type": "markdown",
   "metadata": {},
   "source": [
    "## Model architecture"
   ]
  },
  {
   "cell_type": "code",
   "execution_count": 7,
   "metadata": {},
   "outputs": [],
   "source": [
    "model = models.Sequential()\n",
    "model.add(layers.Input(shape=X_train_polar.shape[1:]))\n",
    "model.add(layers.Conv2D(32, (3, 3), activation='relu', padding='same'))\n",
    "model.add(layers.MaxPooling2D())\n",
    "model.add(layers.LayerNormalization(axis=-1, epsilon=0.001, center=True, scale=True))\n",
    "model.add(layers.Dropout(rate=0.5))\n",
    "model.add(layers.Conv2D(64, (3, 3), activation='relu', padding='same'))\n",
    "model.add(layers.MaxPooling2D())\n",
    "model.add(layers.LayerNormalization(axis=-1, epsilon=0.001, center=True, scale=True))\n",
    "model.add(layers.Dropout(rate=0.5))\n",
    "model.add(layers.Conv2D(256, (3, 3), activation='relu', padding='same'))\n",
    "\n",
    "model.add(layers.GlobalMaxPooling2D())\n",
    "model.add(layers.Dense(64, activation='linear'))\n",
    "model.add(layers.Activation('relu'))\n",
    "model.add(layers.Dense(10))"
   ]
  },
  {
   "cell_type": "code",
   "execution_count": 8,
   "metadata": {},
   "outputs": [
    {
     "name": "stdout",
     "output_type": "stream",
     "text": [
      "Model: \"sequential\"\n",
      "_________________________________________________________________\n",
      "Layer (type)                 Output Shape              Param #   \n",
      "=================================================================\n",
      "conv2d (Conv2D)              (None, 38, 28, 32)        320       \n",
      "_________________________________________________________________\n",
      "max_pooling2d (MaxPooling2D) (None, 19, 14, 32)        0         \n",
      "_________________________________________________________________\n",
      "layer_normalization (LayerNo (None, 19, 14, 32)        64        \n",
      "_________________________________________________________________\n",
      "dropout (Dropout)            (None, 19, 14, 32)        0         \n",
      "_________________________________________________________________\n",
      "conv2d_1 (Conv2D)            (None, 19, 14, 64)        18496     \n",
      "_________________________________________________________________\n",
      "max_pooling2d_1 (MaxPooling2 (None, 9, 7, 64)          0         \n",
      "_________________________________________________________________\n",
      "layer_normalization_1 (Layer (None, 9, 7, 64)          128       \n",
      "_________________________________________________________________\n",
      "dropout_1 (Dropout)          (None, 9, 7, 64)          0         \n",
      "_________________________________________________________________\n",
      "conv2d_2 (Conv2D)            (None, 9, 7, 256)         147712    \n",
      "_________________________________________________________________\n",
      "global_max_pooling2d (Global (None, 256)               0         \n",
      "_________________________________________________________________\n",
      "dense (Dense)                (None, 64)                16448     \n",
      "_________________________________________________________________\n",
      "activation (Activation)      (None, 64)                0         \n",
      "_________________________________________________________________\n",
      "dense_1 (Dense)              (None, 10)                650       \n",
      "=================================================================\n",
      "Total params: 183,818\n",
      "Trainable params: 183,818\n",
      "Non-trainable params: 0\n",
      "_________________________________________________________________\n"
     ]
    }
   ],
   "source": [
    "model.summary()"
   ]
  },
  {
   "cell_type": "markdown",
   "metadata": {},
   "source": [
    "## Model Training"
   ]
  },
  {
   "cell_type": "code",
   "execution_count": 9,
   "metadata": {
    "tags": []
   },
   "outputs": [
    {
     "name": "stdout",
     "output_type": "stream",
     "text": [
      "Epoch 1/50\n",
      "1875/1875 [==============================] - 14s 6ms/step - loss: 1.6776 - accuracy: 0.4173 - val_loss: 0.4957 - val_accuracy: 0.8400\n",
      "\n",
      "Epoch 00001: val_accuracy improved from -inf to 0.84000, saving model to polar_model_MNIST.h5\n",
      "Epoch 2/50\n",
      "1875/1875 [==============================] - 11s 6ms/step - loss: 0.4161 - accuracy: 0.8689 - val_loss: 0.3562 - val_accuracy: 0.8874\n",
      "\n",
      "Epoch 00002: val_accuracy improved from 0.84000 to 0.88740, saving model to polar_model_MNIST.h5\n",
      "Epoch 3/50\n",
      "1875/1875 [==============================] - 11s 6ms/step - loss: 0.2418 - accuracy: 0.9253 - val_loss: 0.3001 - val_accuracy: 0.9020\n",
      "\n",
      "Epoch 00003: val_accuracy improved from 0.88740 to 0.90200, saving model to polar_model_MNIST.h5\n",
      "Epoch 4/50\n",
      "1875/1875 [==============================] - 11s 6ms/step - loss: 0.1749 - accuracy: 0.9462 - val_loss: 0.2853 - val_accuracy: 0.9110\n",
      "\n",
      "Epoch 00004: val_accuracy improved from 0.90200 to 0.91100, saving model to polar_model_MNIST.h5\n",
      "Epoch 5/50\n",
      "1875/1875 [==============================] - 11s 6ms/step - loss: 0.1386 - accuracy: 0.9576 - val_loss: 0.2818 - val_accuracy: 0.9118\n",
      "\n",
      "Epoch 00005: val_accuracy improved from 0.91100 to 0.91180, saving model to polar_model_MNIST.h5\n",
      "Epoch 6/50\n",
      "1875/1875 [==============================] - 11s 6ms/step - loss: 0.1202 - accuracy: 0.9623 - val_loss: 0.2738 - val_accuracy: 0.9085\n",
      "\n",
      "Epoch 00006: val_accuracy did not improve from 0.91180\n",
      "Epoch 7/50\n",
      "1875/1875 [==============================] - 11s 6ms/step - loss: 0.1071 - accuracy: 0.9665 - val_loss: 0.2708 - val_accuracy: 0.9096\n",
      "\n",
      "Epoch 00007: val_accuracy did not improve from 0.91180\n",
      "Epoch 8/50\n",
      "1875/1875 [==============================] - 11s 6ms/step - loss: 0.0959 - accuracy: 0.9714 - val_loss: 0.2883 - val_accuracy: 0.9097\n",
      "\n",
      "Epoch 00008: val_accuracy did not improve from 0.91180\n",
      "Epoch 9/50\n",
      "1875/1875 [==============================] - 11s 6ms/step - loss: 0.0816 - accuracy: 0.9743 - val_loss: 0.2766 - val_accuracy: 0.9118\n",
      "\n",
      "Epoch 00009: val_accuracy did not improve from 0.91180\n",
      "Epoch 10/50\n",
      "1875/1875 [==============================] - 11s 6ms/step - loss: 0.0805 - accuracy: 0.9742 - val_loss: 0.2953 - val_accuracy: 0.9074\n",
      "\n",
      "Epoch 00010: val_accuracy did not improve from 0.91180\n",
      "Epoch 11/50\n",
      "1875/1875 [==============================] - 11s 6ms/step - loss: 0.0735 - accuracy: 0.9764 - val_loss: 0.2895 - val_accuracy: 0.9096\n",
      "\n",
      "Epoch 00011: val_accuracy did not improve from 0.91180\n",
      "Epoch 12/50\n",
      "1875/1875 [==============================] - 11s 6ms/step - loss: 0.0684 - accuracy: 0.9781 - val_loss: 0.3249 - val_accuracy: 0.9034\n",
      "\n",
      "Epoch 00012: val_accuracy did not improve from 0.91180\n",
      "Epoch 13/50\n",
      "1875/1875 [==============================] - 11s 6ms/step - loss: 0.0684 - accuracy: 0.9782 - val_loss: 0.2775 - val_accuracy: 0.9162\n",
      "\n",
      "Epoch 00013: val_accuracy improved from 0.91180 to 0.91620, saving model to polar_model_MNIST.h5\n",
      "Epoch 14/50\n",
      "1875/1875 [==============================] - 11s 6ms/step - loss: 0.0647 - accuracy: 0.9789 - val_loss: 0.3193 - val_accuracy: 0.9093\n",
      "\n",
      "Epoch 00014: val_accuracy did not improve from 0.91620\n",
      "Epoch 15/50\n",
      "1875/1875 [==============================] - 11s 6ms/step - loss: 0.0602 - accuracy: 0.9806 - val_loss: 0.3076 - val_accuracy: 0.9124\n",
      "\n",
      "Epoch 00015: val_accuracy did not improve from 0.91620\n",
      "Epoch 16/50\n",
      "1875/1875 [==============================] - 12s 7ms/step - loss: 0.0599 - accuracy: 0.9807 - val_loss: 0.3086 - val_accuracy: 0.9100\n",
      "\n",
      "Epoch 00016: val_accuracy did not improve from 0.91620\n",
      "Epoch 17/50\n",
      "1875/1875 [==============================] - 11s 6ms/step - loss: 0.0542 - accuracy: 0.9825 - val_loss: 0.2940 - val_accuracy: 0.9154\n",
      "\n",
      "Epoch 00017: val_accuracy did not improve from 0.91620\n",
      "Epoch 18/50\n",
      "1875/1875 [==============================] - 11s 6ms/step - loss: 0.0539 - accuracy: 0.9828 - val_loss: 0.3186 - val_accuracy: 0.9087\n",
      "\n",
      "Epoch 00018: val_accuracy did not improve from 0.91620\n",
      "Epoch 19/50\n",
      "1875/1875 [==============================] - 11s 6ms/step - loss: 0.0520 - accuracy: 0.9830 - val_loss: 0.3212 - val_accuracy: 0.9117\n",
      "\n",
      "Epoch 00019: val_accuracy did not improve from 0.91620\n",
      "Epoch 20/50\n",
      "1875/1875 [==============================] - 12s 6ms/step - loss: 0.0513 - accuracy: 0.9833 - val_loss: 0.3225 - val_accuracy: 0.9070\n",
      "\n",
      "Epoch 00020: val_accuracy did not improve from 0.91620\n",
      "Epoch 21/50\n",
      "1875/1875 [==============================] - 11s 6ms/step - loss: 0.0444 - accuracy: 0.9853 - val_loss: 0.3045 - val_accuracy: 0.9110\n",
      "\n",
      "Epoch 00021: val_accuracy did not improve from 0.91620\n",
      "Epoch 22/50\n",
      "1875/1875 [==============================] - 12s 6ms/step - loss: 0.0452 - accuracy: 0.9852 - val_loss: 0.3315 - val_accuracy: 0.9017\n",
      "\n",
      "Epoch 00022: val_accuracy did not improve from 0.91620\n",
      "Epoch 23/50\n",
      "1875/1875 [==============================] - 12s 6ms/step - loss: 0.0440 - accuracy: 0.9861 - val_loss: 0.3237 - val_accuracy: 0.9097\n",
      "\n",
      "Epoch 00023: val_accuracy did not improve from 0.91620\n",
      "Epoch 24/50\n",
      "1875/1875 [==============================] - 11s 6ms/step - loss: 0.0424 - accuracy: 0.9866 - val_loss: 0.3192 - val_accuracy: 0.9104\n",
      "\n",
      "Epoch 00024: val_accuracy did not improve from 0.91620\n",
      "Epoch 25/50\n",
      "1875/1875 [==============================] - 11s 6ms/step - loss: 0.0409 - accuracy: 0.9866 - val_loss: 0.3222 - val_accuracy: 0.9113\n",
      "\n",
      "Epoch 00025: val_accuracy did not improve from 0.91620\n",
      "Epoch 26/50\n",
      "1875/1875 [==============================] - 11s 6ms/step - loss: 0.0413 - accuracy: 0.9869 - val_loss: 0.3358 - val_accuracy: 0.9090\n",
      "\n",
      "Epoch 00026: val_accuracy did not improve from 0.91620\n",
      "Epoch 27/50\n",
      "1875/1875 [==============================] - 11s 6ms/step - loss: 0.0434 - accuracy: 0.9853 - val_loss: 0.3223 - val_accuracy: 0.9135\n",
      "\n",
      "Epoch 00027: val_accuracy did not improve from 0.91620\n",
      "Epoch 28/50\n",
      "1875/1875 [==============================] - 11s 6ms/step - loss: 0.0413 - accuracy: 0.9865 - val_loss: 0.3949 - val_accuracy: 0.8976\n",
      "\n",
      "Epoch 00028: val_accuracy did not improve from 0.91620\n",
      "Epoch 29/50\n",
      "1875/1875 [==============================] - 12s 6ms/step - loss: 0.0379 - accuracy: 0.9867 - val_loss: 0.3164 - val_accuracy: 0.9111\n",
      "\n",
      "Epoch 00029: val_accuracy did not improve from 0.91620\n",
      "Epoch 30/50\n",
      "1875/1875 [==============================] - 11s 6ms/step - loss: 0.0382 - accuracy: 0.9878 - val_loss: 0.3159 - val_accuracy: 0.9133\n",
      "\n",
      "Epoch 00030: val_accuracy did not improve from 0.91620\n",
      "Epoch 31/50\n",
      "1875/1875 [==============================] - 11s 6ms/step - loss: 0.0348 - accuracy: 0.9885 - val_loss: 0.3499 - val_accuracy: 0.9071\n",
      "\n",
      "Epoch 00031: val_accuracy did not improve from 0.91620\n",
      "Epoch 32/50\n",
      "1875/1875 [==============================] - 11s 6ms/step - loss: 0.0353 - accuracy: 0.9885 - val_loss: 0.3246 - val_accuracy: 0.9134\n",
      "\n",
      "Epoch 00032: val_accuracy did not improve from 0.91620\n",
      "Epoch 33/50\n",
      "1875/1875 [==============================] - 11s 6ms/step - loss: 0.0353 - accuracy: 0.9881 - val_loss: 0.3389 - val_accuracy: 0.9061\n",
      "\n",
      "Epoch 00033: val_accuracy did not improve from 0.91620\n",
      "Epoch 34/50\n",
      "1875/1875 [==============================] - 11s 6ms/step - loss: 0.0353 - accuracy: 0.9881 - val_loss: 0.3363 - val_accuracy: 0.9097 accura\n",
      "\n",
      "Epoch 00034: val_accuracy did not improve from 0.91620\n",
      "Epoch 35/50\n",
      "1875/1875 [==============================] - 11s 6ms/step - loss: 0.0322 - accuracy: 0.9894 - val_loss: 0.3520 - val_accuracy: 0.9052\n",
      "\n",
      "Epoch 00035: val_accuracy did not improve from 0.91620\n",
      "Epoch 36/50\n",
      "1875/1875 [==============================] - 11s 6ms/step - loss: 0.0337 - accuracy: 0.9885 - val_loss: 0.3654 - val_accuracy: 0.9089\n",
      "\n",
      "Epoch 00036: val_accuracy did not improve from 0.91620\n",
      "Epoch 37/50\n",
      "1875/1875 [==============================] - 11s 6ms/step - loss: 0.0352 - accuracy: 0.9885 - val_loss: 0.3865 - val_accuracy: 0.8990\n",
      "\n",
      "Epoch 00037: val_accuracy did not improve from 0.91620\n",
      "Epoch 38/50\n",
      "1875/1875 [==============================] - 11s 6ms/step - loss: 0.0352 - accuracy: 0.9882 - val_loss: 0.3673 - val_accuracy: 0.9064\n",
      "\n",
      "Epoch 00038: val_accuracy did not improve from 0.91620\n",
      "Epoch 39/50\n",
      "1875/1875 [==============================] - 11s 6ms/step - loss: 0.0344 - accuracy: 0.9883 - val_loss: 0.3798 - val_accuracy: 0.9017\n",
      "\n",
      "Epoch 00039: val_accuracy did not improve from 0.91620\n",
      "Epoch 40/50\n",
      "1875/1875 [==============================] - 11s 6ms/step - loss: 0.0312 - accuracy: 0.9897 - val_loss: 0.3787 - val_accuracy: 0.9043\n",
      "\n",
      "Epoch 00040: val_accuracy did not improve from 0.91620\n",
      "Epoch 41/50\n",
      "1875/1875 [==============================] - 11s 6ms/step - loss: 0.0320 - accuracy: 0.9895 - val_loss: 0.3788 - val_accuracy: 0.9024\n",
      "\n",
      "Epoch 00041: val_accuracy did not improve from 0.91620\n",
      "Epoch 42/50\n",
      "1875/1875 [==============================] - 11s 6ms/step - loss: 0.0287 - accuracy: 0.9907 - val_loss: 0.3401 - val_accuracy: 0.9121\n",
      "\n",
      "Epoch 00042: val_accuracy did not improve from 0.91620\n",
      "Epoch 43/50\n",
      "1875/1875 [==============================] - 11s 6ms/step - loss: 0.0294 - accuracy: 0.9905 - val_loss: 0.3701 - val_accuracy: 0.9052\n",
      "\n",
      "Epoch 00043: val_accuracy did not improve from 0.91620\n",
      "Epoch 44/50\n",
      "1875/1875 [==============================] - 11s 6ms/step - loss: 0.0269 - accuracy: 0.9913 - val_loss: 0.3574 - val_accuracy: 0.9093\n",
      "\n",
      "Epoch 00044: val_accuracy did not improve from 0.91620\n",
      "Epoch 45/50\n",
      "1875/1875 [==============================] - 11s 6ms/step - loss: 0.0290 - accuracy: 0.9904 - val_loss: 0.3832 - val_accuracy: 0.9034\n",
      "\n",
      "Epoch 00045: val_accuracy did not improve from 0.91620\n",
      "Epoch 46/50\n",
      "1875/1875 [==============================] - 11s 6ms/step - loss: 0.0296 - accuracy: 0.9899 - val_loss: 0.3906 - val_accuracy: 0.9044\n",
      "\n",
      "Epoch 00046: val_accuracy did not improve from 0.91620\n",
      "Epoch 47/50\n",
      "1875/1875 [==============================] - 11s 6ms/step - loss: 0.0254 - accuracy: 0.9912 - val_loss: 0.3648 - val_accuracy: 0.9075\n",
      "\n",
      "Epoch 00047: val_accuracy did not improve from 0.91620\n",
      "Epoch 48/50\n",
      "1875/1875 [==============================] - 11s 6ms/step - loss: 0.0267 - accuracy: 0.9912 - val_loss: 0.3616 - val_accuracy: 0.9118\n",
      "\n",
      "Epoch 00048: val_accuracy did not improve from 0.91620\n",
      "Epoch 49/50\n",
      "1875/1875 [==============================] - 11s 6ms/step - loss: 0.0266 - accuracy: 0.9907 - val_loss: 0.3842 - val_accuracy: 0.9036\n",
      "\n",
      "Epoch 00049: val_accuracy did not improve from 0.91620\n",
      "Epoch 50/50\n",
      "1875/1875 [==============================] - 11s 6ms/step - loss: 0.0280 - accuracy: 0.9905 - val_loss: 0.3690 - val_accuracy: 0.9098\n",
      "\n",
      "Epoch 00050: val_accuracy did not improve from 0.91620\n"
     ]
    },
    {
     "data": {
      "text/plain": [
       "<tensorflow.python.keras.callbacks.History at 0x1dca834d0a0>"
      ]
     },
     "execution_count": 9,
     "metadata": {},
     "output_type": "execute_result"
    }
   ],
   "source": [
    "name = 'polar_model_MNIST'\n",
    "checkpoint = tf.keras.callbacks.ModelCheckpoint(name + '.h5', verbose=1, save_best_only=True, monitor='val_accuracy', mode='max')\n",
    "\n",
    "opt = tf.keras.optimizers.Adam(learning_rate=0.0001)\n",
    "\n",
    "model.compile(optimizer=opt,\n",
    "              loss=tf.keras.losses.SparseCategoricalCrossentropy(from_logits=True),\n",
    "              metrics=['accuracy'], )\n",
    "model.fit(X_train_polar, train_labels, batch_size=32, epochs=50, \n",
    "          validation_data=(X_test_r_polar, test_labels),\n",
    "          callbacks=[checkpoint])"
   ]
  },
  {
   "cell_type": "markdown",
   "metadata": {},
   "source": [
    "## Model Accuracies"
   ]
  },
  {
   "cell_type": "code",
   "execution_count": 13,
   "metadata": {},
   "outputs": [
    {
     "name": "stdout",
     "output_type": "stream",
     "text": [
      "98.67 91.62\n"
     ]
    }
   ],
   "source": [
    "# load best epoch model\n",
    "m = tf.keras.models.load_model('polar_model_MNIST.h5')\n",
    "# Plain accuracy\n",
    "accuracy = np.mean(m.predict(X_test_polar).argmax(axis=1) == test_labels)*100\n",
    "# \"Rotated\" accuracy\n",
    "accuracy_rotated = np.mean(m.predict(X_test_r_polar).argmax(axis=1) == test_labels)*100\n",
    "\n",
    "print(accuracy, accuracy_rotated)"
   ]
  },
  {
   "cell_type": "markdown",
   "metadata": {},
   "source": [
    "## Prediction time for test set"
   ]
  },
  {
   "cell_type": "code",
   "execution_count": 14,
   "metadata": {},
   "outputs": [
    {
     "name": "stdout",
     "output_type": "stream",
     "text": [
      "0.44076402187347413\n"
     ]
    }
   ],
   "source": [
    "times = []\n",
    "\n",
    "for _ in range(0, 50):\n",
    "    start = time.time()\n",
    "\n",
    "    model.predict(X_test_polar)\n",
    "\n",
    "    end = time.time()\n",
    "    times.append(end - start)\n",
    "\n",
    "print(np.mean(times))\n",
    "\n"
   ]
  },
  {
   "cell_type": "markdown",
   "metadata": {},
   "source": [
    "## Prediction time per image"
   ]
  },
  {
   "cell_type": "code",
   "execution_count": 15,
   "metadata": {},
   "outputs": [
    {
     "data": {
      "text/plain": [
       "4.4076402187347414e-05"
      ]
     },
     "execution_count": 15,
     "metadata": {},
     "output_type": "execute_result"
    }
   ],
   "source": [
    "np.mean(times) / len(X_test_polar)"
   ]
  },
  {
   "cell_type": "code",
   "execution_count": null,
   "metadata": {},
   "outputs": [],
   "source": []
  }
 ],
 "metadata": {
  "kernelspec": {
   "display_name": "Python 3",
   "language": "python",
   "name": "python3"
  },
  "language_info": {
   "codemirror_mode": {
    "name": "ipython",
    "version": 3
   },
   "file_extension": ".py",
   "mimetype": "text/x-python",
   "name": "python",
   "nbconvert_exporter": "python",
   "pygments_lexer": "ipython3",
   "version": "3.8.5"
  }
 },
 "nbformat": 4,
 "nbformat_minor": 4
}
