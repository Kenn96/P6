{
 "cells": [
  {
   "cell_type": "code",
   "execution_count": 1,
   "metadata": {},
   "outputs": [
    {
     "name": "stdout",
     "output_type": "stream",
     "text": [
      "Couldn't import dot_parser, loading of dot files will not be possible.\n"
     ]
    }
   ],
   "source": [
    "import cv2 as cv\n",
    "from tensorflow.keras import datasets\n",
    "import numpy as np\n",
    "import matplotlib.pyplot as plt"
   ]
  },
  {
   "cell_type": "code",
   "execution_count": 2,
   "metadata": {},
   "outputs": [],
   "source": [
    "(train_images, train_labels), (test_images, test_labels) = datasets.mnist.load_data()\n",
    "\n",
    "# Normalize pixel values to be between 0 and 1\n",
    "train_images, test_images = train_images / 255.0, test_images / 255.0"
   ]
  },
  {
   "cell_type": "code",
   "execution_count": 98,
   "metadata": {},
   "outputs": [],
   "source": [
    "#center = (14,14)\n",
    "#axes = (6,6)\n",
    "\n",
    "#output = cv.ellipse2Poly(center, axes, 0, 0, 360, 1)\n",
    "\n",
    "img = train_images[12]\n",
    "#img = np.zeros((28,28),np.uint8)\n",
    "#cv.circle(img,(128,128),100,255,1)\n",
    "#cv.circle(img,(14,14),3,200,1)\n",
    "#points = np.transpose(np.where(img==255))\n",
    "\n",
    "colors = [0, (255, 0,0), (0, 255, 0), (150, 0,0), (0, 150, 0), (255,255,255)]\n",
    "cv.circle(img,      # source image\n",
    "           (14, 14),       # center\n",
    "           5,              # radius\n",
    "           (255, 0, 0),      # color or border\n",
    "           thickness=1,      # line thickness\n",
    "           lineType=cv.LINE_4   # line type\n",
    ")\n",
    "cv.imshow('test', img)\n"
   ]
  }
 ],
 "metadata": {
  "kernelspec": {
   "display_name": "Python 3",
   "language": "python",
   "name": "python3"
  },
  "language_info": {
   "codemirror_mode": {
    "name": "ipython",
    "version": 3
   },
   "file_extension": ".py",
   "mimetype": "text/x-python",
   "name": "python",
   "nbconvert_exporter": "python",
   "pygments_lexer": "ipython3",
   "version": "3.8.5"
  }
 },
 "nbformat": 4,
 "nbformat_minor": 4
}
