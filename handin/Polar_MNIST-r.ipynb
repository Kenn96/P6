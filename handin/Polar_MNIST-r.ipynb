{
 "cells": [
  {
   "cell_type": "markdown",
   "metadata": {},
   "source": [
    "# Polar model / Trained on rotated MNIST / Tested on rotated MNIST"
   ]
  },
  {
   "cell_type": "code",
   "execution_count": 1,
   "metadata": {},
   "outputs": [],
   "source": [
    "from tensorflow.keras import datasets, layers, models\n",
    "\n",
    "import cv2 as cv\n",
    "import numpy as np\n",
    "import tensorflow as tf\n",
    "import tensorflow_addons as tfa\n",
    "import os\n",
    "import matplotlib.pyplot as plt\n",
    "import time"
   ]
  },
  {
   "cell_type": "code",
   "execution_count": 2,
   "metadata": {},
   "outputs": [],
   "source": [
    "# To run on GPU, can be omitted for CPU only\n",
    "physical_devices = tf.config.list_physical_devices('GPU') \n",
    "tf.config.experimental.set_memory_growth(physical_devices[0], True)"
   ]
  },
  {
   "cell_type": "code",
   "execution_count": 3,
   "metadata": {},
   "outputs": [],
   "source": [
    "# Function to get vertical cylinder effect - mentioned in paper\n",
    "def padImage(image, pixels=5):\n",
    "    bottom = image[-pixels:]\n",
    "    top = image[:pixels]\n",
    "\n",
    "    img = np.insert(image, 0, bottom, 0)\n",
    "    img = np.insert(img, len(img), top, 0)\n",
    "    return img"
   ]
  },
  {
   "cell_type": "code",
   "execution_count": 4,
   "metadata": {},
   "outputs": [],
   "source": [
    "(train_images, train_labels), (test_images, test_labels) = datasets.mnist.load_data()\n",
    "# Normalize pixel values to be between 0 and 1\n",
    "train_images, test_images = (train_images / 255.0).astype(np.float32), test_images.astype(np.float32) / 255.0\n",
    "\n",
    "train_images = np.reshape(train_images, (-1, 28, 28))\n",
    "test_images = np.reshape(test_images, (-1, 28, 28))"
   ]
  },
  {
   "cell_type": "markdown",
   "metadata": {},
   "source": [
    "## Prepare Dataset"
   ]
  },
  {
   "cell_type": "code",
   "execution_count": 5,
   "metadata": {},
   "outputs": [],
   "source": [
    "### THE PAD HAS TO BE DONE IN THE\n",
    "### POLAR SPACE\n",
    "\n",
    "# 20 is the ceiling of (14 * sqrt(2)), to get length of diagonal of image, ensures we get all pixels in the image\n",
    "# - mentioned in paper\n",
    "# Rotate train set\n",
    "X_train_polar = [tfa.image.rotate(x, np.random.uniform(-np.pi/2., np.pi/2.)).numpy() for x in train_images]\n",
    "X_train_polar = [cv.linearPolar(x, tuple(np.array(x.shape)/2), 20, cv.WARP_FILL_OUTLIERS) for x in X_train_polar]\n",
    "X_train_polar = [padImage(x, pixels=5) for x in X_train_polar]\n",
    "X_train_polar = np.array(X_train_polar)[...,None]\n",
    "\n",
    "X_test_polar = [cv.linearPolar(x, tuple(np.array(x.shape)/2), 20, cv.WARP_FILL_OUTLIERS) for x in test_images]\n",
    "X_test_polar = [padImage(x, pixels=5) for x in X_test_polar]\n",
    "X_test_polar = np.array(X_test_polar)[...,None]\n",
    "\n",
    "# Rotate test set\n",
    "X_test_r_polar = [tfa.image.rotate(x, np.random.uniform(-np.pi/2., np.pi/2.)).numpy() for x in test_images]\n",
    "X_test_r_polar = [cv.linearPolar(x, tuple(np.array(x.shape)/2), 20, cv.WARP_FILL_OUTLIERS) for x in X_test_r_polar]\n",
    "X_test_r_polar = [padImage(x, pixels=5) for x in X_test_r_polar]\n",
    "X_test_r_polar = np.array(X_test_r_polar)[...,None]"
   ]
  },
  {
   "cell_type": "code",
   "execution_count": 6,
   "metadata": {},
   "outputs": [
    {
     "data": {
      "text/plain": [
       "(10000, 38, 28, 1)"
      ]
     },
     "execution_count": 6,
     "metadata": {},
     "output_type": "execute_result"
    }
   ],
   "source": [
    "X_test_r_polar.shape"
   ]
  },
  {
   "cell_type": "markdown",
   "metadata": {},
   "source": [
    "## Model architecture"
   ]
  },
  {
   "cell_type": "code",
   "execution_count": 7,
   "metadata": {},
   "outputs": [],
   "source": [
    "model = models.Sequential()\n",
    "model.add(layers.Input(shape=X_train_polar.shape[1:]))\n",
    "model.add(layers.Conv2D(32, (3, 3), activation='relu', padding='same'))\n",
    "model.add(layers.MaxPooling2D())\n",
    "model.add(layers.LayerNormalization(axis=-1, epsilon=0.001, center=True, scale=True))\n",
    "model.add(layers.Dropout(rate=0.5))\n",
    "model.add(layers.Conv2D(64, (3, 3), activation='relu', padding='same'))\n",
    "model.add(layers.MaxPooling2D())\n",
    "model.add(layers.LayerNormalization(axis=-1, epsilon=0.001, center=True, scale=True))\n",
    "model.add(layers.Dropout(rate=0.5))\n",
    "model.add(layers.Conv2D(256, (3, 3), activation='relu', padding='same'))\n",
    "\n",
    "model.add(layers.GlobalMaxPooling2D())\n",
    "model.add(layers.Dense(64, activation='linear'))\n",
    "model.add(layers.Activation('relu'))\n",
    "model.add(layers.Dense(10))"
   ]
  },
  {
   "cell_type": "code",
   "execution_count": 8,
   "metadata": {},
   "outputs": [
    {
     "name": "stdout",
     "output_type": "stream",
     "text": [
      "Model: \"sequential\"\n",
      "_________________________________________________________________\n",
      "Layer (type)                 Output Shape              Param #   \n",
      "=================================================================\n",
      "conv2d (Conv2D)              (None, 38, 28, 32)        320       \n",
      "_________________________________________________________________\n",
      "max_pooling2d (MaxPooling2D) (None, 19, 14, 32)        0         \n",
      "_________________________________________________________________\n",
      "layer_normalization (LayerNo (None, 19, 14, 32)        64        \n",
      "_________________________________________________________________\n",
      "dropout (Dropout)            (None, 19, 14, 32)        0         \n",
      "_________________________________________________________________\n",
      "conv2d_1 (Conv2D)            (None, 19, 14, 64)        18496     \n",
      "_________________________________________________________________\n",
      "max_pooling2d_1 (MaxPooling2 (None, 9, 7, 64)          0         \n",
      "_________________________________________________________________\n",
      "layer_normalization_1 (Layer (None, 9, 7, 64)          128       \n",
      "_________________________________________________________________\n",
      "dropout_1 (Dropout)          (None, 9, 7, 64)          0         \n",
      "_________________________________________________________________\n",
      "conv2d_2 (Conv2D)            (None, 9, 7, 256)         147712    \n",
      "_________________________________________________________________\n",
      "global_max_pooling2d (Global (None, 256)               0         \n",
      "_________________________________________________________________\n",
      "dense (Dense)                (None, 64)                16448     \n",
      "_________________________________________________________________\n",
      "activation (Activation)      (None, 64)                0         \n",
      "_________________________________________________________________\n",
      "dense_1 (Dense)              (None, 10)                650       \n",
      "=================================================================\n",
      "Total params: 183,818\n",
      "Trainable params: 183,818\n",
      "Non-trainable params: 0\n",
      "_________________________________________________________________\n"
     ]
    }
   ],
   "source": [
    "model.summary()"
   ]
  },
  {
   "cell_type": "markdown",
   "metadata": {},
   "source": [
    "## Model Training"
   ]
  },
  {
   "cell_type": "code",
   "execution_count": 9,
   "metadata": {
    "tags": []
   },
   "outputs": [
    {
     "name": "stdout",
     "output_type": "stream",
     "text": [
      "Epoch 1/50\n",
      "1875/1875 [==============================] - 14s 6ms/step - loss: 1.7782 - accuracy: 0.3860 - val_loss: 0.4790 - val_accuracy: 0.8417\n",
      "\n",
      "Epoch 00001: val_accuracy improved from -inf to 0.84170, saving model to polar_MNIST-r.h5\n",
      "Epoch 2/50\n",
      "1875/1875 [==============================] - 11s 6ms/step - loss: 0.5685 - accuracy: 0.8179 - val_loss: 0.2644 - val_accuracy: 0.9140\n",
      "\n",
      "Epoch 00002: val_accuracy improved from 0.84170 to 0.91400, saving model to polar_MNIST-r.h5\n",
      "Epoch 3/50\n",
      "1875/1875 [==============================] - 11s 6ms/step - loss: 0.3812 - accuracy: 0.8772 - val_loss: 0.2270 - val_accuracy: 0.9277\n",
      "\n",
      "Epoch 00003: val_accuracy improved from 0.91400 to 0.92770, saving model to polar_MNIST-r.h5\n",
      "Epoch 4/50\n",
      "1875/1875 [==============================] - 11s 6ms/step - loss: 0.2944 - accuracy: 0.9062 - val_loss: 0.1683 - val_accuracy: 0.9457\n",
      "\n",
      "Epoch 00004: val_accuracy improved from 0.92770 to 0.94570, saving model to polar_MNIST-r.h5\n",
      "Epoch 5/50\n",
      "1875/1875 [==============================] - 11s 6ms/step - loss: 0.2555 - accuracy: 0.9195 - val_loss: 0.1564 - val_accuracy: 0.9504\n",
      "\n",
      "Epoch 00005: val_accuracy improved from 0.94570 to 0.95040, saving model to polar_MNIST-r.h5\n",
      "Epoch 6/50\n",
      "1875/1875 [==============================] - 11s 6ms/step - loss: 0.2262 - accuracy: 0.9278 - val_loss: 0.1237 - val_accuracy: 0.9622\n",
      "\n",
      "Epoch 00006: val_accuracy improved from 0.95040 to 0.96220, saving model to polar_MNIST-r.h5\n",
      "Epoch 7/50\n",
      "1875/1875 [==============================] - 11s 6ms/step - loss: 0.2032 - accuracy: 0.9364 - val_loss: 0.1225 - val_accuracy: 0.9618\n",
      "\n",
      "Epoch 00007: val_accuracy did not improve from 0.96220\n",
      "Epoch 8/50\n",
      "1875/1875 [==============================] - 11s 6ms/step - loss: 0.1854 - accuracy: 0.9404 - val_loss: 0.1072 - val_accuracy: 0.9667\n",
      "\n",
      "Epoch 00008: val_accuracy improved from 0.96220 to 0.96670, saving model to polar_MNIST-r.h5\n",
      "Epoch 9/50\n",
      "1875/1875 [==============================] - 11s 6ms/step - loss: 0.1723 - accuracy: 0.9461 - val_loss: 0.1029 - val_accuracy: 0.9686\n",
      "\n",
      "Epoch 00009: val_accuracy improved from 0.96670 to 0.96860, saving model to polar_MNIST-r.h5\n",
      "Epoch 10/50\n",
      "1875/1875 [==============================] - 11s 6ms/step - loss: 0.1644 - accuracy: 0.9485 - val_loss: 0.0974 - val_accuracy: 0.9699\n",
      "\n",
      "Epoch 00010: val_accuracy improved from 0.96860 to 0.96990, saving model to polar_MNIST-r.h5\n",
      "Epoch 11/50\n",
      "1875/1875 [==============================] - 11s 6ms/step - loss: 0.1558 - accuracy: 0.9500 - val_loss: 0.0964 - val_accuracy: 0.9702\n",
      "\n",
      "Epoch 00011: val_accuracy improved from 0.96990 to 0.97020, saving model to polar_MNIST-r.h5\n",
      "Epoch 12/50\n",
      "1875/1875 [==============================] - 11s 6ms/step - loss: 0.1481 - accuracy: 0.9529 - val_loss: 0.0970 - val_accuracy: 0.9712\n",
      "\n",
      "Epoch 00012: val_accuracy improved from 0.97020 to 0.97120, saving model to polar_MNIST-r.h5\n",
      "Epoch 13/50\n",
      "1875/1875 [==============================] - 11s 6ms/step - loss: 0.1354 - accuracy: 0.9579 - val_loss: 0.0847 - val_accuracy: 0.9736\n",
      "\n",
      "Epoch 00013: val_accuracy improved from 0.97120 to 0.97360, saving model to polar_MNIST-r.h5\n",
      "Epoch 14/50\n",
      "1875/1875 [==============================] - 11s 6ms/step - loss: 0.1361 - accuracy: 0.9567 - val_loss: 0.0883 - val_accuracy: 0.9750\n",
      "\n",
      "Epoch 00014: val_accuracy improved from 0.97360 to 0.97500, saving model to polar_MNIST-r.h5\n",
      "Epoch 15/50\n",
      "1875/1875 [==============================] - 11s 6ms/step - loss: 0.1274 - accuracy: 0.9597 - val_loss: 0.0898 - val_accuracy: 0.9724\n",
      "\n",
      "Epoch 00015: val_accuracy did not improve from 0.97500\n",
      "Epoch 16/50\n",
      "1875/1875 [==============================] - 11s 6ms/step - loss: 0.1277 - accuracy: 0.9595 - val_loss: 0.0808 - val_accuracy: 0.9765\n",
      "\n",
      "Epoch 00016: val_accuracy improved from 0.97500 to 0.97650, saving model to polar_MNIST-r.h5\n",
      "Epoch 17/50\n",
      "1875/1875 [==============================] - 11s 6ms/step - loss: 0.1183 - accuracy: 0.9610 - val_loss: 0.0769 - val_accuracy: 0.9772\n",
      "\n",
      "Epoch 00017: val_accuracy improved from 0.97650 to 0.97720, saving model to polar_MNIST-r.h5\n",
      "Epoch 18/50\n",
      "1875/1875 [==============================] - 11s 6ms/step - loss: 0.1147 - accuracy: 0.9629 - val_loss: 0.0772 - val_accuracy: 0.9767\n",
      "\n",
      "Epoch 00018: val_accuracy did not improve from 0.97720\n",
      "Epoch 19/50\n",
      "1875/1875 [==============================] - 11s 6ms/step - loss: 0.1183 - accuracy: 0.9628 - val_loss: 0.0807 - val_accuracy: 0.9746\n",
      "\n",
      "Epoch 00019: val_accuracy did not improve from 0.97720\n",
      "Epoch 20/50\n",
      "1875/1875 [==============================] - 11s 6ms/step - loss: 0.1084 - accuracy: 0.9648 - val_loss: 0.0754 - val_accuracy: 0.9777\n",
      "\n",
      "Epoch 00020: val_accuracy improved from 0.97720 to 0.97770, saving model to polar_MNIST-r.h5\n",
      "Epoch 21/50\n",
      "1875/1875 [==============================] - 11s 6ms/step - loss: 0.1018 - accuracy: 0.9669 - val_loss: 0.0751 - val_accuracy: 0.9766\n",
      "\n",
      "Epoch 00021: val_accuracy did not improve from 0.97770\n",
      "Epoch 22/50\n",
      "1875/1875 [==============================] - 11s 6ms/step - loss: 0.1065 - accuracy: 0.9650 - val_loss: 0.0748 - val_accuracy: 0.9771\n",
      "\n",
      "Epoch 00022: val_accuracy did not improve from 0.97770\n",
      "Epoch 23/50\n",
      "1875/1875 [==============================] - 11s 6ms/step - loss: 0.1019 - accuracy: 0.9674 - val_loss: 0.0736 - val_accuracy: 0.9766\n",
      "\n",
      "Epoch 00023: val_accuracy did not improve from 0.97770\n",
      "Epoch 24/50\n",
      "1875/1875 [==============================] - 12s 6ms/step - loss: 0.1005 - accuracy: 0.9672 - val_loss: 0.0742 - val_accuracy: 0.9767\n",
      "\n",
      "Epoch 00024: val_accuracy did not improve from 0.97770\n",
      "Epoch 25/50\n",
      "1875/1875 [==============================] - 11s 6ms/step - loss: 0.0994 - accuracy: 0.9667 - val_loss: 0.0693 - val_accuracy: 0.9782\n",
      "\n",
      "Epoch 00025: val_accuracy improved from 0.97770 to 0.97820, saving model to polar_MNIST-r.h5\n",
      "Epoch 26/50\n",
      "1875/1875 [==============================] - 11s 6ms/step - loss: 0.0992 - accuracy: 0.9679 - val_loss: 0.0742 - val_accuracy: 0.9769\n",
      "\n",
      "Epoch 00026: val_accuracy did not improve from 0.97820\n",
      "Epoch 27/50\n",
      "1875/1875 [==============================] - 12s 6ms/step - loss: 0.0921 - accuracy: 0.9699 - val_loss: 0.0740 - val_accuracy: 0.9771\n",
      "\n",
      "Epoch 00027: val_accuracy did not improve from 0.97820\n",
      "Epoch 28/50\n",
      "1875/1875 [==============================] - 11s 6ms/step - loss: 0.0933 - accuracy: 0.9701 - val_loss: 0.0689 - val_accuracy: 0.9791\n",
      "\n",
      "Epoch 00028: val_accuracy improved from 0.97820 to 0.97910, saving model to polar_MNIST-r.h5\n",
      "Epoch 29/50\n",
      "1875/1875 [==============================] - 11s 6ms/step - loss: 0.0943 - accuracy: 0.9688 - val_loss: 0.0710 - val_accuracy: 0.9790\n",
      "\n",
      "Epoch 00029: val_accuracy did not improve from 0.97910\n",
      "Epoch 30/50\n",
      "1875/1875 [==============================] - 11s 6ms/step - loss: 0.0888 - accuracy: 0.9709 - val_loss: 0.0706 - val_accuracy: 0.9788\n",
      "\n",
      "Epoch 00030: val_accuracy did not improve from 0.97910\n",
      "Epoch 31/50\n",
      "1875/1875 [==============================] - 11s 6ms/step - loss: 0.0859 - accuracy: 0.9712 - val_loss: 0.0791 - val_accuracy: 0.9758\n",
      "\n",
      "Epoch 00031: val_accuracy did not improve from 0.97910\n",
      "Epoch 32/50\n",
      "1875/1875 [==============================] - 11s 6ms/step - loss: 0.0907 - accuracy: 0.9708 - val_loss: 0.0723 - val_accuracy: 0.9787\n",
      "\n",
      "Epoch 00032: val_accuracy did not improve from 0.97910\n",
      "Epoch 33/50\n",
      "1875/1875 [==============================] - 11s 6ms/step - loss: 0.0848 - accuracy: 0.9721 - val_loss: 0.0870 - val_accuracy: 0.9733\n",
      "\n",
      "Epoch 00033: val_accuracy did not improve from 0.97910\n",
      "Epoch 34/50\n",
      "1875/1875 [==============================] - 11s 6ms/step - loss: 0.0858 - accuracy: 0.9724 - val_loss: 0.0626 - val_accuracy: 0.9806\n",
      "\n",
      "Epoch 00034: val_accuracy improved from 0.97910 to 0.98060, saving model to polar_MNIST-r.h5\n",
      "Epoch 35/50\n",
      "1875/1875 [==============================] - 11s 6ms/step - loss: 0.0836 - accuracy: 0.9730 - val_loss: 0.0687 - val_accuracy: 0.9797\n",
      "\n",
      "Epoch 00035: val_accuracy did not improve from 0.98060\n",
      "Epoch 36/50\n",
      "1875/1875 [==============================] - 11s 6ms/step - loss: 0.0772 - accuracy: 0.9750 - val_loss: 0.0681 - val_accuracy: 0.9794\n",
      "\n",
      "Epoch 00036: val_accuracy did not improve from 0.98060\n",
      "Epoch 37/50\n",
      "1875/1875 [==============================] - 11s 6ms/step - loss: 0.0787 - accuracy: 0.9746 - val_loss: 0.0651 - val_accuracy: 0.9804\n",
      "\n",
      "Epoch 00037: val_accuracy did not improve from 0.98060\n",
      "Epoch 38/50\n",
      "1875/1875 [==============================] - 11s 6ms/step - loss: 0.0787 - accuracy: 0.9740 - val_loss: 0.0768 - val_accuracy: 0.9775\n",
      "\n",
      "Epoch 00038: val_accuracy did not improve from 0.98060\n",
      "Epoch 39/50\n",
      "1875/1875 [==============================] - 14s 7ms/step - loss: 0.0778 - accuracy: 0.9744 - val_loss: 0.0648 - val_accuracy: 0.9806\n",
      "\n",
      "Epoch 00039: val_accuracy did not improve from 0.98060\n",
      "Epoch 40/50\n",
      "1875/1875 [==============================] - 16s 8ms/step - loss: 0.0758 - accuracy: 0.9742 - val_loss: 0.0628 - val_accuracy: 0.9811\n",
      "\n",
      "Epoch 00040: val_accuracy improved from 0.98060 to 0.98110, saving model to polar_MNIST-r.h5\n",
      "Epoch 41/50\n",
      "1875/1875 [==============================] - 16s 8ms/step - loss: 0.0751 - accuracy: 0.9751 - val_loss: 0.0678 - val_accuracy: 0.9802\n",
      "\n",
      "Epoch 00041: val_accuracy did not improve from 0.98110\n",
      "Epoch 42/50\n",
      "1875/1875 [==============================] - 16s 8ms/step - loss: 0.0738 - accuracy: 0.9754 - val_loss: 0.0699 - val_accuracy: 0.9788\n",
      "\n",
      "Epoch 00042: val_accuracy did not improve from 0.98110\n",
      "Epoch 43/50\n",
      "1875/1875 [==============================] - 16s 8ms/step - loss: 0.0742 - accuracy: 0.9746 - val_loss: 0.0654 - val_accuracy: 0.9799\n",
      "\n",
      "Epoch 00043: val_accuracy did not improve from 0.98110\n",
      "Epoch 44/50\n",
      "1875/1875 [==============================] - 16s 8ms/step - loss: 0.0742 - accuracy: 0.9745 - val_loss: 0.0620 - val_accuracy: 0.9809\n",
      "\n",
      "Epoch 00044: val_accuracy did not improve from 0.98110\n",
      "Epoch 45/50\n",
      "1875/1875 [==============================] - 15s 8ms/step - loss: 0.0696 - accuracy: 0.9768 - val_loss: 0.0678 - val_accuracy: 0.9807\n",
      "\n",
      "Epoch 00045: val_accuracy did not improve from 0.98110\n",
      "Epoch 46/50\n",
      "1875/1875 [==============================] - 16s 8ms/step - loss: 0.0714 - accuracy: 0.9757 - val_loss: 0.0716 - val_accuracy: 0.9797\n",
      "\n",
      "Epoch 00046: val_accuracy did not improve from 0.98110\n",
      "Epoch 47/50\n",
      "1875/1875 [==============================] - 15s 8ms/step - loss: 0.0739 - accuracy: 0.9756 - val_loss: 0.0665 - val_accuracy: 0.9801\n",
      "\n",
      "Epoch 00047: val_accuracy did not improve from 0.98110\n",
      "Epoch 48/50\n",
      "1875/1875 [==============================] - 16s 8ms/step - loss: 0.0707 - accuracy: 0.9769 - val_loss: 0.0597 - val_accuracy: 0.9812\n",
      "\n",
      "Epoch 00048: val_accuracy improved from 0.98110 to 0.98120, saving model to polar_MNIST-r.h5\n",
      "Epoch 49/50\n",
      "1875/1875 [==============================] - 16s 8ms/step - loss: 0.0742 - accuracy: 0.9748 - val_loss: 0.0772 - val_accuracy: 0.9774\n",
      "\n",
      "Epoch 00049: val_accuracy did not improve from 0.98120\n",
      "Epoch 50/50\n",
      "1875/1875 [==============================] - 16s 8ms/step - loss: 0.0674 - accuracy: 0.9777 - val_loss: 0.0767 - val_accuracy: 0.9785\n",
      "\n",
      "Epoch 00050: val_accuracy did not improve from 0.98120\n"
     ]
    },
    {
     "data": {
      "text/plain": [
       "<tensorflow.python.keras.callbacks.History at 0x27569223700>"
      ]
     },
     "execution_count": 9,
     "metadata": {},
     "output_type": "execute_result"
    }
   ],
   "source": [
    "name = 'polar_MNIST-r'\n",
    "checkpoint = tf.keras.callbacks.ModelCheckpoint(name + '.h5', verbose=1, save_best_only=True, monitor='val_accuracy', mode='max')\n",
    "\n",
    "opt = tf.keras.optimizers.Adam(learning_rate=0.0001)\n",
    "\n",
    "model.compile(optimizer=opt,\n",
    "              loss=tf.keras.losses.SparseCategoricalCrossentropy(from_logits=True),\n",
    "              metrics=['accuracy'], )\n",
    "model.fit(X_train_polar, train_labels, batch_size=32, epochs=50, \n",
    "          validation_data=(X_test_r_polar, test_labels),\n",
    "          callbacks=[checkpoint])"
   ]
  },
  {
   "cell_type": "markdown",
   "metadata": {},
   "source": [
    "## Model Accuracies"
   ]
  },
  {
   "cell_type": "code",
   "execution_count": 10,
   "metadata": {},
   "outputs": [
    {
     "name": "stdout",
     "output_type": "stream",
     "text": [
      "98.22 98.11999999999999\n"
     ]
    }
   ],
   "source": [
    "# load best epoch model\n",
    "m = tf.keras.models.load_model('polar_MNIST-r.h5')\n",
    "# Plain accuracy\n",
    "accuracy = np.mean(m.predict(X_test_polar).argmax(axis=1) == test_labels)*100\n",
    "# \"Rotated\" accuracy\n",
    "accuracy_rotated = np.mean(m.predict(X_test_r_polar).argmax(axis=1) == test_labels)*100\n",
    "\n",
    "print(accuracy, accuracy_rotated)"
   ]
  },
  {
   "cell_type": "markdown",
   "metadata": {},
   "source": [
    "## Prediction time for test set"
   ]
  },
  {
   "cell_type": "code",
   "execution_count": 11,
   "metadata": {},
   "outputs": [
    {
     "name": "stdout",
     "output_type": "stream",
     "text": [
      "0.6377511358261109\n"
     ]
    }
   ],
   "source": [
    "times = []\n",
    "\n",
    "for _ in range(0, 50):\n",
    "    start = time.time()\n",
    "\n",
    "    model.predict(X_test_polar)\n",
    "\n",
    "    end = time.time()\n",
    "    times.append(end - start)\n",
    "\n",
    "print(np.mean(times))\n",
    "\n"
   ]
  },
  {
   "cell_type": "markdown",
   "metadata": {},
   "source": [
    "## Prediction time per image"
   ]
  },
  {
   "cell_type": "code",
   "execution_count": 12,
   "metadata": {},
   "outputs": [
    {
     "data": {
      "text/plain": [
       "6.377511358261108e-05"
      ]
     },
     "execution_count": 12,
     "metadata": {},
     "output_type": "execute_result"
    }
   ],
   "source": [
    "np.mean(times) / len(X_test_polar)"
   ]
  }
 ],
 "metadata": {
  "kernelspec": {
   "display_name": "Python 3",
   "language": "python",
   "name": "python3"
  },
  "language_info": {
   "codemirror_mode": {
    "name": "ipython",
    "version": 3
   },
   "file_extension": ".py",
   "mimetype": "text/x-python",
   "name": "python",
   "nbconvert_exporter": "python",
   "pygments_lexer": "ipython3",
   "version": "3.8.5"
  }
 },
 "nbformat": 4,
 "nbformat_minor": 4
}
