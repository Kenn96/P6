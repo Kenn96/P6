{
 "cells": [
  {
   "cell_type": "code",
   "execution_count": 1,
   "id": "discrete-interval",
   "metadata": {},
   "outputs": [],
   "source": [
    "import numpy as np\n",
    "import tensorflow as tf\n",
    "from tqdm.auto import tqdm"
   ]
  },
  {
   "cell_type": "code",
   "execution_count": 2,
   "id": "adapted-audit",
   "metadata": {},
   "outputs": [],
   "source": [
    "physical_devices = tf.config.list_physical_devices('GPU') \n",
    "tf.config.experimental.set_memory_growth(physical_devices[0], True)"
   ]
  },
  {
   "cell_type": "code",
   "execution_count": 3,
   "id": "exotic-cycling",
   "metadata": {},
   "outputs": [],
   "source": [
    "def compute_pairwise_similairity(x, y):\n",
    "    x_norms = tf.linalg.norm(x, axis=-1)\n",
    "    y_norms = tf.linalg.norm(y, axis=-1)\n",
    "    x_norms = tf.expand_dims(x_norms, axis=1)\n",
    "    y_norms = tf.expand_dims(y_norms, axis=0)\n",
    "    norms = tf.math.maximum(x_norms * y_norms, 1e-8)\n",
    "    x  = tf.expand_dims(x, axis=1)\n",
    "    y  = tf.expand_dims(y, axis=0)\n",
    "    cossim = tf.reduce_sum(x*y, axis=-1) / norms\n",
    "    return cossim"
   ]
  },
  {
   "cell_type": "markdown",
   "id": "active-emission",
   "metadata": {},
   "source": [
    "## Comparing with no Rotation 1 sample of each image, and outcommenting the y_train"
   ]
  },
  {
   "cell_type": "code",
   "execution_count": 4,
   "id": "revolutionary-final",
   "metadata": {},
   "outputs": [
    {
     "data": {
      "application/vnd.jupyter.widget-view+json": {
       "model_id": "4a4eeea565a64053bfb67ad0aadc5ec3",
       "version_major": 2,
       "version_minor": 0
      },
      "text/plain": [
       "  0%|          | 0/1 [00:00<?, ?it/s]"
      ]
     },
     "metadata": {},
     "output_type": "display_data"
    },
    {
     "name": "stdout",
     "output_type": "stream",
     "text": [
      "10.14\n"
     ]
    }
   ],
   "source": [
    "(_,y_train),(_,y_test) = tf.keras.datasets.mnist.load_data()\n",
    "#data = np.load('all_MNIST_test_imgs_12samples_30deg_relu_activations.npz')\n",
    "data = np.load('all_MNIST_test_imgs_1samples_noROT_relu_activations.npz')\n",
    "#data = np.load('all_MNIST_test_imgs_12samples_noROT_relu_activations.npz')\n",
    "\n",
    "shape = data['arr_0'].shape\n",
    "X = data['arr_0']\n",
    "\n",
    "# please modify this with\n",
    "# the not rotated features\n",
    "# of the training (64) before\n",
    "# the relu and comment out\n",
    "# y_train\n",
    "X_train = X.reshape(-1, 64)\n",
    "#y_train = np.repeat(y_test[None], 12, axis=0).ravel()\n",
    "\n",
    "batch_size = 128\n",
    "n_batches  = int(np.ceil(shape[1] / batch_size))\n",
    "acc = []\n",
    "pbar = tqdm(range(shape[0]))\n",
    "for rot in pbar:\n",
    "    for b in range(n_batches):\n",
    "        li = b*batch_size\n",
    "        ri = min((b+1)*batch_size, shape[1])\n",
    "        dst = compute_pairwise_similairity(X[rot][li:ri], X_train)\n",
    "        dst = dst.numpy() - 10.0*np.eye(*dst.shape)\n",
    "        current_id = np.argmax(dst, axis=1)\n",
    "        acc.append(y_train[current_id] == y_test[li:ri])\n",
    "        M = np.concatenate(acc).mean()\n",
    "        pbar.set_description(f'{M*100:.2f}')\n",
    "\n",
    "M = np.concatenate(acc).mean()\n",
    "print(M*100)"
   ]
  },
  {
   "cell_type": "markdown",
   "id": "talented-plastic",
   "metadata": {},
   "source": [
    "## Comparing with no Rotation 12 sample of each image, and keeping y_train"
   ]
  },
  {
   "cell_type": "code",
   "execution_count": null,
   "id": "packed-venue",
   "metadata": {},
   "outputs": [
    {
     "data": {
      "application/vnd.jupyter.widget-view+json": {
       "model_id": "c0a9c81413bd41fb913682d2ab8cc097",
       "version_major": 2,
       "version_minor": 0
      },
      "text/plain": [
       "  0%|          | 0/12 [00:00<?, ?it/s]"
      ]
     },
     "metadata": {},
     "output_type": "display_data"
    }
   ],
   "source": [
    "(_,y_train),(_,y_test) = tf.keras.datasets.mnist.load_data()\n",
    "#data = np.load('all_MNIST_test_imgs_12samples_30deg_relu_activations.npz')\n",
    "#data = np.load('all_MNIST_test_imgs_1samples_noROT_relu_activations.npz')\n",
    "data = np.load('all_MNIST_test_imgs_12samples_noROT_relu_activations.npz')\n",
    "\n",
    "shape = data['arr_0'].shape\n",
    "X = data['arr_0']\n",
    "\n",
    "# please modify this with\n",
    "# the not rotated features\n",
    "# of the training (64) before\n",
    "# the relu and comment out\n",
    "# y_train\n",
    "X_train = X.reshape(-1, 64)\n",
    "y_train = np.repeat(y_test[None], 12, axis=0).ravel()\n",
    "\n",
    "batch_size = 128\n",
    "n_batches  = int(np.ceil(shape[1] / batch_size))\n",
    "acc = []\n",
    "pbar = tqdm(range(shape[0]))\n",
    "for rot in pbar:\n",
    "    for b in range(n_batches):\n",
    "        li = b*batch_size\n",
    "        ri = min((b+1)*batch_size, shape[1])\n",
    "        dst = compute_pairwise_similairity(X[rot][li:ri], X_train)\n",
    "        dst = dst.numpy() - 10.0*np.eye(*dst.shape)\n",
    "        current_id = np.argmax(dst, axis=1)\n",
    "        acc.append(y_train[current_id] == y_test[li:ri])\n",
    "        M = np.concatenate(acc).mean()\n",
    "        pbar.set_description(f'{M*100:.2f}')\n",
    "\n",
    "M = np.concatenate(acc).mean()\n",
    "print(M*100)"
   ]
  },
  {
   "cell_type": "code",
   "execution_count": null,
   "id": "funny-cambodia",
   "metadata": {},
   "outputs": [],
   "source": []
  }
 ],
 "metadata": {
  "kernelspec": {
   "display_name": "Python 3",
   "language": "python",
   "name": "python3"
  },
  "language_info": {
   "codemirror_mode": {
    "name": "ipython",
    "version": 3
   },
   "file_extension": ".py",
   "mimetype": "text/x-python",
   "name": "python",
   "nbconvert_exporter": "python",
   "pygments_lexer": "ipython3",
   "version": "3.8.7"
  }
 },
 "nbformat": 4,
 "nbformat_minor": 5
}
