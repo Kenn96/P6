{
 "cells": [
  {
   "cell_type": "code",
   "execution_count": 1,
   "metadata": {},
   "outputs": [],
   "source": [
    "from tensorflow.keras import datasets, layers, models\n",
    "\n",
    "import cv2 as cv\n",
    "import numpy as np\n",
    "import tensorflow as tf\n",
    "import tensorflow_addons as tfa"
   ]
  },
  {
   "cell_type": "code",
   "execution_count": 2,
   "metadata": {},
   "outputs": [],
   "source": [
    "def padImage(image, pixels=5, pad_sides=True):\n",
    "    bottom = image[-pixels:]\n",
    "    top = image[:pixels]\n",
    "\n",
    "    img = np.insert(image, 0, bottom, 0)\n",
    "    img = np.insert(img, len(img), top, 0)\n",
    "    if pad_sides:\n",
    "        img = np.insert(img, [0], [0] * pixels, 1)\n",
    "        img = np.insert(img, [-1], [0] * pixels, 1)\n",
    "    return img"
   ]
  },
  {
   "cell_type": "code",
   "execution_count": 3,
   "metadata": {},
   "outputs": [],
   "source": [
    "(train_images, train_labels), (test_images, test_labels) = datasets.mnist.load_data()\n",
    "# Normalize pixel values to be between 0 and 1\n",
    "train_images, test_images = (train_images / 255.0).astype(np.float32), test_images.astype(np.float32) / 255.0"
   ]
  },
  {
   "cell_type": "code",
   "execution_count": 4,
   "metadata": {},
   "outputs": [],
   "source": [
    "### THE PAD HAS TO BE DONE IN THE\n",
    "### POLAR SPACE\n",
    "\n",
    "# 20 is the ceiling of (14 * sqrt(2))\n",
    "X_train_polar = [cv.linearPolar(x, tuple(np.array(x.shape)/2), 20, cv.WARP_FILL_OUTLIERS) for x in train_images]\n",
    "X_train_polar = [padImage(x, pixels=5) for x in X_train_polar]\n",
    "X_train_polar = np.array(X_train_polar)[...,None]\n",
    "\n",
    "X_test_polar = [cv.linearPolar(x, tuple(np.array(x.shape)/2), 20, cv.WARP_FILL_OUTLIERS) for x in test_images]\n",
    "X_test_polar = [padImage(x, pixels=5) for x in X_test_polar]\n",
    "X_test_polar = np.array(X_test_polar)[...,None]\n",
    "\n",
    "# Rotate test set\n",
    "X_test_r_polar = [tfa.image.rotate(x, np.random.uniform(-np.pi/2., np.pi/2.)).numpy() for x in test_images]\n",
    "X_test_r_polar = [cv.linearPolar(x, tuple(np.array(x.shape)/2), 20, cv.WARP_FILL_OUTLIERS) for x in X_test_r_polar]\n",
    "X_test_r_polar = [padImage(x, pixels=5) for x in X_test_r_polar]\n",
    "X_test_r_polar = np.array(X_test_r_polar)[...,None]"
   ]
  },
  {
   "cell_type": "code",
   "execution_count": 26,
   "metadata": {},
   "outputs": [],
   "source": [
    "model = models.Sequential()\n",
    "model.add(layers.Input(shape=X_train_polar.shape[1:]))\n",
    "model.add(layers.Conv2D(32, (3, 3), activation='relu', strides=1))\n",
    "model.add(layers.MaxPooling2D())\n",
    "model.add(layers.LayerNormalization(axis=-1, epsilon=0.001, center=True, scale=True))\n",
    "model.add(layers.Dropout(rate=0.5))\n",
    "model.add(layers.Conv2D(64, (3, 3), activation='relu', strides=1))\n",
    "model.add(layers.MaxPooling2D())\n",
    "model.add(layers.LayerNormalization(axis=-1, epsilon=0.001, center=True, scale=True))\n",
    "model.add(layers.Dropout(rate=0.5))\n",
    "model.add(layers.Conv2D(128, (3, 3), activation='relu', strides=1))\n",
    "\n",
    "model.add(layers.GlobalMaxPooling2D())\n",
    "model.add(layers.Dense(64, activation='relu'))\n",
    "model.add(layers.Dense(10, activation='linear'))"
   ]
  },
  {
   "cell_type": "code",
   "execution_count": 27,
   "metadata": {},
   "outputs": [
    {
     "name": "stdout",
     "output_type": "stream",
     "text": [
      "Epoch 1/10\n",
      "1875/1875 [==============================] - 65s 35ms/step - loss: 0.8354 - accuracy: 0.7229 - val_loss: 0.5150 - val_accuracy: 0.8574\n",
      "Epoch 2/10\n",
      "1875/1875 [==============================] - 61s 32ms/step - loss: 0.1639 - accuracy: 0.9498 - val_loss: 0.4839 - val_accuracy: 0.8645\n",
      "Epoch 3/10\n",
      "1875/1875 [==============================] - 67s 36ms/step - loss: 0.1235 - accuracy: 0.9617 - val_loss: 0.5228 - val_accuracy: 0.8585\n",
      "Epoch 4/10\n",
      "1875/1875 [==============================] - 68s 36ms/step - loss: 0.1068 - accuracy: 0.9667 - val_loss: 0.4746 - val_accuracy: 0.8588\n",
      "Epoch 5/10\n",
      "1875/1875 [==============================] - 62s 33ms/step - loss: 0.1017 - accuracy: 0.9687 - val_loss: 0.4618 - val_accuracy: 0.8595\n",
      "Epoch 6/10\n",
      "1875/1875 [==============================] - 71s 38ms/step - loss: 0.0946 - accuracy: 0.9709 - val_loss: 0.5130 - val_accuracy: 0.8532\n",
      "Epoch 7/10\n",
      "1875/1875 [==============================] - 66s 35ms/step - loss: 0.0828 - accuracy: 0.9738 - val_loss: 0.4828 - val_accuracy: 0.8667\n",
      "Epoch 8/10\n",
      "1875/1875 [==============================] - 65s 35ms/step - loss: 0.0843 - accuracy: 0.9742 - val_loss: 0.4605 - val_accuracy: 0.8723\n",
      "Epoch 9/10\n",
      "1875/1875 [==============================] - 66s 35ms/step - loss: 0.0716 - accuracy: 0.9777 - val_loss: 0.4115 - val_accuracy: 0.8779\n",
      "Epoch 10/10\n",
      "1875/1875 [==============================] - 64s 34ms/step - loss: 0.0714 - accuracy: 0.9770 - val_loss: 0.4720 - val_accuracy: 0.8648\n"
     ]
    },
    {
     "data": {
      "text/plain": [
       "<tensorflow.python.keras.callbacks.History at 0x7fcaf4cc2dc0>"
      ]
     },
     "execution_count": 27,
     "metadata": {},
     "output_type": "execute_result"
    }
   ],
   "source": [
    "reduce_lr = tf.keras.callbacks.ReduceLROnPlateau(monitor='val_loss', factor=0.5, patience=5, min_lr=0.00001)\n",
    "model.compile(optimizer='adam',\n",
    "              loss=tf.keras.losses.SparseCategoricalCrossentropy(from_logits=True),\n",
    "              metrics=['accuracy'])\n",
    "model.fit(X_train_polar, train_labels, batch_size=32, epochs=10, \n",
    "          validation_data=(X_test_r_polar, test_labels),\n",
    "          callbacks=[reduce_lr])"
   ]
  },
  {
   "cell_type": "code",
   "execution_count": 28,
   "metadata": {},
   "outputs": [
    {
     "name": "stdout",
     "output_type": "stream",
     "text": [
      "98.64 86.48\n"
     ]
    }
   ],
   "source": [
    "# Plain accuracy\n",
    "accuracy = np.mean(model.predict(X_test_polar).argmax(axis=1) == test_labels)*100\n",
    "# \"Rotated\" accuracy\n",
    "accuracy_rotated = np.mean(model.predict(X_test_r_polar).argmax(axis=1) == test_labels)*100\n",
    "\n",
    "print(accuracy, accuracy_rotated)"
   ]
  },
  {
   "cell_type": "code",
   "execution_count": 42,
   "metadata": {},
   "outputs": [],
   "source": [
    "import matplotlib.pyplot as plt\n",
    "from PIL import Image"
   ]
  },
  {
   "cell_type": "code",
   "execution_count": 40,
   "metadata": {},
   "outputs": [
    {
     "ename": "NameError",
     "evalue": "name 'cat' is not defined",
     "output_type": "error",
     "traceback": [
      "\u001b[0;31m---------------------------------------------------------------------------\u001b[0m",
      "\u001b[0;31mNameError\u001b[0m                                 Traceback (most recent call last)",
      "\u001b[0;32m<ipython-input-40-197138b7a0bf>\u001b[0m in \u001b[0;36m<module>\u001b[0;34m\u001b[0m\n\u001b[1;32m      5\u001b[0m \u001b[0ma\u001b[0m \u001b[0;34m=\u001b[0m \u001b[0;34m[\u001b[0m\u001b[0;36m0\u001b[0m\u001b[0;34m,\u001b[0m \u001b[0mnp\u001b[0m\u001b[0;34m.\u001b[0m\u001b[0mpi\u001b[0m\u001b[0;34m/\u001b[0m\u001b[0;36m2\u001b[0m\u001b[0;34m,\u001b[0m \u001b[0mnp\u001b[0m\u001b[0;34m.\u001b[0m\u001b[0mpi\u001b[0m\u001b[0;34m,\u001b[0m \u001b[0mnp\u001b[0m\u001b[0;34m.\u001b[0m\u001b[0mpi\u001b[0m\u001b[0;34m/\u001b[0m\u001b[0;36m2\u001b[0m\u001b[0;34m+\u001b[0m\u001b[0mnp\u001b[0m\u001b[0;34m.\u001b[0m\u001b[0mpi\u001b[0m\u001b[0;34m]\u001b[0m\u001b[0;34m\u001b[0m\u001b[0;34m\u001b[0m\u001b[0m\n\u001b[1;32m      6\u001b[0m \u001b[0mimg_4\u001b[0m \u001b[0;34m=\u001b[0m \u001b[0mnp\u001b[0m\u001b[0;34m.\u001b[0m\u001b[0mwhere\u001b[0m\u001b[0;34m(\u001b[0m\u001b[0mtrain_labels\u001b[0m \u001b[0;34m==\u001b[0m \u001b[0;36m4\u001b[0m\u001b[0;34m)\u001b[0m\u001b[0;34m[\u001b[0m\u001b[0;36m0\u001b[0m\u001b[0;34m]\u001b[0m\u001b[0;34m[\u001b[0m\u001b[0;36m0\u001b[0m\u001b[0;34m]\u001b[0m\u001b[0;34m\u001b[0m\u001b[0;34m\u001b[0m\u001b[0m\n\u001b[0;32m----> 7\u001b[0;31m \u001b[0mbgr_cat\u001b[0m \u001b[0;34m=\u001b[0m \u001b[0mcat\u001b[0m\u001b[0;34m[\u001b[0m\u001b[0;34m:\u001b[0m\u001b[0;34m,\u001b[0m\u001b[0;34m:\u001b[0m\u001b[0;34m,\u001b[0m\u001b[0;34m[\u001b[0m\u001b[0;36m2\u001b[0m\u001b[0;34m,\u001b[0m\u001b[0;36m1\u001b[0m\u001b[0;34m,\u001b[0m\u001b[0;36m0\u001b[0m\u001b[0;34m]\u001b[0m\u001b[0;34m]\u001b[0m\u001b[0;34m\u001b[0m\u001b[0;34m\u001b[0m\u001b[0m\n\u001b[0m\u001b[1;32m      8\u001b[0m \u001b[0;32mfor\u001b[0m \u001b[0mi\u001b[0m \u001b[0;32min\u001b[0m \u001b[0mrange\u001b[0m\u001b[0;34m(\u001b[0m\u001b[0;36m4\u001b[0m\u001b[0;34m)\u001b[0m\u001b[0;34m:\u001b[0m\u001b[0;34m\u001b[0m\u001b[0;34m\u001b[0m\u001b[0m\n\u001b[1;32m      9\u001b[0m     \u001b[0mcol3\u001b[0m \u001b[0;34m=\u001b[0m \u001b[0;34m(\u001b[0m\u001b[0;34m(\u001b[0m\u001b[0mi\u001b[0m\u001b[0;34m+\u001b[0m\u001b[0;36m1\u001b[0m\u001b[0;34m)\u001b[0m\u001b[0;34m*\u001b[0m\u001b[0mcols\u001b[0m\u001b[0;34m)\u001b[0m\u001b[0;34m\u001b[0m\u001b[0;34m\u001b[0m\u001b[0m\n",
      "\u001b[0;31mNameError\u001b[0m: name 'cat' is not defined"
     ]
    },
    {
     "data": {
      "text/plain": [
       "<Figure size 720x720 with 0 Axes>"
      ]
     },
     "metadata": {},
     "output_type": "display_data"
    }
   ],
   "source": [
    "fig = plt.Figure(figsize=(10,10))\n",
    "plt.figure(figsize=(10,10))\n",
    "rows = 4\n",
    "cols = 3\n",
    "a = [0, np.pi/2, np.pi, np.pi/2+np.pi]\n",
    "img_4 = np.where(train_labels == 4)[0][0]\n",
    "bgr_cat = cat[:,:,[2,1,0]]\n",
    "for i in range(4):\n",
    "    col3 = ((i+1)*cols)\n",
    "    col2 = col3-1\n",
    "    col1 = col2-1\n",
    "    \n",
    "    rot_img_4 = tfa.image.rotate(bgr_cat, a[i]).numpy()\n",
    "    #cv.imwrite(f'cat_{i}.png', (rot_img_4 * 255).astype(np.int64))\n",
    "    max_r = np.sqrt(np.sum((np.array(rot_img_4.shape)[:-1])**2))/2 - 46\n",
    "    pol_img_4 = cv.linearPolar(rot_img_4, tuple(np.array(rot_img_4.shape)/2)[:-1], max_r, cv.WARP_FILL_OUTLIERS)  \n",
    "    #cv.imwrite(f'cat_polar_{i}.png', (pol_img_4 * 255).astype(np.int64))\n",
    "    pol_pad_img_4 = padImage(pol_img_4, pixels=120, pad_sides=False)\n",
    "    #cv.imwrite(f'cat_polNpad_{i}.png', (pol_pad_img_4 * 255).astype(np.int64))\n",
    "    \n",
    "    \n",
    "    # Normal\n",
    "    plt.subplot(rows,cols,col1)\n",
    "    plt.xticks([])\n",
    "    plt.grid(False)\n",
    "    plt.imshow(rot_img_4, cmap=plt.cm.binary_r)\n",
    "    plt.xlabel(str(train_labels[img_4]))\n",
    "    # Polar\n",
    "    plt.subplot(rows,cols,col2)\n",
    "    plt.xticks([])\n",
    "    plt.grid(False)\n",
    "    plt.imshow(pol_img_4, cmap=plt.cm.binary_r)\n",
    "    plt.xlabel(str(train_labels[i]))\n",
    "    \n",
    "    # Polar & Pad\n",
    "    plt.subplot(rows,cols,col3)\n",
    "    plt.xticks([])\n",
    "    plt.grid(False)\n",
    "    plt.imshow(pol_pad_img_4, cmap=plt.cm.binary_r)\n",
    "    plt.xlabel(str(train_labels[i]))\n",
    "    \n",
    "plt.show()"
   ]
  },
  {
   "cell_type": "code",
   "execution_count": 44,
   "metadata": {},
   "outputs": [
    {
     "data": {
      "image/png": "[encoded data removed]",
      "text/plain": [
       "<Figure size 720x720 with 16 Axes>"
      ]
     },
     "metadata": {
      "needs_background": "light"
     },
     "output_type": "display_data"
    }
   ],
   "source": [
    "fig = plt.Figure(figsize=(10,10))\n",
    "plt.figure(figsize=(10,10))\n",
    "rows = 4\n",
    "cols = 4\n",
    "a = [0, np.pi/2, np.pi, np.pi/2+np.pi]\n",
    "img_4 = np.where(train_labels == 4)[0][0]\n",
    "\n",
    "for i in range(4):\n",
    "    col4 = ((i+1)*cols)\n",
    "    col3 = col4-1\n",
    "    col2 = col3-1\n",
    "    col1 = col2-1\n",
    "    \n",
    "    rot_img_4 = tfa.image.rotate(train_images[img_4], a[i]).numpy()\n",
    "    pol_img_4 = cv.linearPolar(rot_img_4, tuple(np.array(rot_img_4.shape)/2), 20, cv.WARP_FILL_OUTLIERS)    \n",
    "    pol_pad_img_4 = padImage(pol_img_4, pad_sides=False)\n",
    "    pol_pol = cv.linearPolar(pol_img_4, tuple(np.array(pol_img_4.shape)/2), 20, cv.WARP_FILL_OUTLIERS)\n",
    "    \n",
    "    # Normal\n",
    "    plt.subplot(rows,cols,col1)\n",
    "    plt.xticks([])\n",
    "    plt.grid(False)\n",
    "    plt.imshow(rot_img_4, cmap=plt.cm.binary_r)\n",
    "    plt.xlabel(str(train_labels[img_4]))\n",
    "    # Polar\n",
    "    plt.subplot(rows,cols,col2)\n",
    "    plt.xticks([])\n",
    "    plt.grid(False)\n",
    "    plt.imshow(pol_img_4, cmap=plt.cm.binary_r)\n",
    "    plt.xlabel(str(train_labels[i]))\n",
    "    \n",
    "    # Polar & Pad\n",
    "    plt.subplot(rows,cols,col3)\n",
    "    plt.xticks([])\n",
    "    plt.grid(False)\n",
    "    plt.imshow(pol_pad_img_4, cmap=plt.cm.binary_r)\n",
    "    plt.xlabel(str(train_labels[i]))\n",
    "    \n",
    "    # Double Polar\n",
    "    plt.subplot(rows,cols,col4)\n",
    "    plt.xticks([])\n",
    "    plt.grid(False)\n",
    "    plt.imshow(pol_pol, cmap=plt.cm.binary_r)\n",
    "    plt.xlabel(str(train_labels[i]))\n",
    "    \n",
    "    \n",
    "plt.show()"
   ]
  },
  {
   "cell_type": "code",
   "execution_count": 43,
   "metadata": {
    "collapsed": true,
    "jupyter": {
     "outputs_hidden": true
    }
   },
   "outputs": [
    {
     "ename": "FileNotFoundError",
     "evalue": "[Errno 2] No such file or directory: 'cat_before.JPG'",
     "output_type": "error",
     "traceback": [
      "\u001b[0;31m---------------------------------------------------------------------------\u001b[0m",
      "\u001b[0;31mFileNotFoundError\u001b[0m                         Traceback (most recent call last)",
      "\u001b[0;32m<ipython-input-43-659e1e5a8493>\u001b[0m in \u001b[0;36m<module>\u001b[0;34m\u001b[0m\n\u001b[0;32m----> 1\u001b[0;31m \u001b[0mcat\u001b[0m \u001b[0;34m=\u001b[0m \u001b[0mnp\u001b[0m\u001b[0;34m.\u001b[0m\u001b[0masarray\u001b[0m\u001b[0;34m(\u001b[0m\u001b[0mImage\u001b[0m\u001b[0;34m.\u001b[0m\u001b[0mopen\u001b[0m\u001b[0;34m(\u001b[0m\u001b[0;34m'cat_before.JPG'\u001b[0m\u001b[0;34m)\u001b[0m\u001b[0;34m)\u001b[0m\u001b[0;34m\u001b[0m\u001b[0;34m\u001b[0m\u001b[0m\n\u001b[0m\u001b[1;32m      2\u001b[0m \u001b[0mcat\u001b[0m \u001b[0;34m=\u001b[0m \u001b[0mcat\u001b[0m\u001b[0;34m/\u001b[0m\u001b[0;36m255.0\u001b[0m\u001b[0;34m\u001b[0m\u001b[0;34m\u001b[0m\u001b[0m\n",
      "\u001b[0;32m~/Documents/code/schl/P6/env/lib/python3.8/site-packages/PIL/Image.py\u001b[0m in \u001b[0;36mopen\u001b[0;34m(fp, mode, formats)\u001b[0m\n\u001b[1;32m   2902\u001b[0m \u001b[0;34m\u001b[0m\u001b[0m\n\u001b[1;32m   2903\u001b[0m     \u001b[0;32mif\u001b[0m \u001b[0mfilename\u001b[0m\u001b[0;34m:\u001b[0m\u001b[0;34m\u001b[0m\u001b[0;34m\u001b[0m\u001b[0m\n\u001b[0;32m-> 2904\u001b[0;31m         \u001b[0mfp\u001b[0m \u001b[0;34m=\u001b[0m \u001b[0mbuiltins\u001b[0m\u001b[0;34m.\u001b[0m\u001b[0mopen\u001b[0m\u001b[0;34m(\u001b[0m\u001b[0mfilename\u001b[0m\u001b[0;34m,\u001b[0m \u001b[0;34m\"rb\"\u001b[0m\u001b[0;34m)\u001b[0m\u001b[0;34m\u001b[0m\u001b[0;34m\u001b[0m\u001b[0m\n\u001b[0m\u001b[1;32m   2905\u001b[0m         \u001b[0mexclusive_fp\u001b[0m \u001b[0;34m=\u001b[0m \u001b[0;32mTrue\u001b[0m\u001b[0;34m\u001b[0m\u001b[0;34m\u001b[0m\u001b[0m\n\u001b[1;32m   2906\u001b[0m \u001b[0;34m\u001b[0m\u001b[0m\n",
      "\u001b[0;31mFileNotFoundError\u001b[0m: [Errno 2] No such file or directory: 'cat_before.JPG'"
     ]
    }
   ],
   "source": [
    "cat = np.asarray(Image.open('cat_before.JPG'))\n",
    "cat = cat/255.0"
   ]
  },
  {
   "cell_type": "markdown",
   "metadata": {
    "jupyter": {
     "outputs_hidden": true
    }
   },
   "source": [
    "# Plotting First Image in Class 4 - 12 times 30 to 360 deg"
   ]
  },
  {
   "cell_type": "code",
   "execution_count": 45,
   "metadata": {},
   "outputs": [
    {
     "data": {
      "image/png": "[encoded data removed]",
      "text/plain": [
       "<Figure size 720x720 with 12 Axes>"
      ]
     },
     "metadata": {
      "needs_background": "light"
     },
     "output_type": "display_data"
    }
   ],
   "source": [
    "fig = plt.Figure(figsize=(10,10))\n",
    "plt.figure(figsize=(10,10))\n",
    "rows = 4\n",
    "cols = 3\n",
    "rad_d30 = (30/360)*(2*np.pi)\n",
    "a = [i * rad_d30 for i in range(360//30)]\n",
    "img_4 = np.where(train_labels == 4)[0][0]\n",
    "\n",
    "for i in range(12):\n",
    "    rot_img_4 = tfa.image.rotate(train_images[img_4], a[i]).numpy()\n",
    "    #cv.imwrite(f'cat_{i}.png', (rot_img_4 * 255).astype(np.int64))\n",
    "    pol_img_4 = cv.linearPolar(rot_img_4, tuple(np.array(rot_img_4.shape)/2), 20, cv.WARP_FILL_OUTLIERS)  \n",
    "    #cv.imwrite(f'cat_polar_{i}.png', (pol_img_4 * 255).astype(np.int64))\n",
    "    pol_pad_img_4 = padImage(pol_img_4, pad_sides=False)\n",
    "    cv.imwrite(f'4_12samples_polNpad_{i}.png', (pol_pad_img_4 * 255).astype(np.int64))\n",
    "    \n",
    "    \n",
    "    # Rots\n",
    "    plt.subplot(rows,cols,i+1)\n",
    "    plt.xticks([])\n",
    "    plt.grid(False)\n",
    "    plt.imshow(pol_pad_img_4, cmap=plt.cm.binary_r)\n",
    "    plt.xlabel(str(train_labels[img_4]))\n",
    "    \n",
    "plt.show()"
   ]
  },
  {
   "cell_type": "markdown",
   "metadata": {
    "jupyter": {
     "outputs_hidden": true
    }
   },
   "source": [
    "## Computing for each class for the First Image only, the 12 times 30 to 360 deg polar image"
   ]
  },
  {
   "cell_type": "code",
   "execution_count": 46,
   "metadata": {},
   "outputs": [],
   "source": [
    "rad_d30 = (30/360)*(2*np.pi)\n",
    "a = [i * rad_d30 for i in range(360//30)]\n",
    "class_box = []\n",
    "class_preds = []\n",
    "for j in range(10): \n",
    "    imgj = train_images[np.where(train_labels==j)[0][0]]\n",
    "    padded_imgs = []\n",
    "    for i in range(12):\n",
    "        rot_img = tfa.image.rotate(imgj, a[i]).numpy()\n",
    "        max_r = np.sqrt(np.sum((np.array(rot_img.shape))**2))/2\n",
    "        pol_img = cv.linearPolar(rot_img, tuple(np.array(rot_img.shape)/2), max_r, cv.WARP_FILL_OUTLIERS)\n",
    "        pol_pad_img = padImage(pol_img, pixels=5, pad_sides=True)\n",
    "        padded_imgs.append(pol_pad_img)\n",
    "    class_box.append(np.asarray(padded_imgs))\n",
    "    class_preds.append(model.predict(np.expand_dims(class_box[-1], axis=-1)))\n",
    "class_box = np.asarray(class_box)\n",
    "class_preds = np.asarray(class_preds)"
   ]
  },
  {
   "cell_type": "markdown",
   "metadata": {
    "jupyter": {
     "outputs_hidden": true
    }
   },
   "source": [
    "## Showing image from class 4 rotated 1*30 = 30 degrees"
   ]
  },
  {
   "cell_type": "code",
   "execution_count": 47,
   "metadata": {},
   "outputs": [
    {
     "data": {
      "text/plain": [
       "<matplotlib.image.AxesImage at 0x7fcaf5ba6d30>"
      ]
     },
     "execution_count": 47,
     "metadata": {},
     "output_type": "execute_result"
    },
    {
     "data": {
      "image/png": "[encoded data removed]",
      "text/plain": [
       "<Figure size 432x288 with 1 Axes>"
      ]
     },
     "metadata": {
      "needs_background": "light"
     },
     "output_type": "display_data"
    }
   ],
   "source": [
    "plt.imshow(class_box[4][1], cmap=plt.cm.binary_r)"
   ]
  },
  {
   "cell_type": "markdown",
   "metadata": {
    "jupyter": {
     "outputs_hidden": true
    }
   },
   "source": [
    "## Predictions for the same image in the 12 rotations"
   ]
  },
  {
   "cell_type": "code",
   "execution_count": 54,
   "metadata": {},
   "outputs": [
    {
     "data": {
      "text/plain": [
       "(array([4, 4, 4, 5, 5, 4, 4, 4, 4, 4, 2, 4]), 3.700799)"
      ]
     },
     "execution_count": 54,
     "metadata": {},
     "output_type": "execute_result"
    }
   ],
   "source": [
    "preds = model.predict(np.expand_dims(padded_imgs, axis=-1))\n",
    "np.argmax(preds,axis=1), np.std(preds[:,6])\n",
    "np.argmax(class_preds[4],axis=1), np.std(preds[:,6])"
   ]
  },
  {
   "cell_type": "markdown",
   "metadata": {
    "jupyter": {
     "outputs_hidden": true
    }
   },
   "source": [
    "## Computing Euclidean dist. between the 12 rotations for the first 4 image"
   ]
  },
  {
   "cell_type": "code",
   "execution_count": 117,
   "metadata": {},
   "outputs": [
    {
     "data": {
      "text/plain": [
       "115.12598673502605"
      ]
     },
     "execution_count": 117,
     "metadata": {},
     "output_type": "execute_result"
    }
   ],
   "source": [
    "pred_4 = class_preds[4]\n",
    "d_4 = np.sum((pred_4[:,None] - pred_4[None])**2, axis=-1)\n",
    "d_4 = np.maximum(d_4, 0)**.5\n",
    "np.sum(d_4)/12 # distance per image (12 rotations of the first 4 image)"
   ]
  },
  {
   "cell_type": "markdown",
   "metadata": {
    "jupyter": {
     "outputs_hidden": true
    }
   },
   "source": [
    "## Computing Euclidean dist. between all images in the class 4 (randomly rotated)"
   ]
  },
  {
   "cell_type": "code",
   "execution_count": 118,
   "metadata": {},
   "outputs": [],
   "source": [
    "preds_all_4 = model.predict(X_test_r_polar[np.where(test_labels == 4)])"
   ]
  },
  {
   "cell_type": "code",
   "execution_count": 119,
   "metadata": {},
   "outputs": [
    {
     "data": {
      "text/plain": [
       "11787.739307535641"
      ]
     },
     "execution_count": 119,
     "metadata": {},
     "output_type": "execute_result"
    }
   ],
   "source": [
    "d_4_all = np.sum((preds_all_4[:,None] - preds_all_4[None])**2, axis=-1)\n",
    "d_4_all = np.maximum(d_4_all, 0)**.5\n",
    "np.sum(d_4_all)/preds_all_4.shape[0] # distance per image (982 in class 4)"
   ]
  },
  {
   "cell_type": "markdown",
   "metadata": {
    "jupyter": {
     "outputs_hidden": true
    }
   },
   "source": [
    "## Plotting 4 and 5 to interpret why it guess 4, when rotated 120 degrees"
   ]
  },
  {
   "cell_type": "code",
   "execution_count": 103,
   "metadata": {},
   "outputs": [
    {
     "data": {
      "image/png": "[encoded data removed]",
      "text/plain": [
       "<Figure size 720x720 with 2 Axes>"
      ]
     },
     "metadata": {
      "needs_background": "light"
     },
     "output_type": "display_data"
    }
   ],
   "source": [
    "fig = plt.Figure(figsize=(10,10))\n",
    "plt.figure(figsize=(10,10))\n",
    "rows = 1\n",
    "cols = 2\n",
    "rad_d30 = (30/360)*(2*np.pi)\n",
    "a = [i * rad_d30 for i in range(360//30)]\n",
    "img_4 = np.where(train_labels == 4)[0][0]\n",
    "img_5 = np.where(train_labels == 5)[0][0]\n",
    "\n",
    "i = 4 # 120 degrees\n",
    "\n",
    "rot_img_4 = tfa.image.rotate(train_images[img_4], a[i]).numpy()\n",
    "pol_img_4 = cv.linearPolar(rot_img_4, tuple(np.array(rot_img_4.shape)/2), 20, cv.WARP_FILL_OUTLIERS)  \n",
    "pol_pad_img_4 = padImage(pol_img_4, pad_sides=False)\n",
    "\n",
    "rot_img_5 = tfa.image.rotate(train_images[img_5], a[0]).numpy()\n",
    "pol_img_5 = cv.linearPolar(rot_img_5, tuple(np.array(rot_img_4.shape)/2), 20, cv.WARP_FILL_OUTLIERS)  \n",
    "pol_pad_img_5 = padImage(pol_img_5, pad_sides=False)\n",
    "\n",
    "\n",
    "# Rots\n",
    "plt.subplot(rows,cols,1)\n",
    "plt.xticks([])\n",
    "plt.grid(False)\n",
    "plt.imshow(pol_pad_img_4, cmap=plt.cm.binary_r)\n",
    "plt.xlabel(str(train_labels[img_4]))\n",
    "\n",
    "plt.subplot(rows,cols,2)\n",
    "plt.xticks([])\n",
    "plt.grid(False)\n",
    "plt.imshow(pol_pad_img_5, cmap=plt.cm.binary_r)\n",
    "plt.xlabel(str(train_labels[img_5]))\n",
    "    \n",
    "plt.show()"
   ]
  },
  {
   "cell_type": "markdown",
   "metadata": {
    "jupyter": {
     "outputs_hidden": true
    }
   },
   "source": [
    "## Plotting 4 and 5 to interpret why it guess 4, when rotated 320 degrees"
   ]
  },
  {
   "cell_type": "code",
   "execution_count": 111,
   "metadata": {},
   "outputs": [
    {
     "data": {
      "image/png": "[encoded data removed]",
      "text/plain": [
       "<Figure size 720x720 with 2 Axes>"
      ]
     },
     "metadata": {
      "needs_background": "light"
     },
     "output_type": "display_data"
    }
   ],
   "source": [
    "fig = plt.Figure(figsize=(10,10))\n",
    "plt.figure(figsize=(10,10))\n",
    "rows = 1\n",
    "cols = 2\n",
    "rad_d30 = (30/360)*(2*np.pi)\n",
    "a = [i * rad_d30 for i in range(360//30)]\n",
    "img_4 = np.where(train_labels == 4)[0][0]\n",
    "img_2 = np.where(train_labels == 2)[0][10]\n",
    "\n",
    "i = 8 # 320 degrees\n",
    "\n",
    "rot_img_4 = tfa.image.rotate(train_images[img_4], a[i]).numpy()\n",
    "pol_img_4 = cv.linearPolar(rot_img_4, tuple(np.array(rot_img_4.shape)/2), 20, cv.WARP_FILL_OUTLIERS)  \n",
    "pol_pad_img_4 = padImage(pol_img_4, pad_sides=False)\n",
    "\n",
    "rot_img_2 = tfa.image.rotate(train_images[img_2], a[0]).numpy()\n",
    "pol_img_2 = cv.linearPolar(rot_img_2, tuple(np.array(rot_img_4.shape)/2), 20, cv.WARP_FILL_OUTLIERS)  \n",
    "pol_pad_img_2 = padImage(pol_img_2, pad_sides=False)\n",
    "\n",
    "\n",
    "# Rots\n",
    "plt.subplot(rows,cols,1)\n",
    "plt.xticks([])\n",
    "plt.grid(False)\n",
    "plt.imshow(pol_pad_img_4, cmap=plt.cm.binary_r)\n",
    "plt.xlabel(str(train_labels[img_4]))\n",
    "\n",
    "plt.subplot(rows,cols,2)\n",
    "plt.xticks([])\n",
    "plt.grid(False)\n",
    "plt.imshow(pol_pad_img_2, cmap=plt.cm.binary_r)\n",
    "plt.xlabel(str(train_labels[img_2]))\n",
    "    \n",
    "plt.show()"
   ]
  },
  {
   "cell_type": "code",
   "execution_count": null,
   "metadata": {},
   "outputs": [],
   "source": []
  }
 ],
 "metadata": {
  "kernelspec": {
   "display_name": "p6_lab",
   "language": "python",
   "name": "p6_lab"
  },
  "language_info": {
   "codemirror_mode": {
    "name": "ipython",
    "version": 3
   },
   "file_extension": ".py",
   "mimetype": "text/x-python",
   "name": "python",
   "nbconvert_exporter": "python",
   "pygments_lexer": "ipython3",
   "version": "3.8.7"
  }
 },
 "nbformat": 4,
 "nbformat_minor": 4
}
