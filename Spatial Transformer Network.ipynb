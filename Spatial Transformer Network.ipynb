{
 "cells": [
  {
   "cell_type": "markdown",
   "metadata": {
    "executionInfo": {
     "elapsed": 87791,
     "status": "ok",
     "timestamp": 1608050882413,
     "user": {
      "displayName": "Parth Dedhia",
      "photoUrl": "",
      "userId": "15098257602324158403"
     },
     "user_tz": -330
    },
    "id": "lxLJ1KO_02VB"
   },
   "source": [
    "# Spatial Transformer networks\n",
    "\n",
    "https://arxiv.org/pdf/1506.02025.pdf\n"
   ]
  },
  {
   "cell_type": "code",
   "execution_count": 1,
   "metadata": {
    "executionInfo": {
     "elapsed": 3237,
     "status": "ok",
     "timestamp": 1608050797824,
     "user": {
      "displayName": "Parth Dedhia",
      "photoUrl": "",
      "userId": "15098257602324158403"
     },
     "user_tz": -330
    },
    "id": "nzq9rJFWUhhe"
   },
   "outputs": [
    {
     "name": "stdout",
     "output_type": "stream",
     "text": [
      "Couldn't import dot_parser, loading of dot files will not be possible.\n"
     ]
    }
   ],
   "source": [
    "from sklearn.model_selection import train_test_split\n",
    "from tensorflow.keras import datasets\n",
    "from matplotlib import pyplot as plt\n",
    "from scipy.io.matlab import loadmat\n",
    "import tensorflow as tf\n",
    "import numpy as np\n",
    "import datetime\n",
    "import os\n",
    "import tensorflow_addons as tfa\n",
    "import cv2 as cv\n",
    "import math\n",
    "\n",
    "%load_ext tensorboard"
   ]
  },
  {
   "cell_type": "code",
   "execution_count": 2,
   "metadata": {
    "executionInfo": {
     "elapsed": 3232,
     "status": "ok",
     "timestamp": 1608050797825,
     "user": {
      "displayName": "Parth Dedhia",
      "photoUrl": "",
      "userId": "15098257602324158403"
     },
     "user_tz": -330
    },
    "id": "tk6aUI6nRCll"
   },
   "outputs": [],
   "source": [
    "tf.random.set_seed(9)"
   ]
  },
  {
   "cell_type": "code",
   "execution_count": 3,
   "metadata": {
    "executionInfo": {
     "elapsed": 78115,
     "status": "ok",
     "timestamp": 1608050872722,
     "user": {
      "displayName": "Parth Dedhia",
      "photoUrl": "",
      "userId": "15098257602324158403"
     },
     "user_tz": -330
    },
    "id": "pMOyoEATUy5H"
   },
   "outputs": [],
   "source": [
    "batch_size = 256\n",
    "epochs = 3"
   ]
  },
  {
   "cell_type": "code",
   "execution_count": 4,
   "metadata": {
    "executionInfo": {
     "elapsed": 82366,
     "status": "ok",
     "timestamp": 1608050876984,
     "user": {
      "displayName": "Parth Dedhia",
      "photoUrl": "",
      "userId": "15098257602324158403"
     },
     "user_tz": -330
    },
    "id": "qQAadNcxpz18"
   },
   "outputs": [],
   "source": [
    "(X_train, y_train), (x_test, y_test) = datasets.mnist.load_data()\n",
    "X_train, x_test = (X_train / 255.0).astype(np.float32), x_test.astype(np.float32) / 255.0"
   ]
  },
  {
   "cell_type": "markdown",
   "metadata": {},
   "source": [
    "# Build Localization & Bilinear layer for the spatial transformer"
   ]
  },
  {
   "cell_type": "code",
   "execution_count": 5,
   "metadata": {
    "executionInfo": {
     "elapsed": 87791,
     "status": "ok",
     "timestamp": 1608050882416,
     "user": {
      "displayName": "Parth Dedhia",
      "photoUrl": "",
      "userId": "15098257602324158403"
     },
     "user_tz": -330
    },
    "id": "kDqeTCG7U4Gn"
   },
   "outputs": [],
   "source": [
    "class Localization(tf.keras.layers.Layer):\n",
    "    def __init__(self):\n",
    "        super(Localization, self).__init__()\n",
    "        self.pool1 = tf.keras.layers.MaxPool2D()\n",
    "        self.conv1 = tf.keras.layers.Conv2D(20, [5, 5], activation='relu')\n",
    "        self.pool2 = tf.keras.layers.MaxPool2D()\n",
    "        self.conv2 = tf.keras.layers.Conv2D(20, [5, 5], activation='relu')\n",
    "        self.flatten = tf.keras.layers.Flatten()\n",
    "        self.fc1 = tf.keras.layers.Dense(20, activation='relu')\n",
    "        self.fc2 = tf.keras.layers.Dense(6, activation=None, bias_initializer=tf.keras.initializers.constant([1.0, 0.0, 0.0, 0.0, 1.0, 0.0]), kernel_initializer='zeros')\n",
    "\n",
    "    def build(self, input_shape):\n",
    "        print(\"Building Localization Network with input shape:\", input_shape)\n",
    "\n",
    "    def compute_output_shape(self, input_shape):\n",
    "        return [None, 6]\n",
    "\n",
    "    def call(self, inputs):\n",
    "        x = self.conv1(inputs)\n",
    "        x = self.pool1(x)\n",
    "        x = self.conv2(x)\n",
    "        x = self.pool2(x)\n",
    "        x = self.flatten(x)\n",
    "        x = self.fc1(x)\n",
    "        theta = self.fc2(x)\n",
    "        theta = tf.keras.layers.Reshape((2, 3))(theta)\n",
    "        return theta"
   ]
  },
  {
   "cell_type": "code",
   "execution_count": 6,
   "metadata": {
    "executionInfo": {
     "elapsed": 87789,
     "status": "ok",
     "timestamp": 1608050882417,
     "user": {
      "displayName": "Parth Dedhia",
      "photoUrl": "",
      "userId": "15098257602324158403"
     },
     "user_tz": -330
    },
    "id": "vHLT9xb-XRwo"
   },
   "outputs": [],
   "source": [
    "class BilinearInterpolation(tf.keras.layers.Layer):\n",
    "    def __init__(self, height=40, width=40):\n",
    "        super(BilinearInterpolation, self).__init__()\n",
    "        self.height = height\n",
    "        self.width = width\n",
    "\n",
    "    def compute_output_shape(self, input_shape):\n",
    "        return [None, self.height, self.width, 1]\n",
    "\n",
    "    def get_config(self):\n",
    "        return {\n",
    "            'height': self.height,\n",
    "            'width': self.width,\n",
    "        }\n",
    "    \n",
    "    def build(self, input_shape):\n",
    "        print(\"Building Bilinear Interpolation Layer with input shape:\", input_shape)\n",
    "\n",
    "    def advance_indexing(self, inputs, x, y):\n",
    "        '''\n",
    "        Numpy like advance indexing is not supported in tensorflow, hence, this function is a hack around the same method\n",
    "        '''        \n",
    "        shape = tf.shape(inputs)\n",
    "        batch_size, _, _ = shape[0], shape[1], shape[2]\n",
    "        \n",
    "        batch_idx = tf.range(0, batch_size)\n",
    "        batch_idx = tf.reshape(batch_idx, (batch_size, 1, 1))\n",
    "        b = tf.tile(batch_idx, (1, self.height, self.width))\n",
    "        indices = tf.stack([b, y, x], 3)\n",
    "        return tf.gather_nd(inputs, indices)\n",
    "\n",
    "    def call(self, inputs):\n",
    "        images, theta = inputs\n",
    "        homogenous_coordinates = self.grid_generator(batch=tf.shape(images)[0])\n",
    "        return self.interpolate(images, homogenous_coordinates, theta)\n",
    "\n",
    "    def grid_generator(self, batch):\n",
    "        x = tf.linspace(-1, 1, self.width)\n",
    "        y = tf.linspace(-1, 1, self.height)\n",
    "            \n",
    "        xx, yy = tf.meshgrid(x, y)\n",
    "        xx = tf.reshape(xx, (-1,))\n",
    "        yy = tf.reshape(yy, (-1,))\n",
    "        homogenous_coordinates = tf.stack([xx, yy, tf.ones_like(xx)])\n",
    "        homogenous_coordinates = tf.expand_dims(homogenous_coordinates, axis=0)\n",
    "        homogenous_coordinates = tf.tile(homogenous_coordinates, [batch, 1, 1])\n",
    "        homogenous_coordinates = tf.cast(homogenous_coordinates, dtype=tf.float32)\n",
    "        return homogenous_coordinates\n",
    "    \n",
    "    def interpolate(self, images, homogenous_coordinates, theta):\n",
    "\n",
    "        with tf.name_scope(\"Transformation\"):\n",
    "            transformed = tf.matmul(theta, homogenous_coordinates)\n",
    "            transformed = tf.transpose(transformed, perm=[0, 2, 1])\n",
    "            transformed = tf.reshape(transformed, [-1, self.height, self.width, 2])\n",
    "                \n",
    "            x_transformed = transformed[:, :, :, 0]\n",
    "            y_transformed = transformed[:, :, :, 1]\n",
    "                \n",
    "            x = ((x_transformed + 1.) * tf.cast(self.width, dtype=tf.float32)) * 0.5\n",
    "            y = ((y_transformed + 1.) * tf.cast(self.height, dtype=tf.float32)) * 0.5\n",
    "\n",
    "        with tf.name_scope(\"VariableCasting\"):\n",
    "            x0 = tf.cast(tf.math.floor(x), dtype=tf.int32)\n",
    "            x1 = x0 + 1\n",
    "            y0 = tf.cast(tf.math.floor(y), dtype=tf.int32)\n",
    "            y1 = y0 + 1\n",
    "\n",
    "            x0 = tf.clip_by_value(x0, 0, self.width-1)\n",
    "            x1 = tf.clip_by_value(x1, 0, self.width-1)\n",
    "            y0 = tf.clip_by_value(y0, 0, self.height-1)\n",
    "            y1 = tf.clip_by_value(y1, 0, self.height-1)\n",
    "            x = tf.clip_by_value(x, 0, tf.cast(self.width, dtype=tf.float32)-1.0)\n",
    "            y = tf.clip_by_value(y, 0, tf.cast(self.height, dtype=tf.float32)-1)\n",
    "\n",
    "        with tf.name_scope(\"AdvanceIndexing\"):\n",
    "            Ia = self.advance_indexing(images, x0, y0)\n",
    "            Ib = self.advance_indexing(images, x0, y1)\n",
    "            Ic = self.advance_indexing(images, x1, y0)\n",
    "            Id = self.advance_indexing(images, x1, y1)\n",
    "\n",
    "        with tf.name_scope(\"Interpolation\"):\n",
    "            x0 = tf.cast(x0, dtype=tf.float32)\n",
    "            x1 = tf.cast(x1, dtype=tf.float32)\n",
    "            y0 = tf.cast(y0, dtype=tf.float32)\n",
    "            y1 = tf.cast(y1, dtype=tf.float32)\n",
    "                            \n",
    "            wa = (x1-x) * (y1-y)\n",
    "            wb = (x1-x) * (y-y0)\n",
    "            wc = (x-x0) * (y1-y)\n",
    "            wd = (x-x0) * (y-y0)\n",
    "\n",
    "            wa = tf.expand_dims(wa, axis=3)\n",
    "            wb = tf.expand_dims(wb, axis=3)\n",
    "            wc = tf.expand_dims(wc, axis=3)\n",
    "            wd = tf.expand_dims(wd, axis=3)\n",
    "                        \n",
    "        return tf.math.add_n([wa*Ia + wb*Ib + wc*Ic + wd*Id])"
   ]
  },
  {
   "cell_type": "markdown",
   "metadata": {},
   "source": [
    "# Build the model"
   ]
  },
  {
   "cell_type": "code",
   "execution_count": 7,
   "metadata": {
    "executionInfo": {
     "elapsed": 89918,
     "status": "ok",
     "timestamp": 1608050884566,
     "user": {
      "displayName": "Parth Dedhia",
      "photoUrl": "",
      "userId": "15098257602324158403"
     },
     "user_tz": -330
    },
    "id": "CK-GWfCDj0bS"
   },
   "outputs": [],
   "source": [
    "def get_model(input_shape):\n",
    "    image = tf.keras.layers.Input(shape=input_shape)\n",
    "    theta = Localization()(image)\n",
    "    x = BilinearInterpolation(height=input_shape[0], width=input_shape[1])([image, theta])\n",
    "    #x = Polar(pixels=5, size=input_shape[0])(x)\n",
    "    x = tf.keras.layers.Conv2D(64, [9, 9], activation='relu')(x)\n",
    "    x = tf.keras.layers.MaxPool2D()(x)\n",
    "    x = tf.keras.layers.Conv2D(64, [7, 7], activation='relu')(x)\n",
    "    x = tf.keras.layers.GlobalMaxPooling2D()(x)\n",
    "    #x = tf.keras.layers.Flatten()(x)\n",
    "    x = tf.keras.layers.Dense(64, activation='relu')(x)\n",
    "    x = tf.keras.layers.Dense(32, activation='relu')(x)\n",
    "    x = tf.keras.layers.Dense(10, activation='softmax')(x)\n",
    "\n",
    "    return tf.keras.models.Model(inputs=image, outputs=x)"
   ]
  },
  {
   "cell_type": "code",
   "execution_count": 8,
   "metadata": {
    "colab": {
     "base_uri": "https://localhost:8080/"
    },
    "executionInfo": {
     "elapsed": 90488,
     "status": "ok",
     "timestamp": 1608050885140,
     "user": {
      "displayName": "Parth Dedhia",
      "photoUrl": "",
      "userId": "15098257602324158403"
     },
     "user_tz": -330
    },
    "id": "AeK2ggXmkRQC",
    "outputId": "53603a5e-8399-47c5-baf4-63b615b4b438"
   },
   "outputs": [
    {
     "name": "stdout",
     "output_type": "stream",
     "text": [
      "Building Localization Network with input shape: (None, 28, 28, 1)\n",
      "Building Bilinear Interpolation Layer with input shape: [TensorShape([None, 28, 28, 1]), TensorShape([None, 2, 3])]\n"
     ]
    }
   ],
   "source": [
    "model = get_model((28, 28, 1))"
   ]
  },
  {
   "cell_type": "code",
   "execution_count": 9,
   "metadata": {
    "colab": {
     "base_uri": "https://localhost:8080/"
    },
    "executionInfo": {
     "elapsed": 90487,
     "status": "ok",
     "timestamp": 1608050885143,
     "user": {
      "displayName": "Parth Dedhia",
      "photoUrl": "",
      "userId": "15098257602324158403"
     },
     "user_tz": -330
    },
    "id": "xPjxmY6zmGBk",
    "outputId": "a7de3248-d0e2-4603-fc6e-dec303b78a68"
   },
   "outputs": [
    {
     "name": "stdout",
     "output_type": "stream",
     "text": [
      "Model: \"model\"\n",
      "__________________________________________________________________________________________________\n",
      "Layer (type)                    Output Shape         Param #     Connected to                     \n",
      "==================================================================================================\n",
      "input_1 (InputLayer)            [(None, 28, 28, 1)]  0                                            \n",
      "__________________________________________________________________________________________________\n",
      "localization (Localization)     (None, 2, 3)         17086       input_1[0][0]                    \n",
      "__________________________________________________________________________________________________\n",
      "bilinear_interpolation (Bilinea (None, 28, 28, 1)    0           input_1[0][0]                    \n",
      "                                                                 localization[0][0]               \n",
      "__________________________________________________________________________________________________\n",
      "conv2d_2 (Conv2D)               (None, 20, 20, 64)   5248        bilinear_interpolation[0][0]     \n",
      "__________________________________________________________________________________________________\n",
      "max_pooling2d_2 (MaxPooling2D)  (None, 10, 10, 64)   0           conv2d_2[0][0]                   \n",
      "__________________________________________________________________________________________________\n",
      "conv2d_3 (Conv2D)               (None, 4, 4, 64)     200768      max_pooling2d_2[0][0]            \n",
      "__________________________________________________________________________________________________\n",
      "global_max_pooling2d (GlobalMax (None, 64)           0           conv2d_3[0][0]                   \n",
      "__________________________________________________________________________________________________\n",
      "dense_2 (Dense)                 (None, 64)           4160        global_max_pooling2d[0][0]       \n",
      "__________________________________________________________________________________________________\n",
      "dense_3 (Dense)                 (None, 32)           2080        dense_2[0][0]                    \n",
      "__________________________________________________________________________________________________\n",
      "dense_4 (Dense)                 (None, 10)           330         dense_3[0][0]                    \n",
      "==================================================================================================\n",
      "Total params: 229,672\n",
      "Trainable params: 229,672\n",
      "Non-trainable params: 0\n",
      "__________________________________________________________________________________________________\n"
     ]
    }
   ],
   "source": [
    "model.summary()"
   ]
  },
  {
   "cell_type": "code",
   "execution_count": 10,
   "metadata": {
    "executionInfo": {
     "elapsed": 90484,
     "status": "ok",
     "timestamp": 1608050885145,
     "user": {
      "displayName": "Parth Dedhia",
      "photoUrl": "",
      "userId": "15098257602324158403"
     },
     "user_tz": -330
    },
    "id": "oSTK-Bemowwl"
   },
   "outputs": [],
   "source": [
    "model.compile(\n",
    "    optimizer='adam',\n",
    "    loss=tf.keras.losses.SparseCategoricalCrossentropy(from_logits=True),\n",
    "    metrics=['accuracy']\n",
    ")"
   ]
  },
  {
   "cell_type": "code",
   "execution_count": 11,
   "metadata": {
    "executionInfo": {
     "elapsed": 90482,
     "status": "ok",
     "timestamp": 1608050885146,
     "user": {
      "displayName": "Parth Dedhia",
      "photoUrl": "",
      "userId": "15098257602324158403"
     },
     "user_tz": -330
    },
    "id": "3EWsnlwYu4SM"
   },
   "outputs": [],
   "source": [
    "def schedular(epoch, lr):\n",
    "    if epoch % 20 == 0 and epoch > 0:\n",
    "        print(\"Learning Rate Updated\")\n",
    "        lr /= 10\n",
    "    return lr"
   ]
  },
  {
   "cell_type": "code",
   "execution_count": 12,
   "metadata": {
    "executionInfo": {
     "elapsed": 90890,
     "status": "ok",
     "timestamp": 1608050885557,
     "user": {
      "displayName": "Parth Dedhia",
      "photoUrl": "",
      "userId": "15098257602324158403"
     },
     "user_tz": -330
    },
    "id": "DPRiMpdtu7OR"
   },
   "outputs": [],
   "source": [
    "log_dir = \"logs/fit/\" + datetime.datetime.now().strftime(\"%Y%m%d-%H%M%S\")\n",
    "tensorboard_callback = tf.keras.callbacks.TensorBoard(log_dir=log_dir, histogram_freq=1)\n",
    "learning_rate_callback = tf.keras.callbacks.LearningRateScheduler(schedular)"
   ]
  },
  {
   "cell_type": "markdown",
   "metadata": {},
   "source": [
    "# Train the model for 3 epochs on NON-rotated data"
   ]
  },
  {
   "cell_type": "code",
   "execution_count": 13,
   "metadata": {
    "colab": {
     "base_uri": "https://localhost:8080/"
    },
    "executionInfo": {
     "elapsed": 1337418,
     "status": "ok",
     "timestamp": 1608052132088,
     "user": {
      "displayName": "Parth Dedhia",
      "photoUrl": "",
      "userId": "15098257602324158403"
     },
     "user_tz": -330
    },
    "id": "syvXizCWu_eV",
    "outputId": "379c553b-0271-45c1-dacc-ee0c71953f6f"
   },
   "outputs": [
    {
     "name": "stdout",
     "output_type": "stream",
     "text": [
      "Epoch 1/3\n",
      "1875/1875 [==============================] - 50s 26ms/step - loss: 0.3688 - accuracy: 0.88170s - loss: 0.3\n",
      "Epoch 2/3\n",
      "1875/1875 [==============================] - 49s 26ms/step - loss: 0.0477 - accuracy: 0.9854\n",
      "Epoch 3/3\n",
      "1875/1875 [==============================] - 45s 24ms/step - loss: 0.0348 - accuracy: 0.9887\n"
     ]
    }
   ],
   "source": [
    "history = model.fit(X_train, y_train, epochs=epochs, callbacks=[tensorboard_callback, learning_rate_callback])"
   ]
  },
  {
   "cell_type": "code",
   "execution_count": 14,
   "metadata": {
    "executionInfo": {
     "elapsed": 1337979,
     "status": "ok",
     "timestamp": 1608052132655,
     "user": {
      "displayName": "Parth Dedhia",
      "photoUrl": "",
      "userId": "15098257602324158403"
     },
     "user_tz": -330
    },
    "id": "8wjXyZFSvDzN"
   },
   "outputs": [],
   "source": [
    "model.save_weights('./model/weights', save_format='tf')"
   ]
  },
  {
   "cell_type": "markdown",
   "metadata": {},
   "source": [
    "# Test the model on NON-rotated data"
   ]
  },
  {
   "cell_type": "code",
   "execution_count": 15,
   "metadata": {},
   "outputs": [
    {
     "name": "stdout",
     "output_type": "stream",
     "text": [
      "313/313 [==============================] - 2s 5ms/step - loss: 0.0269 - accuracy: 0.9916\n"
     ]
    },
    {
     "data": {
      "text/plain": [
       "[0.026948772370815277, 0.991599977016449]"
      ]
     },
     "execution_count": 15,
     "metadata": {},
     "output_type": "execute_result"
    }
   ],
   "source": [
    "model.evaluate(x_test, y_test)"
   ]
  },
  {
   "cell_type": "markdown",
   "metadata": {},
   "source": [
    "# Test the model on rotated data"
   ]
  },
  {
   "cell_type": "code",
   "execution_count": 16,
   "metadata": {},
   "outputs": [],
   "source": [
    "x_test_r = [tfa.image.rotate(x, np.random.uniform(-np.pi/2., np.pi/2.)).numpy() for x in x_test]\n",
    "x_test_r = np.array(x_test_r)[...,None]"
   ]
  },
  {
   "cell_type": "code",
   "execution_count": 17,
   "metadata": {},
   "outputs": [
    {
     "name": "stdout",
     "output_type": "stream",
     "text": [
      "313/313 [==============================] - 2s 6ms/step - loss: 2.0332 - accuracy: 0.5897\n"
     ]
    },
    {
     "data": {
      "text/plain": [
       "[2.033159017562866, 0.5896999835968018]"
      ]
     },
     "execution_count": 17,
     "metadata": {},
     "output_type": "execute_result"
    }
   ],
   "source": [
    "model.evaluate(x_test_r, y_test, verbose=1)"
   ]
  },
  {
   "cell_type": "code",
   "execution_count": 18,
   "metadata": {
    "executionInfo": {
     "elapsed": 1337978,
     "status": "ok",
     "timestamp": 1608052132657,
     "user": {
      "displayName": "Parth Dedhia",
      "photoUrl": "",
      "userId": "15098257602324158403"
     },
     "user_tz": -330
    },
    "id": "YnN-qdPlv7yc"
   },
   "outputs": [],
   "source": [
    "stn = tf.keras.models.Model(inputs=model.inputs, outputs=[model.layers[1].output, model.layers[2].output])"
   ]
  },
  {
   "cell_type": "code",
   "execution_count": 19,
   "metadata": {
    "executionInfo": {
     "elapsed": 1339533,
     "status": "ok",
     "timestamp": 1608052134214,
     "user": {
      "displayName": "Parth Dedhia",
      "photoUrl": "",
      "userId": "15098257602324158403"
     },
     "user_tz": -330
    },
    "id": "_0lMBp2Ww7dY"
   },
   "outputs": [],
   "source": [
    "theta, prediction = stn.predict(x_test_r)"
   ]
  },
  {
   "cell_type": "code",
   "execution_count": 24,
   "metadata": {
    "colab": {
     "base_uri": "https://localhost:8080/",
     "height": 321
    },
    "executionInfo": {
     "elapsed": 1339537,
     "status": "ok",
     "timestamp": 1608052134223,
     "user": {
      "displayName": "Parth Dedhia",
      "photoUrl": "",
      "userId": "15098257602324158403"
     },
     "user_tz": -330
    },
    "id": "hu0RGlASxCNl",
    "outputId": "3d5df355-6def-4b4b-dbb2-672d072ca310"
   },
   "outputs": [
    {
     "data": {
      "text/plain": [
       "<matplotlib.image.AxesImage at 0x1ce94590670>"
      ]
     },
     "execution_count": 24,
     "metadata": {},
     "output_type": "execute_result"
    },
    {
     "data": {
      "image/png": "[encoded data removed]",
      "text/plain": [
       "<Figure size 432x288 with 2 Axes>"
      ]
     },
     "metadata": {
      "needs_background": "light"
     },
     "output_type": "display_data"
    }
   ],
   "source": [
    "index = 1215\n",
    "plt.subplot(1,2,1)\n",
    "plt.title(y_test[index])\n",
    "plt.imshow(x_test_r[index, :, :], cmap='gray')\n",
    "\n",
    "\n",
    "plt.subplot(1, 2, 2)\n",
    "plt.title(np.argmax(model.predict(np.expand_dims(x_test_r[index, :, :], axis=0))))\n",
    "plt.imshow(prediction[index, :, :, 0], cmap='gray')"
   ]
  }
 ],
 "metadata": {
  "accelerator": "GPU",
  "colab": {
   "authorship_tag": "ABX9TyOXjvWVzmffEUBkYlxlCwr9",
   "collapsed_sections": [],
   "mount_file_id": "116TvpzEPH99zC4L4uukpz1fK94uRSDQU",
   "name": "Spatial Transformer Network.ipynb",
   "provenance": []
  },
  "kernelspec": {
   "display_name": "Python 3",
   "language": "python",
   "name": "python3"
  },
  "language_info": {
   "codemirror_mode": {
    "name": "ipython",
    "version": 3
   },
   "file_extension": ".py",
   "mimetype": "text/x-python",
   "name": "python",
   "nbconvert_exporter": "python",
   "pygments_lexer": "ipython3",
   "version": "3.8.5"
  }
 },
 "nbformat": 4,
 "nbformat_minor": 4
}
