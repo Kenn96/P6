{
 "cells": [
  {
   "cell_type": "code",
   "execution_count": 1,
   "metadata": {},
   "outputs": [],
   "source": [
    "import tensorflow as tf\n",
    "import numpy as np\n",
    "import matplotlib.pyplot as plt\n",
    "\n",
    "from tensorflow.keras import datasets\n",
    "from groupy.gconv.tensorflow_gconv.splitgconv2d import gconv2d, gconv2d_util"
   ]
  },
  {
   "cell_type": "code",
   "execution_count": 63,
   "metadata": {},
   "outputs": [],
   "source": [
    "(X, Y), (X_t, Y_t) = datasets.mnist.load_data()\n",
    "\n",
    "# Normalize pixel values to be between 0 and 1\n",
    "X, X_t = X / 255.0, X_t / 255.0\n",
    "X = X.reshape(-1, 28, 28, 1)\n",
    "X_t = X_t.reshape(-1, 28, 28, 1)"
   ]
  },
  {
   "cell_type": "code",
   "execution_count": 164,
   "metadata": {},
   "outputs": [],
   "source": [
    "ksize = 3\n",
    "batch_normalization = True\n",
    "activation = 'relu'\n",
    "dropout = .3\n",
    "batch_size = 128\n",
    "k = None"
   ]
  },
  {
   "cell_type": "code",
   "execution_count": 268,
   "metadata": {},
   "outputs": [],
   "source": [
    "graph = tf.Graph()\n",
    "with graph.as_default():\n",
    "    '''Input Data'''\n",
    "    x = tf.placeholder(tf.float32, shape=(batch_size, 28, 28, 1))\n",
    "    x_labels = tf.placeholder(tf.float32, shape=(batch_size))\n",
    "    #tf_valid_dataset = tf.constant(valid_dataset)\n",
    "    tf_test_dataset = tf.constant(X_t, shape=X_t.shape)\n",
    "    tf_test_labels = tf.constant(Y_t, shape=Y_t.shape)\n",
    "    \n",
    "    '''Training Computation'''\n",
    "    # L1: GCONV[None,28,28,1] ==> [NONE,28,28,10] \n",
    "    gconv_indices, gconv_shape_info, w_shape = \\\n",
    "    gconv2d_util(h_input='Z2', h_output='C4', in_channels=1, out_channels=10, ksize=ksize)\n",
    "    w = tf.Variable(tf.truncated_normal(w_shape, stddev=1.))\n",
    "    y = gconv2d(input=x, filter=w, strides=[1, 1, 1, 1], padding='SAME',\n",
    "                gconv_indices=gconv_indices, gconv_shape_info=gconv_shape_info)\n",
    "    # BN\n",
    "    if batch_normalization:\n",
    "        y = tf.keras.layers.BatchNormalization(axis=-1)(y)\n",
    "    # Activation\n",
    "    if activation:\n",
    "        y = tf.nn.relu(y)\n",
    "        \n",
    "    # L2: GCONV[None,28,28,10] ==> [NONE,28,28,10] \n",
    "    gconv_indices, gconv_shape_info, w_shape = gconv2d_util(\n",
    "        h_input='C4', h_output='C4', in_channels=10, out_channels=10, ksize=3)\n",
    "    w = tf.Variable(tf.truncated_normal(w_shape, stddev=1.))\n",
    "    y = gconv2d(input=y, filter=w, strides=[1, 1, 1, 1], padding='SAME',\n",
    "                gconv_indices=gconv_indices, gconv_shape_info=gconv_shape_info)\n",
    "    # BN\n",
    "    if batch_normalization:\n",
    "        y = tf.keras.layers.BatchNormalization(axis=-1)(y)\n",
    "    # Activation\n",
    "    if activation:\n",
    "        y = tf.nn.relu(y)\n",
    "        \n",
    "    ### Here should be some kind of max pool?\n",
    "    \n",
    "    #y = tf.reshape(y, (ys[0], ys[1] * ys[2], ys[3]))\n",
    "    #y = tf.keras.layers.MaxPool2D(pool_size=(2,2), strides=2, padding='VALID')(y)\n",
    "    #y = tf.reshape(y, (-1))\n",
    "    \n",
    "    # L3: Same as L2\n",
    "    gconv_indices, gconv_shape_info, w_shape = gconv2d_util(\n",
    "        h_input='C4', h_output='C4', in_channels=10, out_channels=10, ksize=3)\n",
    "    w = tf.Variable(tf.truncated_normal(w_shape, stddev=1.))\n",
    "    y = gconv2d(input=y, filter=w, strides=[1, 1, 1, 1], padding='SAME',\n",
    "                gconv_indices=gconv_indices, gconv_shape_info=gconv_shape_info)\n",
    "    # BN\n",
    "    if batch_normalization:\n",
    "        y = tf.keras.layers.BatchNormalization(axis=-1)(y)\n",
    "    # Activation\n",
    "    if activation:\n",
    "        y = tf.nn.relu(y)\n",
    "    \n",
    "    # L4: Same as L2\n",
    "    gconv_indices, gconv_shape_info, w_shape = gconv2d_util(\n",
    "        h_input='C4', h_output='C4', in_channels=10, out_channels=10, ksize=3)\n",
    "    w = tf.Variable(tf.truncated_normal(w_shape, stddev=1.))\n",
    "    y = gconv2d(input=y, filter=w, strides=[1, 1, 1, 1], padding='SAME',\n",
    "                gconv_indices=gconv_indices, gconv_shape_info=gconv_shape_info)\n",
    "    # BN\n",
    "    if batch_normalization:\n",
    "        y = tf.keras.layers.BatchNormalization(axis=-1)(y)\n",
    "    # Activation\n",
    "    if activation:\n",
    "        y = tf.nn.relu(y)\n",
    "    \n",
    "    # L5: Same as L2\n",
    "    gconv_indices, gconv_shape_info, w_shape = gconv2d_util(\n",
    "        h_input='C4', h_output='C4', in_channels=10, out_channels=10, ksize=3)\n",
    "    w = tf.Variable(tf.truncated_normal(w_shape, stddev=1.))\n",
    "    y = gconv2d(input=y, filter=w, strides=[1, 1, 1, 1], padding='SAME',\n",
    "                gconv_indices=gconv_indices, gconv_shape_info=gconv_shape_info)\n",
    "    # BN\n",
    "    if batch_normalization:\n",
    "        y = tf.keras.layers.BatchNormalization(axis=-1)(y)\n",
    "    # Activation\n",
    "    if activation:\n",
    "        y = tf.nn.relu(y)\n",
    "    \n",
    "    # L6: Same as L2\n",
    "    gconv_indices, gconv_shape_info, w_shape = gconv2d_util(\n",
    "        h_input='C4', h_output='C4', in_channels=10, out_channels=10, ksize=3)\n",
    "    w = tf.Variable(tf.truncated_normal(w_shape, stddev=1.))\n",
    "    y = gconv2d(input=y, filter=w, strides=[1, 1, 1, 1], padding='SAME',\n",
    "                gconv_indices=gconv_indices, gconv_shape_info=gconv_shape_info)\n",
    "    # BN\n",
    "    if batch_normalization:\n",
    "        y = tf.keras.layers.BatchNormalization(axis=-1)(y)\n",
    "    # Activation\n",
    "    if activation:\n",
    "        y = tf.nn.relu(y)\n",
    "\n",
    "        \n",
    "    # Top Layer: Same as L2 except for norm, and activation\n",
    "    gconv_indices, gconv_shape_info, w_shape = gconv2d_util(\n",
    "        h_input='C4', h_output='C4', in_channels=10, out_channels=10, ksize=3)\n",
    "    w = tf.Variable(tf.truncated_normal(w_shape, stddev=1.))\n",
    "    y = gconv2d(input=y, filter=w, strides=[1, 1, 1, 1], padding='SAME',\n",
    "                gconv_indices=gconv_indices, gconv_shape_info=gconv_shape_info)\n",
    "    \n",
    "    # Max Poolings \n",
    "    y = tf.math.reduce_max(y, axis=-3, keepdims=False)\n",
    "    y = tf.math.reduce_max(y, axis=-1, keepdims=False)\n",
    "    y = tf.math.reduce_max(y, axis=-1, keepdims=False)\n",
    "    # Loss \n",
    "    loss = tf.reduce_mean(tf.nn.softmax_cross_entropy_with_logits_v2(logits=y, labels=x_labels))\n",
    "    '''Optimizer'''\n",
    "    global_step = tf.Variable(0)  # count the number of steps taken.\n",
    "    start_learning_rate = 0.5\n",
    "   # learning_rate = tf.train.exponential_decay(start_learning_rate, global_step, 100000, 0.96, staircase=True)\n",
    "    optimizer = tf.train.AdamOptimizer().minimize(loss, global_step=global_step)\n",
    "    \n",
    "    "
   ]
  },
  {
   "cell_type": "code",
   "execution_count": 236,
   "metadata": {},
   "outputs": [],
   "source": [
    "from tqdm import tqdm"
   ]
  },
  {
   "cell_type": "code",
   "execution_count": 280,
   "metadata": {},
   "outputs": [
    {
     "name": "stderr",
     "output_type": "stream",
     "text": [
      "  0%|          | 0/3 [00:00<?, ?it/s]"
     ]
    },
    {
     "name": "stdout",
     "output_type": "stream",
     "text": [
      "Initialized\n"
     ]
    },
    {
     "name": "stderr",
     "output_type": "stream",
     "text": [
      "Loss 43377010000000.0:   0%|          | 0/3 [01:47<?, ?it/s]\n"
     ]
    },
    {
     "ename": "KeyboardInterrupt",
     "evalue": "",
     "output_type": "error",
     "traceback": [
      "\u001b[0;31m---------------------------------------------------------------------------\u001b[0m",
      "\u001b[0;31mKeyboardInterrupt\u001b[0m                         Traceback (most recent call last)",
      "\u001b[0;32m<ipython-input-280-6ba3e29b52fc>\u001b[0m in \u001b[0;36m<module>\u001b[0;34m()\u001b[0m\n\u001b[1;32m      9\u001b[0m         \u001b[0;32mfor\u001b[0m \u001b[0minputs\u001b[0m\u001b[0;34m,\u001b[0m \u001b[0mlabels\u001b[0m \u001b[0;32min\u001b[0m \u001b[0mget_minibatch\u001b[0m\u001b[0;34m(\u001b[0m\u001b[0mX\u001b[0m\u001b[0;34m,\u001b[0m \u001b[0mY\u001b[0m\u001b[0;34m,\u001b[0m \u001b[0mbatch_size\u001b[0m\u001b[0;34m=\u001b[0m\u001b[0mbatch_size\u001b[0m\u001b[0;34m,\u001b[0m \u001b[0mshuffle\u001b[0m\u001b[0;34m=\u001b[0m\u001b[0mTrue\u001b[0m\u001b[0;34m,\u001b[0m \u001b[0mdrop_last\u001b[0m\u001b[0;34m=\u001b[0m\u001b[0mTrue\u001b[0m\u001b[0;34m)\u001b[0m\u001b[0;34m:\u001b[0m\u001b[0;34m\u001b[0m\u001b[0m\n\u001b[1;32m     10\u001b[0m             \u001b[0mfeed_dict\u001b[0m \u001b[0;34m=\u001b[0m \u001b[0;34m{\u001b[0m\u001b[0mx\u001b[0m\u001b[0;34m:\u001b[0m \u001b[0minputs\u001b[0m\u001b[0;34m,\u001b[0m \u001b[0mx_labels\u001b[0m\u001b[0;34m:\u001b[0m \u001b[0mlabels\u001b[0m\u001b[0;34m}\u001b[0m\u001b[0;34m\u001b[0m\u001b[0m\n\u001b[0;32m---> 11\u001b[0;31m             \u001b[0m_\u001b[0m\u001b[0;34m,\u001b[0m \u001b[0ml\u001b[0m \u001b[0;34m=\u001b[0m \u001b[0msession\u001b[0m\u001b[0;34m.\u001b[0m\u001b[0mrun\u001b[0m\u001b[0;34m(\u001b[0m\u001b[0;34m[\u001b[0m\u001b[0moptimizer\u001b[0m\u001b[0;34m,\u001b[0m \u001b[0mloss\u001b[0m\u001b[0;34m]\u001b[0m\u001b[0;34m,\u001b[0m \u001b[0mfeed_dict\u001b[0m\u001b[0;34m=\u001b[0m\u001b[0mfeed_dict\u001b[0m\u001b[0;34m)\u001b[0m\u001b[0;34m\u001b[0m\u001b[0m\n\u001b[0m\u001b[1;32m     12\u001b[0m \u001b[0;34m\u001b[0m\u001b[0m\n\u001b[1;32m     13\u001b[0m             \u001b[0ml_hist\u001b[0m\u001b[0;34m.\u001b[0m\u001b[0mappend\u001b[0m\u001b[0;34m(\u001b[0m\u001b[0ml\u001b[0m\u001b[0;34m)\u001b[0m\u001b[0;34m\u001b[0m\u001b[0m\n",
      "\u001b[0;32m/Users/muzzammilsamim/Documents/code/schl/tf1.13/lib/python2.7/site-packages/tensorflow/python/client/session.pyc\u001b[0m in \u001b[0;36mrun\u001b[0;34m(self, fetches, feed_dict, options, run_metadata)\u001b[0m\n\u001b[1;32m    927\u001b[0m     \u001b[0;32mtry\u001b[0m\u001b[0;34m:\u001b[0m\u001b[0;34m\u001b[0m\u001b[0m\n\u001b[1;32m    928\u001b[0m       result = self._run(None, fetches, feed_dict, options_ptr,\n\u001b[0;32m--> 929\u001b[0;31m                          run_metadata_ptr)\n\u001b[0m\u001b[1;32m    930\u001b[0m       \u001b[0;32mif\u001b[0m \u001b[0mrun_metadata\u001b[0m\u001b[0;34m:\u001b[0m\u001b[0;34m\u001b[0m\u001b[0m\n\u001b[1;32m    931\u001b[0m         \u001b[0mproto_data\u001b[0m \u001b[0;34m=\u001b[0m \u001b[0mtf_session\u001b[0m\u001b[0;34m.\u001b[0m\u001b[0mTF_GetBuffer\u001b[0m\u001b[0;34m(\u001b[0m\u001b[0mrun_metadata_ptr\u001b[0m\u001b[0;34m)\u001b[0m\u001b[0;34m\u001b[0m\u001b[0m\n",
      "\u001b[0;32m/Users/muzzammilsamim/Documents/code/schl/tf1.13/lib/python2.7/site-packages/tensorflow/python/client/session.pyc\u001b[0m in \u001b[0;36m_run\u001b[0;34m(self, handle, fetches, feed_dict, options, run_metadata)\u001b[0m\n\u001b[1;32m   1150\u001b[0m     \u001b[0;32mif\u001b[0m \u001b[0mfinal_fetches\u001b[0m \u001b[0;32mor\u001b[0m \u001b[0mfinal_targets\u001b[0m \u001b[0;32mor\u001b[0m \u001b[0;34m(\u001b[0m\u001b[0mhandle\u001b[0m \u001b[0;32mand\u001b[0m \u001b[0mfeed_dict_tensor\u001b[0m\u001b[0;34m)\u001b[0m\u001b[0;34m:\u001b[0m\u001b[0;34m\u001b[0m\u001b[0m\n\u001b[1;32m   1151\u001b[0m       results = self._do_run(handle, final_targets, final_fetches,\n\u001b[0;32m-> 1152\u001b[0;31m                              feed_dict_tensor, options, run_metadata)\n\u001b[0m\u001b[1;32m   1153\u001b[0m     \u001b[0;32melse\u001b[0m\u001b[0;34m:\u001b[0m\u001b[0;34m\u001b[0m\u001b[0m\n\u001b[1;32m   1154\u001b[0m       \u001b[0mresults\u001b[0m \u001b[0;34m=\u001b[0m \u001b[0;34m[\u001b[0m\u001b[0;34m]\u001b[0m\u001b[0;34m\u001b[0m\u001b[0m\n",
      "\u001b[0;32m/Users/muzzammilsamim/Documents/code/schl/tf1.13/lib/python2.7/site-packages/tensorflow/python/client/session.pyc\u001b[0m in \u001b[0;36m_do_run\u001b[0;34m(self, handle, target_list, fetch_list, feed_dict, options, run_metadata)\u001b[0m\n\u001b[1;32m   1326\u001b[0m     \u001b[0;32mif\u001b[0m \u001b[0mhandle\u001b[0m \u001b[0;32mis\u001b[0m \u001b[0mNone\u001b[0m\u001b[0;34m:\u001b[0m\u001b[0;34m\u001b[0m\u001b[0m\n\u001b[1;32m   1327\u001b[0m       return self._do_call(_run_fn, feeds, fetches, targets, options,\n\u001b[0;32m-> 1328\u001b[0;31m                            run_metadata)\n\u001b[0m\u001b[1;32m   1329\u001b[0m     \u001b[0;32melse\u001b[0m\u001b[0;34m:\u001b[0m\u001b[0;34m\u001b[0m\u001b[0m\n\u001b[1;32m   1330\u001b[0m       \u001b[0;32mreturn\u001b[0m \u001b[0mself\u001b[0m\u001b[0;34m.\u001b[0m\u001b[0m_do_call\u001b[0m\u001b[0;34m(\u001b[0m\u001b[0m_prun_fn\u001b[0m\u001b[0;34m,\u001b[0m \u001b[0mhandle\u001b[0m\u001b[0;34m,\u001b[0m \u001b[0mfeeds\u001b[0m\u001b[0;34m,\u001b[0m \u001b[0mfetches\u001b[0m\u001b[0;34m)\u001b[0m\u001b[0;34m\u001b[0m\u001b[0m\n",
      "\u001b[0;32m/Users/muzzammilsamim/Documents/code/schl/tf1.13/lib/python2.7/site-packages/tensorflow/python/client/session.pyc\u001b[0m in \u001b[0;36m_do_call\u001b[0;34m(self, fn, *args)\u001b[0m\n\u001b[1;32m   1332\u001b[0m   \u001b[0;32mdef\u001b[0m \u001b[0m_do_call\u001b[0m\u001b[0;34m(\u001b[0m\u001b[0mself\u001b[0m\u001b[0;34m,\u001b[0m \u001b[0mfn\u001b[0m\u001b[0;34m,\u001b[0m \u001b[0;34m*\u001b[0m\u001b[0margs\u001b[0m\u001b[0;34m)\u001b[0m\u001b[0;34m:\u001b[0m\u001b[0;34m\u001b[0m\u001b[0m\n\u001b[1;32m   1333\u001b[0m     \u001b[0;32mtry\u001b[0m\u001b[0;34m:\u001b[0m\u001b[0;34m\u001b[0m\u001b[0m\n\u001b[0;32m-> 1334\u001b[0;31m       \u001b[0;32mreturn\u001b[0m \u001b[0mfn\u001b[0m\u001b[0;34m(\u001b[0m\u001b[0;34m*\u001b[0m\u001b[0margs\u001b[0m\u001b[0;34m)\u001b[0m\u001b[0;34m\u001b[0m\u001b[0m\n\u001b[0m\u001b[1;32m   1335\u001b[0m     \u001b[0;32mexcept\u001b[0m \u001b[0merrors\u001b[0m\u001b[0;34m.\u001b[0m\u001b[0mOpError\u001b[0m \u001b[0;32mas\u001b[0m \u001b[0me\u001b[0m\u001b[0;34m:\u001b[0m\u001b[0;34m\u001b[0m\u001b[0m\n\u001b[1;32m   1336\u001b[0m       \u001b[0mmessage\u001b[0m \u001b[0;34m=\u001b[0m \u001b[0mcompat\u001b[0m\u001b[0;34m.\u001b[0m\u001b[0mas_text\u001b[0m\u001b[0;34m(\u001b[0m\u001b[0me\u001b[0m\u001b[0;34m.\u001b[0m\u001b[0mmessage\u001b[0m\u001b[0;34m)\u001b[0m\u001b[0;34m\u001b[0m\u001b[0m\n",
      "\u001b[0;32m/Users/muzzammilsamim/Documents/code/schl/tf1.13/lib/python2.7/site-packages/tensorflow/python/client/session.pyc\u001b[0m in \u001b[0;36m_run_fn\u001b[0;34m(feed_dict, fetch_list, target_list, options, run_metadata)\u001b[0m\n\u001b[1;32m   1317\u001b[0m       \u001b[0mself\u001b[0m\u001b[0;34m.\u001b[0m\u001b[0m_extend_graph\u001b[0m\u001b[0;34m(\u001b[0m\u001b[0;34m)\u001b[0m\u001b[0;34m\u001b[0m\u001b[0m\n\u001b[1;32m   1318\u001b[0m       return self._call_tf_sessionrun(\n\u001b[0;32m-> 1319\u001b[0;31m           options, feed_dict, fetch_list, target_list, run_metadata)\n\u001b[0m\u001b[1;32m   1320\u001b[0m \u001b[0;34m\u001b[0m\u001b[0m\n\u001b[1;32m   1321\u001b[0m     \u001b[0;32mdef\u001b[0m \u001b[0m_prun_fn\u001b[0m\u001b[0;34m(\u001b[0m\u001b[0mhandle\u001b[0m\u001b[0;34m,\u001b[0m \u001b[0mfeed_dict\u001b[0m\u001b[0;34m,\u001b[0m \u001b[0mfetch_list\u001b[0m\u001b[0;34m)\u001b[0m\u001b[0;34m:\u001b[0m\u001b[0;34m\u001b[0m\u001b[0m\n",
      "\u001b[0;32m/Users/muzzammilsamim/Documents/code/schl/tf1.13/lib/python2.7/site-packages/tensorflow/python/client/session.pyc\u001b[0m in \u001b[0;36m_call_tf_sessionrun\u001b[0;34m(self, options, feed_dict, fetch_list, target_list, run_metadata)\u001b[0m\n\u001b[1;32m   1405\u001b[0m     return tf_session.TF_SessionRun_wrapper(\n\u001b[1;32m   1406\u001b[0m         \u001b[0mself\u001b[0m\u001b[0;34m.\u001b[0m\u001b[0m_session\u001b[0m\u001b[0;34m,\u001b[0m \u001b[0moptions\u001b[0m\u001b[0;34m,\u001b[0m \u001b[0mfeed_dict\u001b[0m\u001b[0;34m,\u001b[0m \u001b[0mfetch_list\u001b[0m\u001b[0;34m,\u001b[0m \u001b[0mtarget_list\u001b[0m\u001b[0;34m,\u001b[0m\u001b[0;34m\u001b[0m\u001b[0m\n\u001b[0;32m-> 1407\u001b[0;31m         run_metadata)\n\u001b[0m\u001b[1;32m   1408\u001b[0m \u001b[0;34m\u001b[0m\u001b[0m\n\u001b[1;32m   1409\u001b[0m   \u001b[0;32mdef\u001b[0m \u001b[0m_call_tf_sessionprun\u001b[0m\u001b[0;34m(\u001b[0m\u001b[0mself\u001b[0m\u001b[0;34m,\u001b[0m \u001b[0mhandle\u001b[0m\u001b[0;34m,\u001b[0m \u001b[0mfeed_dict\u001b[0m\u001b[0;34m,\u001b[0m \u001b[0mfetch_list\u001b[0m\u001b[0;34m)\u001b[0m\u001b[0;34m:\u001b[0m\u001b[0;34m\u001b[0m\u001b[0m\n",
      "\u001b[0;31mKeyboardInterrupt\u001b[0m: "
     ]
    }
   ],
   "source": [
    "NUM_EPOCHS = 3\n",
    "pbar = tqdm(range(NUM_EPOCHS))\n",
    "\n",
    "with tf.Session(graph=graph) as session:\n",
    "    tf.initialize_all_variables().run()\n",
    "    print(\"Initialized\")\n",
    "    for epoch in pbar:\n",
    "        l_hist = []\n",
    "        for inputs, labels in get_minibatch(X, Y, batch_size=batch_size, shuffle=True, drop_last=True):\n",
    "            feed_dict = {x: inputs, x_labels: labels}\n",
    "            _, l = session.run([optimizer, loss], feed_dict=feed_dict)\n",
    "            \n",
    "            l_hist.append(l)\n",
    "            \n",
    "            \n",
    "            l_hist_m = np.mean(l_hist[-50:])\n",
    "            \n",
    "            pbar.set_description('Loss ' + str(l_hist_m))\n",
    "    \n",
    "    "
   ]
  },
  {
   "cell_type": "code",
   "execution_count": 235,
   "metadata": {},
   "outputs": [],
   "source": [
    "def get_minibatch(x, labels, batch_size=64, shuffle=True, drop_last=True):\n",
    "    idx = np.arange(len(x))\n",
    "    if shuffle:\n",
    "        np.random.shuffle(idx)\n",
    "    if drop_last:\n",
    "        n_batches = len(idx) // batch_size\n",
    "    else:\n",
    "        n_batches = int(np.ceil(len(idx) / batch_size))\n",
    "    for b in range(n_batches):\n",
    "        left_idx  = b*batch_size\n",
    "        right_idx = min((b+1)*batch_size, len(idx))\n",
    "        batch_idx = idx[left_idx:right_idx]\n",
    "        yield x[batch_idx], labels[batch_idx]"
   ]
  },
  {
   "cell_type": "code",
   "execution_count": 2,
   "metadata": {},
   "outputs": [
    {
     "name": "stdout",
     "output_type": "stream",
     "text": [
      "WARNING:tensorflow:From /Users/muzzammilsamim/Documents/code/schl/tf1.13/lib/python2.7/site-packages/tensorflow/python/framework/op_def_library.py:263: colocate_with (from tensorflow.python.framework.ops) is deprecated and will be removed in a future version.\n",
      "Instructions for updating:\n",
      "Colocations handled automatically by placer.\n"
     ]
    }
   ],
   "source": [
    "# Construct graph\n",
    "x = tf.placeholder(tf.float32, [None, 9, 9, 3])\n",
    "\n",
    "gconv_indices, gconv_shape_info, w_shape = gconv2d_util(\n",
    "    h_input='Z2', h_output='C4', in_channels=3, out_channels=64, ksize=3)\n",
    "w = tf.Variable(tf.truncated_normal(w_shape, stddev=1.))\n",
    "y = gconv2d(input=x, filter=w, strides=[1, 1, 1, 1], padding='SAME',\n",
    "            gconv_indices=gconv_indices, gconv_shape_info=gconv_shape_info)"
   ]
  },
  {
   "cell_type": "code",
   "execution_count": 3,
   "metadata": {},
   "outputs": [
    {
     "data": {
      "text/plain": [
       "TensorShape([Dimension(None), Dimension(9), Dimension(9), Dimension(256)])"
      ]
     },
     "execution_count": 3,
     "metadata": {},
     "output_type": "execute_result"
    }
   ],
   "source": [
    "y.shape"
   ]
  },
  {
   "cell_type": "code",
   "execution_count": 5,
   "metadata": {},
   "outputs": [],
   "source": [
    "gconv_indices, gconv_shape_info, w_shape = gconv2d_util(\n",
    "    h_input='C4', h_output='C4', in_channels=64, out_channels=64, ksize=3)\n",
    "w = tf.Variable(tf.truncated_normal(w_shape, stddev=1.))\n",
    "y = gconv2d(input=y, filter=w, strides=[1, 1, 1, 1], padding='SAME',\n",
    "            gconv_indices=gconv_indices, gconv_shape_info=gconv_shape_info)"
   ]
  },
  {
   "cell_type": "code",
   "execution_count": 6,
   "metadata": {},
   "outputs": [
    {
     "data": {
      "text/plain": [
       "TensorShape([Dimension(None), Dimension(9), Dimension(9), Dimension(256)])"
      ]
     },
     "execution_count": 6,
     "metadata": {},
     "output_type": "execute_result"
    }
   ],
   "source": [
    "y.shape"
   ]
  },
  {
   "cell_type": "code",
   "execution_count": null,
   "metadata": {},
   "outputs": [],
   "source": []
  }
 ],
 "metadata": {
  "kernelspec": {
   "display_name": "tf1.13",
   "language": "python",
   "name": "tf1.13"
  },
  "language_info": {
   "codemirror_mode": {
    "name": "ipython",
    "version": 2
   },
   "file_extension": ".py",
   "mimetype": "text/x-python",
   "name": "python",
   "nbconvert_exporter": "python",
   "pygments_lexer": "ipython2",
   "version": "2.7.16"
  }
 },
 "nbformat": 4,
 "nbformat_minor": 4
}
