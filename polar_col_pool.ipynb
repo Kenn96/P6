{
 "cells": [
  {
   "cell_type": "code",
   "execution_count": 1,
   "metadata": {},
   "outputs": [],
   "source": [
    "from tensorflow.keras import datasets, layers, models\n",
    "\n",
    "import cv2 as cv\n",
    "import numpy as np\n",
    "import tensorflow as tf\n",
    "import tensorflow_addons as tfa\n",
    "import matplotlib.pyplot as plt\n",
    "import matplotlib as mlp\n",
    "import time"
   ]
  },
  {
   "cell_type": "code",
   "execution_count": 4,
   "metadata": {},
   "outputs": [],
   "source": [
    "def padImage(image, pixels=5):\n",
    "    bottom = image[-pixels:]\n",
    "    top = image[:pixels]\n",
    "\n",
    "    img = np.insert(image, 0, bottom, 0)\n",
    "    img = np.insert(img, len(img), top, 0)\n",
    "    img = np.insert(img, [0], [0] * pixels, 1)\n",
    "    img = np.insert(img, [-1], [0] * pixels, 1)\n",
    "    return img"
   ]
  },
  {
   "cell_type": "code",
   "execution_count": 5,
   "metadata": {},
   "outputs": [],
   "source": [
    "(train_images, train_labels), (test_images, test_labels) = datasets.mnist.load_data()\n",
    "# Normalize pixel values to be between 0 and 1\n",
    "train_images, test_images = (train_images / 255.0).astype(np.float32), test_images.astype(np.float32) / 255.0\n",
    "test = np.loadtxt('mnist_rotation_new/mnist_all_rotation_normalized_float_test.amat')"
   ]
  },
  {
   "cell_type": "code",
   "execution_count": 6,
   "metadata": {},
   "outputs": [],
   "source": [
    "### THE PAD HAS TO BE DONE IN THE\n",
    "### POLAR SPACE\n",
    "\n",
    "# 20 is the ceiling of (14 * sqrt(2))\n",
    "X_train_polar = [cv.linearPolar(x, tuple(np.array(x.shape)/2), 20, cv.WARP_FILL_OUTLIERS) for x in train_images]\n",
    "X_train_polar = [padImage(x, pixels=5) for x in X_train_polar]\n",
    "X_train_polar = np.array(X_train_polar)[...,None]\n",
    "\n",
    "X_test_polar = [cv.linearPolar(x, tuple(np.array(x.shape)/2), 20, cv.WARP_FILL_OUTLIERS) for x in test_images]\n",
    "X_test_polar = [padImage(x, pixels=5) for x in X_test_polar]\n",
    "X_test_polar = np.array(X_test_polar)[...,None]\n",
    "\n",
    "# Rotate test set\n",
    "X_test_r_polar = [tfa.image.rotate(x, np.random.uniform(-np.pi/2., np.pi/2.)).numpy() for x in test_images]\n",
    "X_test_r_polar = [cv.linearPolar(x, tuple(np.array(x.shape)/2), 20, cv.WARP_FILL_OUTLIERS) for x in X_test_r_polar]\n",
    "X_test_r_polar = [padImage(x, pixels=5) for x in X_test_r_polar]\n",
    "X_test_r_polar = np.array(X_test_r_polar)[...,None]"
   ]
  },
  {
   "cell_type": "code",
   "execution_count": 181,
   "metadata": {},
   "outputs": [],
   "source": [
    "#Trying Pool1D on the columns as polar is invariant horizontally, but varies on the y-axis wrt. rotations\n",
    "# Columns is axis=2, because --> batch_size,row,col,filters\n",
    "inputs = tf.keras.Input(shape=(38, 38, 1))\n",
    "x = layers.Conv2D(32, (3, 3), activation='relu')(inputs)\n",
    "x = layers.MaxPooling2D()(x)\n",
    "x = layers.LayerNormalization(axis=-1, epsilon=0.001, center=True, scale=True)(x)\n",
    "x = layers.Dropout(rate=0.5)(x)\n",
    "x = layers.Conv2D(64, (3, 3), activation='relu')(x)\n",
    "x = layers.MaxPooling2D()(x)\n",
    "x = layers.LayerNormalization(axis=-1, epsilon=0.001, center=True, scale=True)(x)\n",
    "x = layers.Dropout(rate=0.5)(x)\n",
    "x = layers.Conv2D(128, (3, 3), activation='relu')(x)\n",
    "#x = layers.GlobalMaxPool2D()(x) \n",
    "\n",
    "# global max pool on the col\n",
    "x = tf.math.reduce_max(x, axis=2, keepdims=True)\n",
    "x = layers.Flatten()(x)\n",
    "\n",
    "x = layers.Dense(64, activation='linear')(x)\n",
    "x = layers.Activation('relu')(x)\n",
    "\n",
    "x = layers.Dense(10, activation='softmax')(x)\n",
    "\n",
    "model_x = models.Model(inputs=inputs, outputs=x)"
   ]
  },
  {
   "cell_type": "code",
   "execution_count": 182,
   "metadata": {},
   "outputs": [
    {
     "name": "stdout",
     "output_type": "stream",
     "text": [
      "Model: \"model_37\"\n",
      "_________________________________________________________________\n",
      "Layer (type)                 Output Shape              Param #   \n",
      "=================================================================\n",
      "input_50 (InputLayer)        [(None, 38, 38, 1)]       0         \n",
      "_________________________________________________________________\n",
      "conv2d_96 (Conv2D)           (None, 36, 36, 32)        320       \n",
      "_________________________________________________________________\n",
      "max_pooling2d_60 (MaxPooling (None, 18, 18, 32)        0         \n",
      "_________________________________________________________________\n",
      "layer_normalization_54 (Laye (None, 18, 18, 32)        64        \n",
      "_________________________________________________________________\n",
      "dropout_54 (Dropout)         (None, 18, 18, 32)        0         \n",
      "_________________________________________________________________\n",
      "conv2d_97 (Conv2D)           (None, 16, 16, 64)        18496     \n",
      "_________________________________________________________________\n",
      "max_pooling2d_61 (MaxPooling (None, 8, 8, 64)          0         \n",
      "_________________________________________________________________\n",
      "layer_normalization_55 (Laye (None, 8, 8, 64)          128       \n",
      "_________________________________________________________________\n",
      "dropout_55 (Dropout)         (None, 8, 8, 64)          0         \n",
      "_________________________________________________________________\n",
      "conv2d_98 (Conv2D)           (None, 6, 6, 128)         73856     \n",
      "_________________________________________________________________\n",
      "tf.math.reduce_max_8 (TFOpLa (None, 6, 1, 128)         0         \n",
      "_________________________________________________________________\n",
      "flatten_4 (Flatten)          (None, 768)               0         \n",
      "_________________________________________________________________\n",
      "dense_53 (Dense)             (None, 64)                49216     \n",
      "_________________________________________________________________\n",
      "activation_26 (Activation)   (None, 64)                0         \n",
      "_________________________________________________________________\n",
      "dense_54 (Dense)             (None, 10)                650       \n",
      "=================================================================\n",
      "Total params: 142,730\n",
      "Trainable params: 142,730\n",
      "Non-trainable params: 0\n",
      "_________________________________________________________________\n"
     ]
    }
   ],
   "source": [
    "model_x.summary()"
   ]
  },
  {
   "cell_type": "code",
   "execution_count": 183,
   "metadata": {},
   "outputs": [
    {
     "name": "stdout",
     "output_type": "stream",
     "text": [
      "Epoch 1/10\n",
      "8/8 [==============================] - 3s 394ms/step - loss: 3.1024 - accuracy: 0.1107 - val_loss: 2.3112 - val_accuracy: 0.1528\n",
      "\n",
      "Epoch 00001: val_loss improved from inf to 2.31123, saving model to m_pol_mnist_layerAdjust.h5\n",
      "Epoch 2/10\n",
      "8/8 [==============================] - 3s 372ms/step - loss: 2.1541 - accuracy: 0.2465 - val_loss: 2.2977 - val_accuracy: 0.2001\n",
      "\n",
      "Epoch 00002: val_loss improved from 2.31123 to 2.29773, saving model to m_pol_mnist_layerAdjust.h5\n",
      "Epoch 3/10\n",
      "8/8 [==============================] - 3s 368ms/step - loss: 1.9225 - accuracy: 0.3692 - val_loss: 2.3088 - val_accuracy: 0.2602\n",
      "\n",
      "Epoch 00003: val_loss did not improve from 2.29773\n",
      "Epoch 4/10\n",
      "8/8 [==============================] - 3s 371ms/step - loss: 1.6006 - accuracy: 0.5016 - val_loss: 2.3507 - val_accuracy: 0.3050\n",
      "\n",
      "Epoch 00004: val_loss did not improve from 2.29773\n",
      "Epoch 5/10\n",
      "8/8 [==============================] - 3s 394ms/step - loss: 1.1882 - accuracy: 0.6492 - val_loss: 2.3547 - val_accuracy: 0.3262\n",
      "\n",
      "Epoch 00005: val_loss did not improve from 2.29773\n",
      "Epoch 6/10\n",
      "8/8 [==============================] - 3s 387ms/step - loss: 0.9656 - accuracy: 0.6988 - val_loss: 2.6813 - val_accuracy: 0.3421\n",
      "\n",
      "Epoch 00006: val_loss did not improve from 2.29773\n",
      "Epoch 7/10\n",
      "8/8 [==============================] - 3s 384ms/step - loss: 0.8574 - accuracy: 0.7338 - val_loss: 2.5326 - val_accuracy: 0.3641\n",
      "\n",
      "Epoch 00007: val_loss did not improve from 2.29773\n",
      "Epoch 00007: early stopping\n"
     ]
    },
    {
     "data": {
      "text/plain": [
       "<tensorflow.python.keras.callbacks.History at 0x7fa1a47aaf70>"
      ]
     },
     "execution_count": 183,
     "metadata": {},
     "output_type": "execute_result"
    }
   ],
   "source": [
    "reduce_lr = tf.keras.callbacks.ReduceLROnPlateau(monitor='val_loss', factor=0.5, patience=5, min_lr=0.00001)\n",
    "checkpoint = tf.keras.callbacks.ModelCheckpoint(name + '.h5', verbose=1, save_best_only=True, monitor='val_loss', mode='min')\n",
    "es = tf.keras.callbacks.EarlyStopping(\n",
    "    monitor='val_loss', min_delta=0.000, patience=5, verbose=1,\n",
    "    mode='auto', baseline=None, restore_best_weights=False\n",
    ")\n",
    "\n",
    "\n",
    "model_x.compile(optimizer='adam',\n",
    "              loss=tf.keras.losses.SparseCategoricalCrossentropy(from_logits=True),\n",
    "              metrics=['accuracy'])\n",
    "\n",
    "model_x.fit(X_train_polar[:1000], train_labels[:1000], batch_size=128, epochs=10, \n",
    "          validation_data=(X_test_r_polar, test_labels),\n",
    "          callbacks=[reduce_lr, checkpoint, es])"
   ]
  },
  {
   "cell_type": "code",
   "execution_count": null,
   "metadata": {},
   "outputs": [],
   "source": []
  }
 ],
 "metadata": {
  "kernelspec": {
   "display_name": "p6_lab",
   "language": "python",
   "name": "p6_lab"
  },
  "language_info": {
   "codemirror_mode": {
    "name": "ipython",
    "version": 3
   },
   "file_extension": ".py",
   "mimetype": "text/x-python",
   "name": "python",
   "nbconvert_exporter": "python",
   "pygments_lexer": "ipython3",
   "version": "3.8.7"
  }
 },
 "nbformat": 4,
 "nbformat_minor": 4
}
