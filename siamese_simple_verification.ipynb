{
 "cells": [
  {
   "cell_type": "code",
   "execution_count": null,
   "metadata": {},
   "outputs": [],
   "source": [
    "### from Adrian Rosebrock: https://www.pyimagesearch.com/2020/11/23/building-image-pairs-for-siamese-networks-with-python/"
   ]
  },
  {
   "cell_type": "code",
   "execution_count": 109,
   "metadata": {},
   "outputs": [],
   "source": [
    "from tensorflow.keras import datasets, layers, models, backend as K\n",
    "\n",
    "import numpy as np\n",
    "import tensorflow as tf\n",
    "import matplotlib.pyplot as plt"
   ]
  },
  {
   "cell_type": "code",
   "execution_count": 149,
   "metadata": {},
   "outputs": [],
   "source": [
    "(x, y), (x_t, y_t) = datasets.mnist.load_data()\n",
    "x = x / 255.0\n",
    "x_t = x_t / 255.0\n",
    "\n",
    "x = np.expand_dims(x, axis=-1)\n",
    "x_t = np.expand_dims(x_t, axis=-1)"
   ]
  },
  {
   "cell_type": "code",
   "execution_count": 141,
   "metadata": {},
   "outputs": [],
   "source": [
    "def make_pairs(images, labels):\n",
    "    \"\"\"Pairs of positive and negative pairs.\"\"\"\n",
    "    pairImages = []\n",
    "    pairLabels = []\n",
    "    \n",
    "    numClasses = len(np.unique(labels))\n",
    "    idx = [np.where(labels == i)[0] for i in range(0, numClasses)]\n",
    "    \n",
    "    for idxA in range(len(images)):\n",
    "        currentImage = images[idxA]\n",
    "        label = labels[idxA]\n",
    "        \n",
    "        # Randomly pick an image of the same label\n",
    "        idxB = np.random.choice(idx[label])\n",
    "        posImage = images[idxB]\n",
    "        \n",
    "        # Add the positive pair\n",
    "        pairImages.append([currentImage, posImage])\n",
    "        pairLabels.append([1]) # 1, as they are similar (true)\n",
    "       \n",
    "        # Randomly select negative image (different label)\n",
    "        negIdx = np.where(labels != label)[0]\n",
    "        negImage = images[np.random.choice(negIdx)]\n",
    "        \n",
    "        # Add the negative pair\n",
    "        pairImages.append([currentImage, negImage])\n",
    "        pairLabels.append([0]) # 0, as they are different (false)\n",
    "        \n",
    "    return np.asarray(pairImages), np.array(pairLabels)        "
   ]
  },
  {
   "cell_type": "code",
   "execution_count": 150,
   "metadata": {},
   "outputs": [],
   "source": [
    "pair_train, label_train = make_pairs(x, y)\n",
    "pair_test, label_test = make_pairs(x_t, y_t)"
   ]
  },
  {
   "cell_type": "code",
   "execution_count": 104,
   "metadata": {},
   "outputs": [],
   "source": [
    "def build_siamese_model(inputShape, embeddginDim=48):\n",
    "    # Specify input shape for feature extractore network\n",
    "    inputs = layers.Input(inputShape)\n",
    "    \n",
    "    # CONV => RELU => POOL => DROPOUT layers\n",
    "    x = layers.Conv2D(64, (3,3), padding='same', activation='relu')(inputs)\n",
    "    x = layers.MaxPool2D(pool_size=(2,2))(x)\n",
    "    x = layers.Dropout(.3)(x)\n",
    "    \n",
    "    # CONV => RELU => POOL => DROPOUT layers\n",
    "    x = layers.Conv2D(64, (3,3), padding='same', activation='relu')(x)\n",
    "    x = layers.MaxPool2D(pool_size=(2,2))(x)\n",
    "    x = layers.Dropout(.3)(x)\n",
    "    \n",
    "    # Prepare final outputs\n",
    "    pooledOutput = layers.GlobalMaxPool2D()(x)\n",
    "    outputs = layers.Dense(embeddginDim)(pooledOutput)\n",
    "    \n",
    "    # Build model\n",
    "    model = models.Model(inputs, outputs)\n",
    "    \n",
    "    return model"
   ]
  },
  {
   "cell_type": "code",
   "execution_count": 144,
   "metadata": {},
   "outputs": [],
   "source": [
    "def euclidean_distance(vectors):\n",
    "    # Unpack vectors\n",
    "    (feats_a, feats_b) = vectors\n",
    "    \n",
    "    # Compute sum of squared distance between vectors\n",
    "    sum_squared = K.sum(K.square(feats_a - feats_b), axis=1, keepdims =True)\n",
    "    \n",
    "    # Return euclidean dist. between the vectors\n",
    "    return K.sqrt(K.maximum(sum_squared, K.epsilon())) "
   ]
  },
  {
   "cell_type": "code",
   "execution_count": 287,
   "metadata": {},
   "outputs": [],
   "source": [
    "def plot_training(H, plotpath):\n",
    "    plt.style.use('ggplot')\n",
    "    plt.figure()\n",
    "    plt.plot(H.history[\"loss\"], label=\"train_loss\")\n",
    "    plt.plot(H.history[\"val_loss\"], label=\"val_loss\")\n",
    "    plt.plot(H.history[\"accuracy\"], label=\"train_acc\")\n",
    "    plt.plot(H.history[\"val_accuracy\"], label=\"val_acc\")\n",
    "    plt.title(\"Training Loss and Accuracy\")\n",
    "    plt.xlabel(\"Epoch #\")\n",
    "    plt.ylabel(\"Loss/Accruacy\")\n",
    "    plt.legend(loc=\"center right\")\n",
    "    plt.savefig(plotpath)"
   ]
  },
  {
   "cell_type": "code",
   "execution_count": 153,
   "metadata": {},
   "outputs": [],
   "source": [
    "IMG_SHAPE = (28, 28, 1)\n",
    "# Configure siamese network\n",
    "img_a = layers.Input(shape=IMG_SHAPE)\n",
    "img_b = layers.Input(shape=IMG_SHAPE)\n",
    "feature_extractor = build_siamese_model(IMG_SHAPE)\n",
    "feats_a = feature_extractor(img_a)\n",
    "feats_b = feature_extractor(img_b)\n",
    "\n",
    "# Construct network\n",
    "distance = layers.Lambda(euclidean_distance)([feats_a, feats_b])\n",
    "outputs = layers.Dense(1, activation=\"sigmoid\")(distance)\n",
    "model = models.Model(inputs=[img_a, img_b], outputs=outputs)"
   ]
  },
  {
   "cell_type": "code",
   "execution_count": 161,
   "metadata": {},
   "outputs": [],
   "source": [
    "# Compile model\n",
    "model.compile(loss=\"binary_crossentropy\", optimizer=\"adam\", metrics=[\"accuracy\"])"
   ]
  },
  {
   "cell_type": "code",
   "execution_count": 162,
   "metadata": {},
   "outputs": [
    {
     "name": "stdout",
     "output_type": "stream",
     "text": [
      "Epoch 1/10\n",
      "3750/3750 [==============================] - 164s 44ms/step - loss: 0.5647 - accuracy: 0.6769 - val_loss: 0.3423 - val_accuracy: 0.8721\n",
      "Epoch 2/10\n",
      "3750/3750 [==============================] - 172s 46ms/step - loss: 0.3180 - accuracy: 0.8823 - val_loss: 0.2620 - val_accuracy: 0.8926\n",
      "Epoch 3/10\n",
      "3750/3750 [==============================] - 164s 44ms/step - loss: 0.2449 - accuracy: 0.9101 - val_loss: 0.2719 - val_accuracy: 0.8763\n",
      "Epoch 4/10\n",
      "3750/3750 [==============================] - 167s 44ms/step - loss: 0.2114 - accuracy: 0.9215 - val_loss: 0.2178 - val_accuracy: 0.9090\n",
      "Epoch 5/10\n",
      "3750/3750 [==============================] - 143s 38ms/step - loss: 0.1865 - accuracy: 0.9297 - val_loss: 0.2436 - val_accuracy: 0.8878\n",
      "Epoch 6/10\n",
      "3750/3750 [==============================] - 151s 40ms/step - loss: 0.1732 - accuracy: 0.9347 - val_loss: 0.2316 - val_accuracy: 0.8960\n",
      "Epoch 7/10\n",
      "3750/3750 [==============================] - 157s 42ms/step - loss: 0.1638 - accuracy: 0.9381 - val_loss: 0.2141 - val_accuracy: 0.9061\n",
      "Epoch 8/10\n",
      "3750/3750 [==============================] - 154s 41ms/step - loss: 0.1512 - accuracy: 0.9442 - val_loss: 0.2242 - val_accuracy: 0.9004\n",
      "Epoch 9/10\n",
      "3750/3750 [==============================] - 152s 41ms/step - loss: 0.1500 - accuracy: 0.9439 - val_loss: 0.2158 - val_accuracy: 0.9064\n",
      "Epoch 10/10\n",
      "3750/3750 [==============================] - 152s 41ms/step - loss: 0.1414 - accuracy: 0.9460 - val_loss: 0.2274 - val_accuracy: 0.9008\n"
     ]
    }
   ],
   "source": [
    "# Train\n",
    "history = model.fit([pair_train[:, 0], pair_train[:, 1]], label_train[:], \n",
    "                    validation_data=([pair_test[:, 0], pair_test[:, 1]], label_test[:]),\n",
    "                    batch_size=32,\n",
    "                    epochs=10)"
   ]
  },
  {
   "cell_type": "code",
   "execution_count": 277,
   "metadata": {},
   "outputs": [
    {
     "name": "stdout",
     "output_type": "stream",
     "text": [
      "0.9685\n"
     ]
    }
   ],
   "source": [
    "threshold = .9 # better than .5\n",
    "predictions = model.predict([pair_test[:, 0], pair_test[:, 1]])\n",
    "positive_pairs_score = [1 if predictions[i] >= threshold else 0 for i in range(0, len(predictions), 2)]\n",
    "negative_pairs_score = [1 if predictions[i] <= threshold else 0 for i in range(1, len(predictions), 2)]\n",
    "\n",
    "accuraccy = (np.sum(positive_pairs_score) + np.sum(negative_pairs_score)) / len(predictions)\n",
    "print(accuraccy)"
   ]
  },
  {
   "cell_type": "code",
   "execution_count": 288,
   "metadata": {},
   "outputs": [
    {
     "data": {
      "image/png": "[encoded data removed]",
      "text/plain": [
       "<Figure size 432x288 with 1 Axes>"
      ]
     },
     "metadata": {},
     "output_type": "display_data"
    }
   ],
   "source": [
    "plot_training(history, 'siamese_s_verification_traning')"
   ]
  },
  {
   "cell_type": "code",
   "execution_count": null,
   "metadata": {},
   "outputs": [],
   "source": []
  }
 ],
 "metadata": {
  "kernelspec": {
   "display_name": "p6_lab",
   "language": "python",
   "name": "p6_lab"
  },
  "language_info": {
   "codemirror_mode": {
    "name": "ipython",
    "version": 3
   },
   "file_extension": ".py",
   "mimetype": "text/x-python",
   "name": "python",
   "nbconvert_exporter": "python",
   "pygments_lexer": "ipython3",
   "version": "3.8.7"
  }
 },
 "nbformat": 4,
 "nbformat_minor": 4
}
