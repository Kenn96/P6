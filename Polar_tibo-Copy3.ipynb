{
 "cells": [
  {
   "cell_type": "code",
   "execution_count": 1,
   "metadata": {},
   "outputs": [],
   "source": [
    "from tensorflow.keras import datasets, layers, models\n",
    "\n",
    "import cv2 as cv\n",
    "import numpy as np\n",
    "import tensorflow as tf\n",
    "import tensorflow_addons as tfa"
   ]
  },
  {
   "cell_type": "code",
   "execution_count": 2,
   "metadata": {},
   "outputs": [],
   "source": [
    "def padImage(image, pixels=5):\n",
    "    bottom = image[-pixels:]\n",
    "    top = image[:pixels]\n",
    "\n",
    "    img = np.insert(image, 0, bottom, 0)\n",
    "    img = np.insert(img, len(img), top, 0)\n",
    "    img = np.insert(img, [0], [0] * pixels, 1)\n",
    "    img = np.insert(img, [-1], [0] * pixels, 1)\n",
    "    return img"
   ]
  },
  {
   "cell_type": "code",
   "execution_count": 3,
   "metadata": {},
   "outputs": [],
   "source": [
    "(train_images, train_labels), (test_images, test_labels) = datasets.mnist.load_data()\n",
    "# Normalize pixel values to be between 0 and 1\n",
    "train_images, test_images = (train_images / 255.0).astype(np.float32), test_images.astype(np.float32) / 255.0"
   ]
  },
  {
   "cell_type": "code",
   "execution_count": 4,
   "metadata": {},
   "outputs": [],
   "source": [
    "### THE PAD HAS TO BE DONE IN THE\n",
    "### POLAR SPACE\n",
    "\n",
    "# 20 is the ceiling of (14 * sqrt(2))\n",
    "X_train_polar = [cv.linearPolar(x, tuple(np.array(x.shape)/2), 20, cv.WARP_FILL_OUTLIERS) for x in train_images]\n",
    "X_train_polar = [padImage(x, pixels=5) for x in X_train_polar]\n",
    "X_train_polar = np.array(X_train_polar)[...,None]\n",
    "\n",
    "X_test_polar = [cv.linearPolar(x, tuple(np.array(x.shape)/2), 20, cv.WARP_FILL_OUTLIERS) for x in test_images]\n",
    "X_test_polar = [padImage(x, pixels=5) for x in X_test_polar]\n",
    "X_test_polar = np.array(X_test_polar)[...,None]\n",
    "\n",
    "# Rotate test set\n",
    "X_test_r_polar = [tfa.image.rotate(x, np.random.uniform(-np.pi/2., np.pi/2.)).numpy() for x in test_images]\n",
    "X_test_r_polar = [cv.linearPolar(x, tuple(np.array(x.shape)/2), 20, cv.WARP_FILL_OUTLIERS) for x in X_test_r_polar]\n",
    "X_test_r_polar = [padImage(x, pixels=5) for x in X_test_r_polar]\n",
    "X_test_r_polar = np.array(X_test_r_polar)[...,None]"
   ]
  },
  {
   "cell_type": "code",
   "execution_count": 28,
   "metadata": {},
   "outputs": [],
   "source": [
    "model = models.Sequential()\n",
    "model.add(layers.Input(shape=X_train_polar.shape[1:]))\n",
    "model.add(layers.Conv2D(32, (3, 3), activation='relu'))\n",
    "model.add(layers.MaxPooling2D())\n",
    "model.add(layers.LayerNormalization(axis=-1, epsilon=0.001, center=True, scale=True))\n",
    "model.add(layers.Dropout(rate=0.5))\n",
    "model.add(layers.Conv2D(64, (3, 3), activation='relu'))\n",
    "model.add(layers.MaxPooling2D())\n",
    "model.add(layers.LayerNormalization(axis=-1, epsilon=0.001, center=True, scale=True))\n",
    "model.add(layers.Dropout(rate=0.5))\n",
    "model.add(layers.Conv2D(128, (3, 3), activation='relu'))\n",
    "\n",
    "\n",
    "model.add(layers.GlobalMaxPooling2D())\n",
    "model.add(layers.LayerNormalization(axis=-1, epsilon=0.001, center=True, scale=True))\n",
    "model.add(layers.Dropout(rate=0.3))\n",
    "model.add(layers.Dense(64, activation='relu'))\n",
    "model.add(layers.Dense(10))"
   ]
  },
  {
   "cell_type": "code",
   "execution_count": 29,
   "metadata": {},
   "outputs": [
    {
     "name": "stdout",
     "output_type": "stream",
     "text": [
      "Epoch 1/10\n",
      "1875/1875 [==============================] - 99s 52ms/step - loss: 1.0635 - accuracy: 0.6302 - val_loss: 0.4357 - val_accuracy: 0.8660\n",
      "Epoch 2/10\n",
      "1875/1875 [==============================] - 107s 57ms/step - loss: 0.1954 - accuracy: 0.9389 - val_loss: 0.4668 - val_accuracy: 0.8486\n",
      "Epoch 3/10\n",
      "1875/1875 [==============================] - 108s 58ms/step - loss: 0.1471 - accuracy: 0.9547 - val_loss: 0.3880 - val_accuracy: 0.8685\n",
      "Epoch 4/10\n",
      "1875/1875 [==============================] - 107s 57ms/step - loss: 0.1223 - accuracy: 0.9623 - val_loss: 0.4141 - val_accuracy: 0.8668\n",
      "Epoch 5/10\n",
      "1875/1875 [==============================] - 108s 57ms/step - loss: 0.1111 - accuracy: 0.9660 - val_loss: 0.3754 - val_accuracy: 0.8815\n",
      "Epoch 6/10\n",
      "1875/1875 [==============================] - 107s 57ms/step - loss: 0.1031 - accuracy: 0.9679 - val_loss: 0.3487 - val_accuracy: 0.8869\n",
      "Epoch 7/10\n",
      "1875/1875 [==============================] - 107s 57ms/step - loss: 0.0989 - accuracy: 0.9701 - val_loss: 0.4555 - val_accuracy: 0.8641\n",
      "Epoch 8/10\n",
      "1875/1875 [==============================] - 107s 57ms/step - loss: 0.0877 - accuracy: 0.9732 - val_loss: 0.4009 - val_accuracy: 0.8772\n",
      "Epoch 9/10\n",
      "1875/1875 [==============================] - 108s 57ms/step - loss: 0.0824 - accuracy: 0.9734 - val_loss: 0.4142 - val_accuracy: 0.8736\n",
      "Epoch 10/10\n",
      "1875/1875 [==============================] - 130s 70ms/step - loss: 0.0869 - accuracy: 0.9727 - val_loss: 0.3697 - val_accuracy: 0.8810\n"
     ]
    },
    {
     "data": {
      "text/plain": [
       "<tensorflow.python.keras.callbacks.History at 0x7f9d4925d9a0>"
      ]
     },
     "execution_count": 29,
     "metadata": {},
     "output_type": "execute_result"
    }
   ],
   "source": [
    "reduce_lr = tf.keras.callbacks.ReduceLROnPlateau(monitor='val_loss', factor=0.5, patience=5, min_lr=0.00001)\n",
    "model.compile(optimizer='adam',\n",
    "              loss=tf.keras.losses.SparseCategoricalCrossentropy(from_logits=True),\n",
    "              metrics=['accuracy'])\n",
    "model.fit(X_train_polar, train_labels, batch_size=32, epochs=10, \n",
    "          validation_data=(X_test_r_polar, test_labels),\n",
    "          callbacks=[reduce_lr])"
   ]
  },
  {
   "cell_type": "code",
   "execution_count": 10,
   "metadata": {},
   "outputs": [
    {
     "name": "stdout",
     "output_type": "stream",
     "text": [
      "59.95 41.4\n"
     ]
    }
   ],
   "source": [
    "# Plain accuracy\n",
    "accuracy = np.mean(model.predict(X_test_polar).argmax(axis=1) == test_labels)*100\n",
    "# \"Rotated\" accuracy\n",
    "accuracy_rotated = np.mean(model.predict(X_test_r_polar).argmax(axis=1) == test_labels)*100\n",
    "\n",
    "print(accuracy, accuracy_rotated)"
   ]
  },
  {
   "cell_type": "code",
   "execution_count": null,
   "metadata": {},
   "outputs": [],
   "source": []
  }
 ],
 "metadata": {
  "kernelspec": {
   "display_name": "p6_lab",
   "language": "python",
   "name": "p6_lab"
  },
  "language_info": {
   "codemirror_mode": {
    "name": "ipython",
    "version": 3
   },
   "file_extension": ".py",
   "mimetype": "text/x-python",
   "name": "python",
   "nbconvert_exporter": "python",
   "pygments_lexer": "ipython3",
   "version": "3.8.7"
  }
 },
 "nbformat": 4,
 "nbformat_minor": 4
}
